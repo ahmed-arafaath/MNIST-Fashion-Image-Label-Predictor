{
 "cells": [
  {
   "cell_type": "markdown",
   "id": "72e701fa",
   "metadata": {},
   "source": [
    "# Best accuracy yet is 88.95%"
   ]
  },
  {
   "cell_type": "markdown",
   "id": "914c88d9",
   "metadata": {},
   "source": [
    "### Mini kaggle competition\n",
    "\n",
    " \n",
    "\n",
    "Use the techniques we learned in W2 and W3, build and train a deep network for the fashion MNIST classification for the best accuracy. The goal is to get the best accuracy on the test data set.\n",
    "\n",
    "We will use the same dataset from keras. \n",
    "\n",
    "fashion_mnist = keras.datasets.fashion_mnist\n",
    "(X_train_full, y_train_full), (X_test, y_test) = fashion_mnist.load_data()\n",
    "\n",
    "Grading policy\n",
    "\n",
    "Please take this homework as a mini kaggle competition. In your submission you will show your effort of trying different approachs to improve your model. Based on your best accuracy, the upper 50% homework will get 10 points. The lower 50% will get 9 points. \n",
    "\n",
    "Please submit the homework in both Jupyter and HTML format. Please include your best accuracy on the top of your notebook."
   ]
  },
  {
   "cell_type": "code",
   "execution_count": 1,
   "id": "a8def491",
   "metadata": {},
   "outputs": [],
   "source": [
    "import tensorflow as tf\n",
    "from tensorflow import keras\n",
    "from keras.datasets import fashion_mnist\n",
    "from keras.models import Sequential\n",
    "from keras.layers import Dense, Activation, Flatten, Dropout\n",
    "\n",
    "import pandas as pd\n",
    "import numpy as np\n",
    "import os\n",
    "import matplotlib.pyplot as plt\n",
    "\n",
    "#grid search\n",
    "from keras.optimizers import *\n",
    "from keras.wrappers.scikit_learn import KerasClassifier\n",
    "from sklearn.model_selection import GridSearchCV\n",
    "import pprint\n",
    "pp = pprint.PrettyPrinter(indent = 4)"
   ]
  },
  {
   "cell_type": "code",
   "execution_count": null,
   "id": "03e3ae1c",
   "metadata": {},
   "outputs": [],
   "source": []
  },
  {
   "cell_type": "code",
   "execution_count": 2,
   "id": "f5982df5",
   "metadata": {},
   "outputs": [],
   "source": [
    "fashion_mnist = keras.datasets.fashion_mnist\n",
    "(x_train_full, y_train_full), (x_test, y_test) = fashion_mnist.load_data()\n",
    "\n",
    "#Normalize the dataset\n",
    "x_valid, x_train = x_train_full[:5000] / 255., x_train_full[5000:] / 255.\n",
    "y_valid, y_train = y_train_full[:5000], y_train_full[5000:]\n",
    "x_test = x_test / 255."
   ]
  },
  {
   "cell_type": "code",
   "execution_count": 3,
   "id": "53153253",
   "metadata": {},
   "outputs": [
    {
     "data": {
      "text/plain": [
       "(55000, 28, 28)"
      ]
     },
     "execution_count": 3,
     "metadata": {},
     "output_type": "execute_result"
    }
   ],
   "source": [
    "x_train.shape"
   ]
  },
  {
   "cell_type": "markdown",
   "id": "ca3ef34f",
   "metadata": {},
   "source": [
    "# -------------------------------------------------------------------------------------------"
   ]
  },
  {
   "cell_type": "code",
   "execution_count": 5,
   "id": "0bdf3007",
   "metadata": {},
   "outputs": [
    {
     "name": "stderr",
     "output_type": "stream",
     "text": [
      "2022-02-12 04:43:54.280253: I tensorflow/core/platform/cpu_feature_guard.cc:151] This TensorFlow binary is optimized with oneAPI Deep Neural Network Library (oneDNN) to use the following CPU instructions in performance-critical operations:  AVX2 FMA\n",
      "To enable them in other operations, rebuild TensorFlow with the appropriate compiler flags.\n"
     ]
    }
   ],
   "source": [
    "# building a pyramid scheme neural network\n",
    "model = Sequential([\n",
    "    Flatten(input_shape=[28, 28]),\n",
    "    Dense(300, activation=\"selu\", kernel_initializer='he_normal'),\n",
    "    Dense(100, activation=\"selu\", kernel_initializer='he_normal'),\n",
    "    Dense(100, activation=\"selu\", kernel_initializer='he_normal'),\n",
    "    Dense(10, activation=\"softmax\", kernel_initializer='he_normal')\n",
    "])"
   ]
  },
  {
   "cell_type": "code",
   "execution_count": 7,
   "id": "6e475b6a",
   "metadata": {},
   "outputs": [
    {
     "name": "stdout",
     "output_type": "stream",
     "text": [
      "Model: \"sequential\"\n",
      "_________________________________________________________________\n",
      " Layer (type)                Output Shape              Param #   \n",
      "=================================================================\n",
      " flatten (Flatten)           (None, 784)               0         \n",
      "                                                                 \n",
      " dense (Dense)               (None, 300)               235500    \n",
      "                                                                 \n",
      " dense_1 (Dense)             (None, 100)               30100     \n",
      "                                                                 \n",
      " dense_2 (Dense)             (None, 100)               10100     \n",
      "                                                                 \n",
      " dense_3 (Dense)             (None, 10)                1010      \n",
      "                                                                 \n",
      "=================================================================\n",
      "Total params: 276,710\n",
      "Trainable params: 276,710\n",
      "Non-trainable params: 0\n",
      "_________________________________________________________________\n"
     ]
    }
   ],
   "source": [
    "model.summary()"
   ]
  },
  {
   "cell_type": "code",
   "execution_count": 6,
   "id": "38447e83",
   "metadata": {},
   "outputs": [],
   "source": [
    "model.compile(loss=\"sparse_categorical_crossentropy\",\n",
    "              optimizer=keras.optimizers.SGD(learning_rate=1e-3),\n",
    "              metrics=[\"accuracy\"])"
   ]
  },
  {
   "cell_type": "code",
   "execution_count": 10,
   "id": "47e96651",
   "metadata": {},
   "outputs": [
    {
     "name": "stdout",
     "output_type": "stream",
     "text": [
      "Epoch 1/50\n",
      "1719/1719 [==============================] - 6s 3ms/step - loss: 0.8052 - accuracy: 0.7237 - val_loss: 0.5756 - val_accuracy: 0.8008\n",
      "Epoch 2/50\n",
      "1719/1719 [==============================] - 5s 3ms/step - loss: 0.5439 - accuracy: 0.8084 - val_loss: 0.5039 - val_accuracy: 0.8254\n",
      "Epoch 3/50\n",
      "1719/1719 [==============================] - 6s 3ms/step - loss: 0.4922 - accuracy: 0.8260 - val_loss: 0.4717 - val_accuracy: 0.8344\n",
      "Epoch 4/50\n",
      "1719/1719 [==============================] - 6s 3ms/step - loss: 0.4649 - accuracy: 0.8351 - val_loss: 0.4503 - val_accuracy: 0.8440\n",
      "Epoch 5/50\n",
      "1719/1719 [==============================] - 5s 3ms/step - loss: 0.4467 - accuracy: 0.8422 - val_loss: 0.4371 - val_accuracy: 0.8500\n",
      "Epoch 6/50\n",
      "1719/1719 [==============================] - 4s 2ms/step - loss: 0.4321 - accuracy: 0.8471 - val_loss: 0.4346 - val_accuracy: 0.8502\n",
      "Epoch 7/50\n",
      "1719/1719 [==============================] - 5s 3ms/step - loss: 0.4216 - accuracy: 0.8515 - val_loss: 0.4201 - val_accuracy: 0.8520\n",
      "Epoch 8/50\n",
      "1719/1719 [==============================] - 4s 3ms/step - loss: 0.4129 - accuracy: 0.8527 - val_loss: 0.4101 - val_accuracy: 0.8586\n",
      "Epoch 9/50\n",
      "1719/1719 [==============================] - 6s 3ms/step - loss: 0.4047 - accuracy: 0.8558 - val_loss: 0.4040 - val_accuracy: 0.8614\n",
      "Epoch 10/50\n",
      "1719/1719 [==============================] - 5s 3ms/step - loss: 0.3977 - accuracy: 0.8590 - val_loss: 0.3998 - val_accuracy: 0.8618\n",
      "Epoch 11/50\n",
      "1719/1719 [==============================] - 4s 3ms/step - loss: 0.3913 - accuracy: 0.8613 - val_loss: 0.3944 - val_accuracy: 0.8638\n",
      "Epoch 12/50\n",
      "1719/1719 [==============================] - 5s 3ms/step - loss: 0.3856 - accuracy: 0.8636 - val_loss: 0.3940 - val_accuracy: 0.8650\n",
      "Epoch 13/50\n",
      "1719/1719 [==============================] - 4s 3ms/step - loss: 0.3802 - accuracy: 0.8645 - val_loss: 0.3887 - val_accuracy: 0.8648\n",
      "Epoch 14/50\n",
      "1719/1719 [==============================] - 5s 3ms/step - loss: 0.3761 - accuracy: 0.8663 - val_loss: 0.3869 - val_accuracy: 0.8650\n",
      "Epoch 15/50\n",
      "1719/1719 [==============================] - 5s 3ms/step - loss: 0.3712 - accuracy: 0.8687 - val_loss: 0.3804 - val_accuracy: 0.8710\n",
      "Epoch 16/50\n",
      "1719/1719 [==============================] - 4s 3ms/step - loss: 0.3676 - accuracy: 0.8699 - val_loss: 0.3809 - val_accuracy: 0.8694\n",
      "Epoch 17/50\n",
      "1719/1719 [==============================] - 4s 3ms/step - loss: 0.3633 - accuracy: 0.8713 - val_loss: 0.3767 - val_accuracy: 0.8684\n",
      "Epoch 18/50\n",
      "1719/1719 [==============================] - 5s 3ms/step - loss: 0.3596 - accuracy: 0.8735 - val_loss: 0.3704 - val_accuracy: 0.8688\n",
      "Epoch 19/50\n",
      "1719/1719 [==============================] - 5s 3ms/step - loss: 0.3561 - accuracy: 0.8738 - val_loss: 0.3723 - val_accuracy: 0.8686\n",
      "Epoch 20/50\n",
      "1719/1719 [==============================] - 4s 3ms/step - loss: 0.3527 - accuracy: 0.8746 - val_loss: 0.3694 - val_accuracy: 0.8718\n",
      "Epoch 21/50\n",
      "1719/1719 [==============================] - 4s 2ms/step - loss: 0.3496 - accuracy: 0.8754 - val_loss: 0.3675 - val_accuracy: 0.8720\n",
      "Epoch 22/50\n",
      "1719/1719 [==============================] - 4s 2ms/step - loss: 0.3468 - accuracy: 0.8771 - val_loss: 0.3639 - val_accuracy: 0.8748\n",
      "Epoch 23/50\n",
      "1719/1719 [==============================] - 5s 3ms/step - loss: 0.3436 - accuracy: 0.8785 - val_loss: 0.3633 - val_accuracy: 0.8716\n",
      "Epoch 24/50\n",
      "1719/1719 [==============================] - 6s 4ms/step - loss: 0.3408 - accuracy: 0.8787 - val_loss: 0.3612 - val_accuracy: 0.8724\n",
      "Epoch 25/50\n",
      "1719/1719 [==============================] - 6s 3ms/step - loss: 0.3380 - accuracy: 0.8801 - val_loss: 0.3586 - val_accuracy: 0.8730\n",
      "Epoch 26/50\n",
      "1719/1719 [==============================] - 6s 3ms/step - loss: 0.3359 - accuracy: 0.8811 - val_loss: 0.3591 - val_accuracy: 0.8746\n",
      "Epoch 27/50\n",
      "1719/1719 [==============================] - 5s 3ms/step - loss: 0.3335 - accuracy: 0.8817 - val_loss: 0.3547 - val_accuracy: 0.8748\n",
      "Epoch 28/50\n",
      "1719/1719 [==============================] - 5s 3ms/step - loss: 0.3310 - accuracy: 0.8829 - val_loss: 0.3598 - val_accuracy: 0.8748\n",
      "Epoch 29/50\n",
      "1719/1719 [==============================] - 6s 3ms/step - loss: 0.3292 - accuracy: 0.8835 - val_loss: 0.3496 - val_accuracy: 0.8738\n",
      "Epoch 30/50\n",
      "1719/1719 [==============================] - 4s 2ms/step - loss: 0.3264 - accuracy: 0.8845 - val_loss: 0.3590 - val_accuracy: 0.8768\n",
      "Epoch 31/50\n",
      "1719/1719 [==============================] - 5s 3ms/step - loss: 0.3237 - accuracy: 0.8845 - val_loss: 0.3518 - val_accuracy: 0.8762\n",
      "Epoch 32/50\n",
      "1719/1719 [==============================] - 5s 3ms/step - loss: 0.3223 - accuracy: 0.8850 - val_loss: 0.3513 - val_accuracy: 0.8756\n",
      "Epoch 33/50\n",
      "1719/1719 [==============================] - 4s 3ms/step - loss: 0.3201 - accuracy: 0.8865 - val_loss: 0.3486 - val_accuracy: 0.8772\n",
      "Epoch 34/50\n",
      "1719/1719 [==============================] - 6s 4ms/step - loss: 0.3187 - accuracy: 0.8864 - val_loss: 0.3454 - val_accuracy: 0.8760\n",
      "Epoch 35/50\n",
      "1719/1719 [==============================] - 6s 3ms/step - loss: 0.3160 - accuracy: 0.8876 - val_loss: 0.3498 - val_accuracy: 0.8764\n",
      "Epoch 36/50\n",
      "1719/1719 [==============================] - 5s 3ms/step - loss: 0.3140 - accuracy: 0.8881 - val_loss: 0.3489 - val_accuracy: 0.8766\n",
      "Epoch 37/50\n",
      "1719/1719 [==============================] - 5s 3ms/step - loss: 0.3120 - accuracy: 0.8893 - val_loss: 0.3399 - val_accuracy: 0.8784\n",
      "Epoch 38/50\n",
      "1719/1719 [==============================] - 5s 3ms/step - loss: 0.3106 - accuracy: 0.8892 - val_loss: 0.3440 - val_accuracy: 0.8790\n",
      "Epoch 39/50\n",
      "1719/1719 [==============================] - 5s 3ms/step - loss: 0.3087 - accuracy: 0.8899 - val_loss: 0.3394 - val_accuracy: 0.8790\n",
      "Epoch 40/50\n",
      "1719/1719 [==============================] - 5s 3ms/step - loss: 0.3067 - accuracy: 0.8913 - val_loss: 0.3398 - val_accuracy: 0.8762\n",
      "Epoch 41/50\n",
      "1719/1719 [==============================] - 6s 3ms/step - loss: 0.3052 - accuracy: 0.8914 - val_loss: 0.3383 - val_accuracy: 0.8806\n",
      "Epoch 42/50\n",
      "1719/1719 [==============================] - 5s 3ms/step - loss: 0.3037 - accuracy: 0.8915 - val_loss: 0.3367 - val_accuracy: 0.8790\n",
      "Epoch 43/50\n",
      "1719/1719 [==============================] - 6s 3ms/step - loss: 0.3016 - accuracy: 0.8934 - val_loss: 0.3338 - val_accuracy: 0.8794\n",
      "Epoch 44/50\n",
      "1719/1719 [==============================] - 5s 3ms/step - loss: 0.3002 - accuracy: 0.8930 - val_loss: 0.3512 - val_accuracy: 0.8766\n",
      "Epoch 45/50\n",
      "1719/1719 [==============================] - 4s 3ms/step - loss: 0.2988 - accuracy: 0.8932 - val_loss: 0.3354 - val_accuracy: 0.8822\n",
      "Epoch 46/50\n",
      "1719/1719 [==============================] - 4s 3ms/step - loss: 0.2972 - accuracy: 0.8940 - val_loss: 0.3352 - val_accuracy: 0.8814\n",
      "Epoch 47/50\n",
      "1719/1719 [==============================] - 4s 3ms/step - loss: 0.2953 - accuracy: 0.8955 - val_loss: 0.3320 - val_accuracy: 0.8806\n",
      "Epoch 48/50\n",
      "1719/1719 [==============================] - 5s 3ms/step - loss: 0.2940 - accuracy: 0.8952 - val_loss: 0.3288 - val_accuracy: 0.8808\n",
      "Epoch 49/50\n",
      "1719/1719 [==============================] - 5s 3ms/step - loss: 0.2928 - accuracy: 0.8953 - val_loss: 0.3282 - val_accuracy: 0.8828\n",
      "Epoch 50/50\n",
      "1719/1719 [==============================] - 10s 6ms/step - loss: 0.2908 - accuracy: 0.8966 - val_loss: 0.3291 - val_accuracy: 0.8828\n"
     ]
    }
   ],
   "source": [
    "history = model.fit(x_train, y_train, epochs=50,\n",
    "                    validation_data=(x_valid, y_valid))"
   ]
  },
  {
   "cell_type": "code",
   "execution_count": 13,
   "id": "5baece74",
   "metadata": {},
   "outputs": [
    {
     "data": {
      "image/png": "[encoded data removed]",
      "text/plain": [
       "<Figure size 576x360 with 1 Axes>"
      ]
     },
     "metadata": {
      "needs_background": "light"
     },
     "output_type": "display_data"
    }
   ],
   "source": [
    "# Learning curve\n",
    "pd.DataFrame(history.history).plot(figsize=(8, 5))\n",
    "plt.grid(True)\n",
    "plt.gca().set_ylim(0, 1)\n",
    "plt.show()"
   ]
  },
  {
   "cell_type": "code",
   "execution_count": 14,
   "id": "e7bf8f7e",
   "metadata": {},
   "outputs": [
    {
     "name": "stdout",
     "output_type": "stream",
     "text": [
      "313/313 [==============================] - 1s 2ms/step - loss: 0.3589 - accuracy: 0.8714\n"
     ]
    }
   ],
   "source": [
    "score = model.evaluate(x_test, y_test)"
   ]
  },
  {
   "cell_type": "code",
   "execution_count": 15,
   "id": "90470eac",
   "metadata": {},
   "outputs": [
    {
     "name": "stdout",
     "output_type": "stream",
     "text": [
      "Test loss: 0.35893145203590393\n",
      "Test accuracy: 0.871399998664856\n"
     ]
    }
   ],
   "source": [
    "print('Test loss:', score[0]) \n",
    "print('Test accuracy:', score[1])"
   ]
  },
  {
   "cell_type": "markdown",
   "id": "5bb29150",
   "metadata": {},
   "source": [
    "# -------------------------------------------------------------------------------------------"
   ]
  },
  {
   "cell_type": "code",
   "execution_count": 17,
   "id": "3aada0ac",
   "metadata": {},
   "outputs": [
    {
     "name": "stdout",
     "output_type": "stream",
     "text": [
      "Epoch 1/50\n",
      "430/430 - 3s - loss: 0.8375 - accuracy: 0.7184 - val_loss: 0.5006 - val_accuracy: 0.8298 - 3s/epoch - 7ms/step\n",
      "Epoch 2/50\n",
      "430/430 - 2s - loss: 0.5689 - accuracy: 0.8012 - val_loss: 0.4484 - val_accuracy: 0.8406 - 2s/epoch - 5ms/step\n",
      "Epoch 3/50\n",
      "430/430 - 2s - loss: 0.5181 - accuracy: 0.8197 - val_loss: 0.4283 - val_accuracy: 0.8528 - 2s/epoch - 5ms/step\n",
      "Epoch 4/50\n",
      "430/430 - 2s - loss: 0.4869 - accuracy: 0.8316 - val_loss: 0.4181 - val_accuracy: 0.8532 - 2s/epoch - 5ms/step\n",
      "Epoch 5/50\n",
      "430/430 - 2s - loss: 0.4669 - accuracy: 0.8369 - val_loss: 0.4092 - val_accuracy: 0.8592 - 2s/epoch - 4ms/step\n",
      "Epoch 6/50\n",
      "430/430 - 2s - loss: 0.4509 - accuracy: 0.8421 - val_loss: 0.3952 - val_accuracy: 0.8630 - 2s/epoch - 4ms/step\n",
      "Epoch 7/50\n",
      "430/430 - 2s - loss: 0.4403 - accuracy: 0.8465 - val_loss: 0.3957 - val_accuracy: 0.8630 - 2s/epoch - 5ms/step\n",
      "Epoch 8/50\n",
      "430/430 - 2s - loss: 0.4269 - accuracy: 0.8504 - val_loss: 0.3844 - val_accuracy: 0.8646 - 2s/epoch - 4ms/step\n",
      "Epoch 9/50\n",
      "430/430 - 2s - loss: 0.4185 - accuracy: 0.8522 - val_loss: 0.3791 - val_accuracy: 0.8694 - 2s/epoch - 4ms/step\n",
      "Epoch 10/50\n",
      "430/430 - 2s - loss: 0.4109 - accuracy: 0.8552 - val_loss: 0.3805 - val_accuracy: 0.8682 - 2s/epoch - 5ms/step\n",
      "Epoch 11/50\n",
      "430/430 - 2s - loss: 0.4030 - accuracy: 0.8586 - val_loss: 0.3763 - val_accuracy: 0.8698 - 2s/epoch - 4ms/step\n",
      "Epoch 12/50\n",
      "430/430 - 2s - loss: 0.3973 - accuracy: 0.8587 - val_loss: 0.3802 - val_accuracy: 0.8664 - 2s/epoch - 6ms/step\n",
      "Epoch 13/50\n",
      "430/430 - 2s - loss: 0.3898 - accuracy: 0.8621 - val_loss: 0.3699 - val_accuracy: 0.8714 - 2s/epoch - 5ms/step\n",
      "Epoch 14/50\n",
      "430/430 - 2s - loss: 0.3832 - accuracy: 0.8645 - val_loss: 0.3685 - val_accuracy: 0.8710 - 2s/epoch - 4ms/step\n",
      "Epoch 15/50\n",
      "430/430 - 2s - loss: 0.3801 - accuracy: 0.8654 - val_loss: 0.3630 - val_accuracy: 0.8718 - 2s/epoch - 5ms/step\n",
      "Epoch 16/50\n",
      "430/430 - 2s - loss: 0.3756 - accuracy: 0.8666 - val_loss: 0.3588 - val_accuracy: 0.8726 - 2s/epoch - 4ms/step\n",
      "Epoch 17/50\n",
      "430/430 - 2s - loss: 0.3705 - accuracy: 0.8687 - val_loss: 0.3566 - val_accuracy: 0.8752 - 2s/epoch - 5ms/step\n",
      "Epoch 18/50\n",
      "430/430 - 2s - loss: 0.3676 - accuracy: 0.8687 - val_loss: 0.3535 - val_accuracy: 0.8760 - 2s/epoch - 5ms/step\n",
      "Epoch 19/50\n",
      "430/430 - 2s - loss: 0.3622 - accuracy: 0.8702 - val_loss: 0.3569 - val_accuracy: 0.8760 - 2s/epoch - 5ms/step\n",
      "Epoch 20/50\n",
      "430/430 - 2s - loss: 0.3582 - accuracy: 0.8726 - val_loss: 0.3503 - val_accuracy: 0.8770 - 2s/epoch - 5ms/step\n",
      "Epoch 21/50\n",
      "430/430 - 2s - loss: 0.3559 - accuracy: 0.8725 - val_loss: 0.3523 - val_accuracy: 0.8778 - 2s/epoch - 4ms/step\n",
      "Epoch 22/50\n",
      "430/430 - 2s - loss: 0.3516 - accuracy: 0.8749 - val_loss: 0.3451 - val_accuracy: 0.8766 - 2s/epoch - 4ms/step\n",
      "Epoch 23/50\n",
      "430/430 - 2s - loss: 0.3494 - accuracy: 0.8750 - val_loss: 0.3467 - val_accuracy: 0.8764 - 2s/epoch - 5ms/step\n",
      "Epoch 24/50\n",
      "430/430 - 2s - loss: 0.3458 - accuracy: 0.8774 - val_loss: 0.3512 - val_accuracy: 0.8734 - 2s/epoch - 4ms/step\n",
      "Epoch 25/50\n",
      "430/430 - 2s - loss: 0.3443 - accuracy: 0.8776 - val_loss: 0.3419 - val_accuracy: 0.8782 - 2s/epoch - 5ms/step\n",
      "Epoch 26/50\n",
      "430/430 - 2s - loss: 0.3392 - accuracy: 0.8790 - val_loss: 0.3426 - val_accuracy: 0.8772 - 2s/epoch - 5ms/step\n",
      "Epoch 27/50\n",
      "430/430 - 2s - loss: 0.3363 - accuracy: 0.8801 - val_loss: 0.3394 - val_accuracy: 0.8798 - 2s/epoch - 5ms/step\n",
      "Epoch 28/50\n",
      "430/430 - 2s - loss: 0.3351 - accuracy: 0.8795 - val_loss: 0.3429 - val_accuracy: 0.8776 - 2s/epoch - 5ms/step\n",
      "Epoch 29/50\n",
      "430/430 - 2s - loss: 0.3305 - accuracy: 0.8822 - val_loss: 0.3391 - val_accuracy: 0.8786 - 2s/epoch - 5ms/step\n",
      "Epoch 30/50\n",
      "430/430 - 2s - loss: 0.3299 - accuracy: 0.8826 - val_loss: 0.3474 - val_accuracy: 0.8762 - 2s/epoch - 5ms/step\n",
      "Epoch 31/50\n",
      "430/430 - 2s - loss: 0.3267 - accuracy: 0.8834 - val_loss: 0.3355 - val_accuracy: 0.8802 - 2s/epoch - 5ms/step\n",
      "Epoch 32/50\n",
      "430/430 - 2s - loss: 0.3232 - accuracy: 0.8845 - val_loss: 0.3325 - val_accuracy: 0.8820 - 2s/epoch - 5ms/step\n",
      "Epoch 33/50\n",
      "430/430 - 2s - loss: 0.3212 - accuracy: 0.8849 - val_loss: 0.3309 - val_accuracy: 0.8818 - 2s/epoch - 5ms/step\n",
      "Epoch 34/50\n",
      "430/430 - 2s - loss: 0.3182 - accuracy: 0.8851 - val_loss: 0.3374 - val_accuracy: 0.8792 - 2s/epoch - 5ms/step\n",
      "Epoch 35/50\n",
      "430/430 - 2s - loss: 0.3165 - accuracy: 0.8873 - val_loss: 0.3265 - val_accuracy: 0.8830 - 2s/epoch - 5ms/step\n",
      "Epoch 36/50\n",
      "430/430 - 2s - loss: 0.3141 - accuracy: 0.8866 - val_loss: 0.3269 - val_accuracy: 0.8824 - 2s/epoch - 5ms/step\n",
      "Epoch 37/50\n",
      "430/430 - 2s - loss: 0.3115 - accuracy: 0.8877 - val_loss: 0.3261 - val_accuracy: 0.8838 - 2s/epoch - 4ms/step\n",
      "Epoch 38/50\n",
      "430/430 - 3s - loss: 0.3093 - accuracy: 0.8873 - val_loss: 0.3298 - val_accuracy: 0.8806 - 3s/epoch - 6ms/step\n",
      "Epoch 39/50\n",
      "430/430 - 2s - loss: 0.3090 - accuracy: 0.8899 - val_loss: 0.3241 - val_accuracy: 0.8846 - 2s/epoch - 6ms/step\n",
      "Epoch 40/50\n",
      "430/430 - 2s - loss: 0.3041 - accuracy: 0.8903 - val_loss: 0.3271 - val_accuracy: 0.8836 - 2s/epoch - 5ms/step\n",
      "Epoch 41/50\n",
      "430/430 - 2s - loss: 0.3042 - accuracy: 0.8907 - val_loss: 0.3233 - val_accuracy: 0.8850 - 2s/epoch - 5ms/step\n",
      "Epoch 42/50\n",
      "430/430 - 2s - loss: 0.3026 - accuracy: 0.8907 - val_loss: 0.3210 - val_accuracy: 0.8836 - 2s/epoch - 5ms/step\n",
      "Epoch 43/50\n",
      "430/430 - 3s - loss: 0.3015 - accuracy: 0.8919 - val_loss: 0.3296 - val_accuracy: 0.8820 - 3s/epoch - 6ms/step\n",
      "Epoch 44/50\n",
      "430/430 - 2s - loss: 0.2964 - accuracy: 0.8927 - val_loss: 0.3188 - val_accuracy: 0.8854 - 2s/epoch - 5ms/step\n",
      "Epoch 45/50\n",
      "430/430 - 2s - loss: 0.2961 - accuracy: 0.8921 - val_loss: 0.3182 - val_accuracy: 0.8848 - 2s/epoch - 4ms/step\n",
      "Epoch 46/50\n",
      "430/430 - 2s - loss: 0.2953 - accuracy: 0.8936 - val_loss: 0.3221 - val_accuracy: 0.8868 - 2s/epoch - 5ms/step\n",
      "Epoch 47/50\n",
      "430/430 - 3s - loss: 0.2936 - accuracy: 0.8939 - val_loss: 0.3260 - val_accuracy: 0.8826 - 3s/epoch - 7ms/step\n",
      "Epoch 48/50\n",
      "430/430 - 3s - loss: 0.2907 - accuracy: 0.8956 - val_loss: 0.3201 - val_accuracy: 0.8840 - 3s/epoch - 6ms/step\n",
      "Epoch 49/50\n",
      "430/430 - 3s - loss: 0.2892 - accuracy: 0.8947 - val_loss: 0.3225 - val_accuracy: 0.8852 - 3s/epoch - 6ms/step\n",
      "Epoch 50/50\n",
      "430/430 - 3s - loss: 0.2876 - accuracy: 0.8950 - val_loss: 0.3242 - val_accuracy: 0.8858 - 3s/epoch - 6ms/step\n"
     ]
    }
   ],
   "source": [
    "# building a pyramid scheme neural network\n",
    "model = Sequential([\n",
    "    Flatten(input_shape=[28, 28]),\n",
    "    Dense(300, activation=\"selu\", kernel_initializer='he_normal'),\n",
    "    Dense(100, activation=\"selu\", kernel_initializer='he_normal'),\n",
    "    Dense(100, activation=\"selu\", kernel_initializer='he_normal'),\n",
    "    Dropout(0.4),\n",
    "    Dense(10, activation=\"softmax\", kernel_initializer='he_normal')\n",
    "])\n",
    "model.compile(loss=\"sparse_categorical_crossentropy\",\n",
    "              optimizer=keras.optimizers.SGD(learning_rate=0.001, momentum=0.9, nesterov=True),\n",
    "              metrics=[\"accuracy\"])\n",
    "history = model.fit(x_train, y_train,batch_size=128,epochs=50,verbose=2,validation_data=(x_valid, y_valid))"
   ]
  },
  {
   "cell_type": "code",
   "execution_count": 18,
   "id": "489e89a1",
   "metadata": {},
   "outputs": [
    {
     "data": {
      "image/png": "[encoded data removed]",
      "text/plain": [
       "<Figure size 576x360 with 1 Axes>"
      ]
     },
     "metadata": {
      "needs_background": "light"
     },
     "output_type": "display_data"
    }
   ],
   "source": [
    "# Learning curve\n",
    "pd.DataFrame(history.history).plot(figsize=(8, 5))\n",
    "plt.grid(True)\n",
    "plt.gca().set_ylim(0, 1)\n",
    "plt.show()"
   ]
  },
  {
   "cell_type": "code",
   "execution_count": 19,
   "id": "b8bd51bd",
   "metadata": {},
   "outputs": [
    {
     "name": "stdout",
     "output_type": "stream",
     "text": [
      "313/313 [==============================] - 1s 2ms/step - loss: 0.3583 - accuracy: 0.8745\n",
      "Test loss: 0.35833531618118286\n",
      "Test accuracy: 0.8744999766349792\n"
     ]
    }
   ],
   "source": [
    "score = model.evaluate(x_test, y_test)\n",
    "print('Test loss:', score[0]) \n",
    "print('Test accuracy:', score[1])"
   ]
  },
  {
   "cell_type": "markdown",
   "id": "4a7ec7c9",
   "metadata": {},
   "source": [
    "# -------------------------------------------------------------------------------------------"
   ]
  },
  {
   "cell_type": "code",
   "execution_count": 20,
   "id": "a6cdd428",
   "metadata": {},
   "outputs": [
    {
     "name": "stdout",
     "output_type": "stream",
     "text": [
      "Epoch 1/50\n",
      "430/430 - 14s - loss: 1.8915 - accuracy: 0.6530 - val_loss: 0.8041 - val_accuracy: 0.7458 - 14s/epoch - 32ms/step\n",
      "Epoch 2/50\n",
      "430/430 - 12s - loss: 0.7961 - accuracy: 0.7609 - val_loss: 0.5301 - val_accuracy: 0.8304 - 12s/epoch - 27ms/step\n",
      "Epoch 3/50\n",
      "430/430 - 12s - loss: 0.6205 - accuracy: 0.8013 - val_loss: 0.4994 - val_accuracy: 0.8250 - 12s/epoch - 27ms/step\n",
      "Epoch 4/50\n",
      "430/430 - 12s - loss: 0.5295 - accuracy: 0.8226 - val_loss: 0.6222 - val_accuracy: 0.7976 - 12s/epoch - 27ms/step\n",
      "Epoch 5/50\n",
      "430/430 - 11s - loss: 0.4811 - accuracy: 0.8347 - val_loss: 0.4499 - val_accuracy: 0.8516 - 11s/epoch - 26ms/step\n",
      "Epoch 6/50\n",
      "430/430 - 12s - loss: 0.4560 - accuracy: 0.8427 - val_loss: 0.6322 - val_accuracy: 0.7862 - 12s/epoch - 28ms/step\n",
      "Epoch 7/50\n",
      "430/430 - 13s - loss: 0.4373 - accuracy: 0.8511 - val_loss: 0.4253 - val_accuracy: 0.8482 - 13s/epoch - 30ms/step\n",
      "Epoch 8/50\n",
      "430/430 - 15s - loss: 0.4205 - accuracy: 0.8533 - val_loss: 0.3905 - val_accuracy: 0.8654 - 15s/epoch - 35ms/step\n",
      "Epoch 9/50\n",
      "430/430 - 16s - loss: 0.4094 - accuracy: 0.8594 - val_loss: 0.3851 - val_accuracy: 0.8598 - 16s/epoch - 37ms/step\n",
      "Epoch 10/50\n",
      "430/430 - 12s - loss: 0.3947 - accuracy: 0.8667 - val_loss: 0.4250 - val_accuracy: 0.8540 - 12s/epoch - 28ms/step\n",
      "Epoch 11/50\n",
      "430/430 - 13s - loss: 0.3885 - accuracy: 0.8678 - val_loss: 0.4865 - val_accuracy: 0.8490 - 13s/epoch - 31ms/step\n",
      "Epoch 12/50\n",
      "430/430 - 12s - loss: 0.3841 - accuracy: 0.8713 - val_loss: 0.4918 - val_accuracy: 0.8452 - 12s/epoch - 28ms/step\n",
      "Epoch 13/50\n",
      "430/430 - 16s - loss: 0.3779 - accuracy: 0.8738 - val_loss: 0.4441 - val_accuracy: 0.8604 - 16s/epoch - 37ms/step\n",
      "Epoch 14/50\n",
      "430/430 - 14s - loss: 0.3666 - accuracy: 0.8759 - val_loss: 0.4143 - val_accuracy: 0.8688 - 14s/epoch - 32ms/step\n",
      "Epoch 15/50\n",
      "430/430 - 12s - loss: 0.3629 - accuracy: 0.8773 - val_loss: 0.4166 - val_accuracy: 0.8690 - 12s/epoch - 27ms/step\n",
      "Epoch 16/50\n",
      "430/430 - 11s - loss: 0.3575 - accuracy: 0.8806 - val_loss: 0.5231 - val_accuracy: 0.8538 - 11s/epoch - 26ms/step\n",
      "Epoch 17/50\n",
      "430/430 - 11s - loss: 0.3927 - accuracy: 0.8825 - val_loss: 0.4803 - val_accuracy: 0.8624 - 11s/epoch - 27ms/step\n",
      "Epoch 18/50\n",
      "430/430 - 13s - loss: 0.3470 - accuracy: 0.8846 - val_loss: 0.4054 - val_accuracy: 0.8872 - 13s/epoch - 30ms/step\n",
      "Epoch 19/50\n",
      "430/430 - 11s - loss: 0.3543 - accuracy: 0.8881 - val_loss: 0.4501 - val_accuracy: 0.8532 - 11s/epoch - 25ms/step\n",
      "Epoch 20/50\n",
      "430/430 - 13s - loss: 0.3410 - accuracy: 0.8900 - val_loss: 0.5207 - val_accuracy: 0.8602 - 13s/epoch - 30ms/step\n",
      "Epoch 21/50\n",
      "430/430 - 12s - loss: 0.3295 - accuracy: 0.8909 - val_loss: 0.6445 - val_accuracy: 0.8858 - 12s/epoch - 28ms/step\n",
      "Epoch 22/50\n",
      "430/430 - 12s - loss: 0.3282 - accuracy: 0.8918 - val_loss: 0.4588 - val_accuracy: 0.8676 - 12s/epoch - 28ms/step\n",
      "Epoch 23/50\n",
      "430/430 - 13s - loss: 0.3299 - accuracy: 0.8938 - val_loss: 0.4338 - val_accuracy: 0.8754 - 13s/epoch - 29ms/step\n",
      "Epoch 24/50\n",
      "430/430 - 11s - loss: 0.3337 - accuracy: 0.8953 - val_loss: 0.4932 - val_accuracy: 0.8846 - 11s/epoch - 26ms/step\n",
      "Epoch 25/50\n",
      "430/430 - 11s - loss: 0.3313 - accuracy: 0.8950 - val_loss: 1.2644 - val_accuracy: 0.8856 - 11s/epoch - 25ms/step\n",
      "Epoch 26/50\n",
      "430/430 - 11s - loss: 0.3523 - accuracy: 0.8970 - val_loss: 0.4769 - val_accuracy: 0.8826 - 11s/epoch - 27ms/step\n",
      "Epoch 27/50\n",
      "430/430 - 13s - loss: 0.3767 - accuracy: 0.8990 - val_loss: 0.6958 - val_accuracy: 0.8696 - 13s/epoch - 30ms/step\n",
      "Epoch 28/50\n",
      "430/430 - 12s - loss: 0.3013 - accuracy: 0.9011 - val_loss: 0.6341 - val_accuracy: 0.8814 - 12s/epoch - 27ms/step\n",
      "Epoch 29/50\n",
      "430/430 - 12s - loss: 0.4753 - accuracy: 0.9008 - val_loss: 0.4925 - val_accuracy: 0.8842 - 12s/epoch - 28ms/step\n",
      "Epoch 30/50\n",
      "430/430 - 13s - loss: 0.3047 - accuracy: 0.9015 - val_loss: 0.7435 - val_accuracy: 0.8444 - 13s/epoch - 31ms/step\n",
      "Epoch 31/50\n",
      "430/430 - 12s - loss: 0.4338 - accuracy: 0.9019 - val_loss: 0.5216 - val_accuracy: 0.8918 - 12s/epoch - 29ms/step\n",
      "Epoch 32/50\n",
      "430/430 - 15s - loss: 0.2959 - accuracy: 0.9043 - val_loss: 0.7058 - val_accuracy: 0.8622 - 15s/epoch - 34ms/step\n",
      "Epoch 33/50\n",
      "430/430 - 12s - loss: 0.2956 - accuracy: 0.9037 - val_loss: 0.6351 - val_accuracy: 0.8812 - 12s/epoch - 29ms/step\n",
      "Epoch 34/50\n",
      "430/430 - 11s - loss: 0.3154 - accuracy: 0.9061 - val_loss: 0.6279 - val_accuracy: 0.8634 - 11s/epoch - 26ms/step\n",
      "Epoch 35/50\n",
      "430/430 - 19s - loss: 0.3072 - accuracy: 0.9076 - val_loss: 0.6037 - val_accuracy: 0.8874 - 19s/epoch - 44ms/step\n",
      "Epoch 36/50\n",
      "430/430 - 19s - loss: 0.3977 - accuracy: 0.9061 - val_loss: 0.4840 - val_accuracy: 0.8888 - 19s/epoch - 43ms/step\n",
      "Epoch 37/50\n",
      "430/430 - 24s - loss: 0.3102 - accuracy: 0.9093 - val_loss: 0.7472 - val_accuracy: 0.8874 - 24s/epoch - 57ms/step\n",
      "Epoch 38/50\n",
      "430/430 - 16s - loss: 0.3566 - accuracy: 0.9074 - val_loss: 0.6135 - val_accuracy: 0.8654 - 16s/epoch - 37ms/step\n",
      "Epoch 39/50\n",
      "430/430 - 16s - loss: 0.2958 - accuracy: 0.9096 - val_loss: 0.6818 - val_accuracy: 0.8838 - 16s/epoch - 38ms/step\n",
      "Epoch 40/50\n",
      "430/430 - 17s - loss: 0.2888 - accuracy: 0.9087 - val_loss: 1.0834 - val_accuracy: 0.8738 - 17s/epoch - 40ms/step\n",
      "Epoch 41/50\n",
      "430/430 - 13s - loss: 0.3719 - accuracy: 0.9097 - val_loss: 0.8522 - val_accuracy: 0.8690 - 13s/epoch - 31ms/step\n",
      "Epoch 42/50\n",
      "430/430 - 12s - loss: 0.3091 - accuracy: 0.9097 - val_loss: 0.7648 - val_accuracy: 0.8686 - 12s/epoch - 27ms/step\n",
      "Epoch 43/50\n",
      "430/430 - 11s - loss: 0.2876 - accuracy: 0.9107 - val_loss: 0.8465 - val_accuracy: 0.8844 - 11s/epoch - 25ms/step\n",
      "Epoch 44/50\n",
      "430/430 - 11s - loss: 0.3394 - accuracy: 0.9120 - val_loss: 1.4355 - val_accuracy: 0.9016 - 11s/epoch - 25ms/step\n",
      "Epoch 45/50\n",
      "430/430 - 12s - loss: 0.3661 - accuracy: 0.9146 - val_loss: 1.0031 - val_accuracy: 0.8918 - 12s/epoch - 28ms/step\n",
      "Epoch 46/50\n",
      "430/430 - 11s - loss: 0.4305 - accuracy: 0.9131 - val_loss: 0.9480 - val_accuracy: 0.8816 - 11s/epoch - 25ms/step\n",
      "Epoch 47/50\n",
      "430/430 - 11s - loss: 0.2833 - accuracy: 0.9147 - val_loss: 2.1922 - val_accuracy: 0.8692 - 11s/epoch - 25ms/step\n",
      "Epoch 48/50\n",
      "430/430 - 12s - loss: 0.2727 - accuracy: 0.9147 - val_loss: 1.1343 - val_accuracy: 0.8874 - 12s/epoch - 27ms/step\n",
      "Epoch 49/50\n",
      "430/430 - 12s - loss: 0.3168 - accuracy: 0.9150 - val_loss: 1.2364 - val_accuracy: 0.8728 - 12s/epoch - 27ms/step\n",
      "Epoch 50/50\n",
      "430/430 - 11s - loss: 0.3179 - accuracy: 0.9169 - val_loss: 1.0549 - val_accuracy: 0.8672 - 11s/epoch - 27ms/step\n"
     ]
    }
   ],
   "source": [
    "# building a pyramid scheme neural network\n",
    "model = Sequential([\n",
    "    Flatten(input_shape=[28, 28]),\n",
    "    Dense(512, activation=\"selu\", kernel_initializer='he_normal'),\n",
    "    Dense(512, activation=\"selu\", kernel_initializer='he_normal'),\n",
    "    Dense(512, activation=\"selu\", kernel_initializer='he_normal'),\n",
    "    Dense(512, activation=\"selu\", kernel_initializer='he_normal'),\n",
    "    Dense(512, activation=\"selu\", kernel_initializer='he_normal'),\n",
    "    Dropout(0.4),\n",
    "    Dense(10, activation=\"softmax\", kernel_initializer='he_normal')\n",
    "])\n",
    "model.compile(loss=\"sparse_categorical_crossentropy\",\n",
    "              optimizer=keras.optimizers.RMSprop(learning_rate=0.001, rho=0.9),\n",
    "              metrics=[\"accuracy\"])\n",
    "history = model.fit(x_train, y_train,batch_size=128,epochs=50,verbose=2,validation_data=(x_valid, y_valid))"
   ]
  },
  {
   "cell_type": "code",
   "execution_count": 21,
   "id": "a421afa4",
   "metadata": {},
   "outputs": [
    {
     "data": {
      "image/png": "[encoded data removed]",
      "text/plain": [
       "<Figure size 576x360 with 1 Axes>"
      ]
     },
     "metadata": {
      "needs_background": "light"
     },
     "output_type": "display_data"
    }
   ],
   "source": [
    "# Learning curve\n",
    "pd.DataFrame(history.history).plot(figsize=(8, 5))\n",
    "plt.grid(True)\n",
    "plt.gca().set_ylim(0, 1)\n",
    "plt.show()"
   ]
  },
  {
   "cell_type": "code",
   "execution_count": 22,
   "id": "b5766c75",
   "metadata": {},
   "outputs": [
    {
     "name": "stdout",
     "output_type": "stream",
     "text": [
      "313/313 [==============================] - 1s 4ms/step - loss: 12.5223 - accuracy: 0.8521\n",
      "Test loss: 12.522250175476074\n",
      "Test accuracy: 0.8521000146865845\n"
     ]
    }
   ],
   "source": [
    "score = model.evaluate(x_test, y_test)\n",
    "print('Test loss:', score[0]) \n",
    "print('Test accuracy:', score[1])"
   ]
  },
  {
   "cell_type": "markdown",
   "id": "0a6552fe",
   "metadata": {},
   "source": [
    "# -------------------------------------------------------------------------------------------"
   ]
  },
  {
   "cell_type": "code",
   "execution_count": 23,
   "id": "8b1f5bea",
   "metadata": {},
   "outputs": [
    {
     "name": "stdout",
     "output_type": "stream",
     "text": [
      "Epoch 1/50\n",
      "430/430 - 7s - loss: 0.8154 - accuracy: 0.7428 - val_loss: 0.4531 - val_accuracy: 0.8418 - 7s/epoch - 17ms/step\n",
      "Epoch 2/50\n",
      "430/430 - 7s - loss: 0.5412 - accuracy: 0.8156 - val_loss: 0.4008 - val_accuracy: 0.8584 - 7s/epoch - 16ms/step\n",
      "Epoch 3/50\n",
      "430/430 - 6s - loss: 0.4798 - accuracy: 0.8332 - val_loss: 0.3837 - val_accuracy: 0.8628 - 6s/epoch - 14ms/step\n",
      "Epoch 4/50\n",
      "430/430 - 6s - loss: 0.4445 - accuracy: 0.8457 - val_loss: 0.3691 - val_accuracy: 0.8670 - 6s/epoch - 15ms/step\n",
      "Epoch 5/50\n",
      "430/430 - 7s - loss: 0.4200 - accuracy: 0.8535 - val_loss: 0.3576 - val_accuracy: 0.8708 - 7s/epoch - 16ms/step\n",
      "Epoch 6/50\n",
      "430/430 - 6s - loss: 0.4028 - accuracy: 0.8581 - val_loss: 0.3557 - val_accuracy: 0.8732 - 6s/epoch - 15ms/step\n",
      "Epoch 7/50\n",
      "430/430 - 7s - loss: 0.3895 - accuracy: 0.8629 - val_loss: 0.3476 - val_accuracy: 0.8756 - 7s/epoch - 16ms/step\n",
      "Epoch 8/50\n",
      "430/430 - 7s - loss: 0.3764 - accuracy: 0.8670 - val_loss: 0.3404 - val_accuracy: 0.8768 - 7s/epoch - 17ms/step\n",
      "Epoch 9/50\n",
      "430/430 - 7s - loss: 0.3639 - accuracy: 0.8708 - val_loss: 0.3374 - val_accuracy: 0.8764 - 7s/epoch - 17ms/step\n",
      "Epoch 10/50\n",
      "430/430 - 7s - loss: 0.3550 - accuracy: 0.8746 - val_loss: 0.3354 - val_accuracy: 0.8782 - 7s/epoch - 16ms/step\n",
      "Epoch 11/50\n",
      "430/430 - 7s - loss: 0.3408 - accuracy: 0.8802 - val_loss: 0.3375 - val_accuracy: 0.8768 - 7s/epoch - 16ms/step\n",
      "Epoch 12/50\n",
      "430/430 - 7s - loss: 0.3366 - accuracy: 0.8812 - val_loss: 0.3315 - val_accuracy: 0.8806 - 7s/epoch - 15ms/step\n",
      "Epoch 13/50\n",
      "430/430 - 7s - loss: 0.3292 - accuracy: 0.8806 - val_loss: 0.3292 - val_accuracy: 0.8782 - 7s/epoch - 17ms/step\n",
      "Epoch 14/50\n",
      "430/430 - 7s - loss: 0.3232 - accuracy: 0.8844 - val_loss: 0.3232 - val_accuracy: 0.8806 - 7s/epoch - 16ms/step\n",
      "Epoch 15/50\n",
      "430/430 - 8s - loss: 0.3131 - accuracy: 0.8874 - val_loss: 0.3247 - val_accuracy: 0.8798 - 8s/epoch - 18ms/step\n",
      "Epoch 16/50\n",
      "430/430 - 7s - loss: 0.3088 - accuracy: 0.8894 - val_loss: 0.3186 - val_accuracy: 0.8808 - 7s/epoch - 17ms/step\n",
      "Epoch 17/50\n",
      "430/430 - 7s - loss: 0.3026 - accuracy: 0.8908 - val_loss: 0.3180 - val_accuracy: 0.8856 - 7s/epoch - 16ms/step\n",
      "Epoch 18/50\n",
      "430/430 - 6s - loss: 0.2948 - accuracy: 0.8940 - val_loss: 0.3152 - val_accuracy: 0.8820 - 6s/epoch - 14ms/step\n",
      "Epoch 19/50\n",
      "430/430 - 7s - loss: 0.2921 - accuracy: 0.8946 - val_loss: 0.3212 - val_accuracy: 0.8804 - 7s/epoch - 15ms/step\n",
      "Epoch 20/50\n",
      "430/430 - 7s - loss: 0.2822 - accuracy: 0.8983 - val_loss: 0.3133 - val_accuracy: 0.8848 - 7s/epoch - 16ms/step\n",
      "Epoch 21/50\n",
      "430/430 - 6s - loss: 0.2806 - accuracy: 0.8988 - val_loss: 0.3139 - val_accuracy: 0.8852 - 6s/epoch - 14ms/step\n",
      "Epoch 22/50\n",
      "430/430 - 7s - loss: 0.2754 - accuracy: 0.9000 - val_loss: 0.3128 - val_accuracy: 0.8856 - 7s/epoch - 16ms/step\n",
      "Epoch 23/50\n",
      "430/430 - 6s - loss: 0.2690 - accuracy: 0.9031 - val_loss: 0.3155 - val_accuracy: 0.8836 - 6s/epoch - 15ms/step\n",
      "Epoch 24/50\n",
      "430/430 - 7s - loss: 0.2651 - accuracy: 0.9041 - val_loss: 0.3104 - val_accuracy: 0.8862 - 7s/epoch - 17ms/step\n",
      "Epoch 25/50\n",
      "430/430 - 7s - loss: 0.2592 - accuracy: 0.9066 - val_loss: 0.3095 - val_accuracy: 0.8890 - 7s/epoch - 16ms/step\n",
      "Epoch 26/50\n",
      "430/430 - 7s - loss: 0.2575 - accuracy: 0.9067 - val_loss: 0.3088 - val_accuracy: 0.8878 - 7s/epoch - 17ms/step\n",
      "Epoch 27/50\n",
      "430/430 - 6s - loss: 0.2519 - accuracy: 0.9092 - val_loss: 0.3106 - val_accuracy: 0.8898 - 6s/epoch - 15ms/step\n",
      "Epoch 28/50\n",
      "430/430 - 9s - loss: 0.2473 - accuracy: 0.9097 - val_loss: 0.3075 - val_accuracy: 0.8896 - 9s/epoch - 20ms/step\n",
      "Epoch 29/50\n",
      "430/430 - 10s - loss: 0.2424 - accuracy: 0.9117 - val_loss: 0.3075 - val_accuracy: 0.8902 - 10s/epoch - 24ms/step\n",
      "Epoch 30/50\n",
      "430/430 - 8s - loss: 0.2378 - accuracy: 0.9129 - val_loss: 0.3118 - val_accuracy: 0.8864 - 8s/epoch - 19ms/step\n",
      "Epoch 31/50\n",
      "430/430 - 8s - loss: 0.2339 - accuracy: 0.9155 - val_loss: 0.3132 - val_accuracy: 0.8878 - 8s/epoch - 18ms/step\n",
      "Epoch 32/50\n",
      "430/430 - 6s - loss: 0.2299 - accuracy: 0.9169 - val_loss: 0.3086 - val_accuracy: 0.8926 - 6s/epoch - 15ms/step\n",
      "Epoch 33/50\n",
      "430/430 - 6s - loss: 0.2259 - accuracy: 0.9191 - val_loss: 0.3118 - val_accuracy: 0.8918 - 6s/epoch - 14ms/step\n",
      "Epoch 34/50\n",
      "430/430 - 6s - loss: 0.2212 - accuracy: 0.9198 - val_loss: 0.3175 - val_accuracy: 0.8878 - 6s/epoch - 15ms/step\n",
      "Epoch 35/50\n",
      "430/430 - 6s - loss: 0.2190 - accuracy: 0.9206 - val_loss: 0.3142 - val_accuracy: 0.8874 - 6s/epoch - 15ms/step\n",
      "Epoch 36/50\n",
      "430/430 - 6s - loss: 0.2162 - accuracy: 0.9217 - val_loss: 0.3182 - val_accuracy: 0.8876 - 6s/epoch - 14ms/step\n",
      "Epoch 37/50\n",
      "430/430 - 7s - loss: 0.2116 - accuracy: 0.9236 - val_loss: 0.3140 - val_accuracy: 0.8898 - 7s/epoch - 17ms/step\n",
      "Epoch 38/50\n",
      "430/430 - 7s - loss: 0.2066 - accuracy: 0.9241 - val_loss: 0.3198 - val_accuracy: 0.8884 - 7s/epoch - 15ms/step\n",
      "Epoch 39/50\n",
      "430/430 - 6s - loss: 0.2051 - accuracy: 0.9255 - val_loss: 0.3168 - val_accuracy: 0.8908 - 6s/epoch - 15ms/step\n",
      "Epoch 40/50\n",
      "430/430 - 7s - loss: 0.1989 - accuracy: 0.9281 - val_loss: 0.3153 - val_accuracy: 0.8910 - 7s/epoch - 16ms/step\n",
      "Epoch 41/50\n",
      "430/430 - 6s - loss: 0.1950 - accuracy: 0.9299 - val_loss: 0.3177 - val_accuracy: 0.8906 - 6s/epoch - 14ms/step\n",
      "Epoch 42/50\n",
      "430/430 - 6s - loss: 0.1921 - accuracy: 0.9293 - val_loss: 0.3238 - val_accuracy: 0.8902 - 6s/epoch - 14ms/step\n",
      "Epoch 43/50\n",
      "430/430 - 7s - loss: 0.1880 - accuracy: 0.9310 - val_loss: 0.3289 - val_accuracy: 0.8902 - 7s/epoch - 16ms/step\n",
      "Epoch 44/50\n",
      "430/430 - 7s - loss: 0.1880 - accuracy: 0.9310 - val_loss: 0.3295 - val_accuracy: 0.8892 - 7s/epoch - 17ms/step\n",
      "Epoch 45/50\n",
      "430/430 - 7s - loss: 0.1831 - accuracy: 0.9331 - val_loss: 0.3311 - val_accuracy: 0.8872 - 7s/epoch - 16ms/step\n",
      "Epoch 46/50\n",
      "430/430 - 7s - loss: 0.1809 - accuracy: 0.9343 - val_loss: 0.3346 - val_accuracy: 0.8862 - 7s/epoch - 16ms/step\n",
      "Epoch 47/50\n",
      "430/430 - 7s - loss: 0.1778 - accuracy: 0.9367 - val_loss: 0.3314 - val_accuracy: 0.8874 - 7s/epoch - 16ms/step\n",
      "Epoch 48/50\n",
      "430/430 - 7s - loss: 0.1708 - accuracy: 0.9369 - val_loss: 0.3392 - val_accuracy: 0.8872 - 7s/epoch - 16ms/step\n",
      "Epoch 49/50\n",
      "430/430 - 7s - loss: 0.1697 - accuracy: 0.9390 - val_loss: 0.3407 - val_accuracy: 0.8888 - 7s/epoch - 16ms/step\n",
      "Epoch 50/50\n",
      "430/430 - 7s - loss: 0.1694 - accuracy: 0.9377 - val_loss: 0.3358 - val_accuracy: 0.8868 - 7s/epoch - 17ms/step\n"
     ]
    }
   ],
   "source": [
    "# building a pyramid scheme neural network\n",
    "model = Sequential([\n",
    "    Flatten(input_shape=[28, 28]),\n",
    "    keras.layers.BatchNormalization(),\n",
    "    Dense(512, activation=\"selu\", kernel_initializer='he_normal'),\n",
    "    keras.layers.BatchNormalization(),\n",
    "    Dense(256, activation=\"selu\", kernel_initializer='he_normal'),\n",
    "    keras.layers.BatchNormalization(),\n",
    "    Dense(128, activation=\"selu\", kernel_initializer='he_normal'),\n",
    "    keras.layers.BatchNormalization(),\n",
    "    Dense(100, activation=\"selu\", kernel_initializer='he_normal'),\n",
    "    Dropout(0.4),\n",
    "    Dense(10, activation=\"softmax\", kernel_initializer='he_normal')\n",
    "])\n",
    "model.compile(loss=\"sparse_categorical_crossentropy\",\n",
    "              optimizer=keras.optimizers.SGD(learning_rate=0.001, momentum=0.9, nesterov=True),\n",
    "              metrics=[\"accuracy\"])\n",
    "history = model.fit(x_train, y_train,batch_size=128,epochs=50,verbose=2,validation_data=(x_valid, y_valid))"
   ]
  },
  {
   "cell_type": "code",
   "execution_count": 24,
   "id": "0cbf0315",
   "metadata": {},
   "outputs": [
    {
     "data": {
      "image/png": "[encoded data removed]",
      "text/plain": [
       "<Figure size 576x360 with 1 Axes>"
      ]
     },
     "metadata": {
      "needs_background": "light"
     },
     "output_type": "display_data"
    }
   ],
   "source": [
    "# Learning curve\n",
    "pd.DataFrame(history.history).plot(figsize=(8, 5))\n",
    "plt.grid(True)\n",
    "plt.gca().set_ylim(0, 1)\n",
    "plt.show()"
   ]
  },
  {
   "cell_type": "code",
   "execution_count": 25,
   "id": "0b8cbc52",
   "metadata": {},
   "outputs": [
    {
     "name": "stdout",
     "output_type": "stream",
     "text": [
      "313/313 [==============================] - 1s 3ms/step - loss: 0.3600 - accuracy: 0.8853\n",
      "Test loss: 0.3600017726421356\n",
      "Test accuracy: 0.8852999806404114\n"
     ]
    }
   ],
   "source": [
    "score = model.evaluate(x_test, y_test)\n",
    "print('Test loss:', score[0]) \n",
    "print('Test accuracy:', score[1])"
   ]
  },
  {
   "cell_type": "markdown",
   "id": "27aad90e",
   "metadata": {},
   "source": [
    "# -------------------------------------------------------------------------------------------"
   ]
  },
  {
   "cell_type": "code",
   "execution_count": 26,
   "id": "6e7e1ab7",
   "metadata": {},
   "outputs": [
    {
     "name": "stdout",
     "output_type": "stream",
     "text": [
      "Epoch 1/30\n",
      "430/430 - 8s - loss: 0.7903 - accuracy: 0.7368 - val_loss: 0.4406 - val_accuracy: 0.8444 - 8s/epoch - 18ms/step\n",
      "Epoch 2/30\n",
      "430/430 - 6s - loss: 0.5200 - accuracy: 0.8194 - val_loss: 0.3933 - val_accuracy: 0.8616 - 6s/epoch - 15ms/step\n",
      "Epoch 3/30\n",
      "430/430 - 7s - loss: 0.4612 - accuracy: 0.8389 - val_loss: 0.3730 - val_accuracy: 0.8668 - 7s/epoch - 17ms/step\n",
      "Epoch 4/30\n",
      "430/430 - 7s - loss: 0.4310 - accuracy: 0.8478 - val_loss: 0.3586 - val_accuracy: 0.8746 - 7s/epoch - 16ms/step\n",
      "Epoch 5/30\n",
      "430/430 - 7s - loss: 0.4059 - accuracy: 0.8552 - val_loss: 0.3499 - val_accuracy: 0.8748 - 7s/epoch - 16ms/step\n",
      "Epoch 6/30\n",
      "430/430 - 6s - loss: 0.3880 - accuracy: 0.8619 - val_loss: 0.3423 - val_accuracy: 0.8758 - 6s/epoch - 15ms/step\n",
      "Epoch 7/30\n",
      "430/430 - 7s - loss: 0.3691 - accuracy: 0.8677 - val_loss: 0.3400 - val_accuracy: 0.8802 - 7s/epoch - 16ms/step\n",
      "Epoch 8/30\n",
      "430/430 - 7s - loss: 0.3564 - accuracy: 0.8718 - val_loss: 0.3307 - val_accuracy: 0.8810 - 7s/epoch - 15ms/step\n",
      "Epoch 9/30\n",
      "430/430 - 6s - loss: 0.3463 - accuracy: 0.8754 - val_loss: 0.3262 - val_accuracy: 0.8792 - 6s/epoch - 15ms/step\n",
      "Epoch 10/30\n",
      "430/430 - 6s - loss: 0.3392 - accuracy: 0.8779 - val_loss: 0.3248 - val_accuracy: 0.8826 - 6s/epoch - 13ms/step\n",
      "Epoch 11/30\n",
      "430/430 - 7s - loss: 0.3283 - accuracy: 0.8819 - val_loss: 0.3200 - val_accuracy: 0.8844 - 7s/epoch - 15ms/step\n",
      "Epoch 12/30\n",
      "430/430 - 7s - loss: 0.3207 - accuracy: 0.8843 - val_loss: 0.3163 - val_accuracy: 0.8860 - 7s/epoch - 15ms/step\n",
      "Epoch 13/30\n",
      "430/430 - 6s - loss: 0.3146 - accuracy: 0.8864 - val_loss: 0.3127 - val_accuracy: 0.8900 - 6s/epoch - 15ms/step\n",
      "Epoch 14/30\n",
      "430/430 - 7s - loss: 0.3065 - accuracy: 0.8897 - val_loss: 0.3118 - val_accuracy: 0.8882 - 7s/epoch - 16ms/step\n",
      "Epoch 15/30\n",
      "430/430 - 7s - loss: 0.2979 - accuracy: 0.8920 - val_loss: 0.3081 - val_accuracy: 0.8918 - 7s/epoch - 16ms/step\n",
      "Epoch 16/30\n",
      "430/430 - 6s - loss: 0.2948 - accuracy: 0.8927 - val_loss: 0.3073 - val_accuracy: 0.8908 - 6s/epoch - 14ms/step\n",
      "Epoch 17/30\n",
      "430/430 - 6s - loss: 0.2881 - accuracy: 0.8955 - val_loss: 0.3054 - val_accuracy: 0.8926 - 6s/epoch - 14ms/step\n",
      "Epoch 18/30\n",
      "430/430 - 6s - loss: 0.2826 - accuracy: 0.8969 - val_loss: 0.3004 - val_accuracy: 0.8944 - 6s/epoch - 14ms/step\n",
      "Epoch 19/30\n",
      "430/430 - 6s - loss: 0.2765 - accuracy: 0.8997 - val_loss: 0.2994 - val_accuracy: 0.8908 - 6s/epoch - 15ms/step\n",
      "Epoch 20/30\n",
      "430/430 - 6s - loss: 0.2706 - accuracy: 0.9016 - val_loss: 0.2988 - val_accuracy: 0.8926 - 6s/epoch - 14ms/step\n",
      "Epoch 21/30\n",
      "430/430 - 7s - loss: 0.2650 - accuracy: 0.9029 - val_loss: 0.2977 - val_accuracy: 0.8944 - 7s/epoch - 17ms/step\n",
      "Epoch 22/30\n",
      "430/430 - 7s - loss: 0.2605 - accuracy: 0.9046 - val_loss: 0.2989 - val_accuracy: 0.8954 - 7s/epoch - 16ms/step\n",
      "Epoch 23/30\n",
      "430/430 - 6s - loss: 0.2548 - accuracy: 0.9065 - val_loss: 0.2974 - val_accuracy: 0.8946 - 6s/epoch - 14ms/step\n",
      "Epoch 24/30\n",
      "430/430 - 6s - loss: 0.2507 - accuracy: 0.9078 - val_loss: 0.2965 - val_accuracy: 0.8932 - 6s/epoch - 15ms/step\n",
      "Epoch 25/30\n",
      "430/430 - 7s - loss: 0.2460 - accuracy: 0.9101 - val_loss: 0.2969 - val_accuracy: 0.8904 - 7s/epoch - 15ms/step\n",
      "Epoch 26/30\n",
      "430/430 - 6s - loss: 0.2403 - accuracy: 0.9122 - val_loss: 0.2996 - val_accuracy: 0.8956 - 6s/epoch - 15ms/step\n",
      "Epoch 27/30\n",
      "430/430 - 7s - loss: 0.2392 - accuracy: 0.9119 - val_loss: 0.2960 - val_accuracy: 0.8940 - 7s/epoch - 16ms/step\n",
      "Epoch 28/30\n",
      "430/430 - 7s - loss: 0.2324 - accuracy: 0.9145 - val_loss: 0.2992 - val_accuracy: 0.8934 - 7s/epoch - 15ms/step\n",
      "Epoch 29/30\n",
      "430/430 - 6s - loss: 0.2263 - accuracy: 0.9175 - val_loss: 0.2941 - val_accuracy: 0.8924 - 6s/epoch - 14ms/step\n",
      "Epoch 30/30\n",
      "430/430 - 6s - loss: 0.2239 - accuracy: 0.9178 - val_loss: 0.2965 - val_accuracy: 0.8926 - 6s/epoch - 14ms/step\n"
     ]
    }
   ],
   "source": [
    "# building a pyramid scheme neural network\n",
    "model = Sequential([\n",
    "    Flatten(input_shape=[28, 28]),\n",
    "    keras.layers.BatchNormalization(),\n",
    "    Dense(512, activation=\"elu\", kernel_initializer='he_normal'),\n",
    "    keras.layers.BatchNormalization(),\n",
    "    Dense(256, activation=\"elu\", kernel_initializer='he_normal'),\n",
    "    keras.layers.BatchNormalization(),\n",
    "    Dense(128, activation=\"elu\", kernel_initializer='he_normal'),\n",
    "    keras.layers.BatchNormalization(),\n",
    "    Dense(100, activation=\"elu\", kernel_initializer='he_normal'),\n",
    "    Dropout(0.4),\n",
    "    Dense(10, activation=\"softmax\", kernel_initializer='he_normal')\n",
    "])\n",
    "model.compile(loss=\"sparse_categorical_crossentropy\",\n",
    "              optimizer=keras.optimizers.SGD(learning_rate=0.001, momentum=0.9, nesterov=True),\n",
    "              metrics=[\"accuracy\"])\n",
    "history = model.fit(x_train, y_train,batch_size=128,epochs=30,verbose=2,validation_data=(x_valid, y_valid))"
   ]
  },
  {
   "cell_type": "code",
   "execution_count": 27,
   "id": "14dcfd18",
   "metadata": {},
   "outputs": [
    {
     "data": {
      "image/png": "[encoded data removed]",
      "text/plain": [
       "<Figure size 576x360 with 1 Axes>"
      ]
     },
     "metadata": {
      "needs_background": "light"
     },
     "output_type": "display_data"
    }
   ],
   "source": [
    "# Learning curve\n",
    "pd.DataFrame(history.history).plot(figsize=(8, 5))\n",
    "plt.grid(True)\n",
    "plt.gca().set_ylim(0, 1)\n",
    "plt.show()"
   ]
  },
  {
   "cell_type": "code",
   "execution_count": 28,
   "id": "c1dc8735",
   "metadata": {},
   "outputs": [
    {
     "name": "stdout",
     "output_type": "stream",
     "text": [
      "313/313 [==============================] - 2s 6ms/step - loss: 0.3351 - accuracy: 0.8846\n",
      "Test loss: 0.3350585699081421\n",
      "Test accuracy: 0.8845999836921692\n"
     ]
    }
   ],
   "source": [
    "score = model.evaluate(x_test, y_test)\n",
    "print('Test loss:', score[0]) \n",
    "print('Test accuracy:', score[1])"
   ]
  },
  {
   "cell_type": "markdown",
   "id": "2ea8b6c1",
   "metadata": {},
   "source": [
    "# -------------------------------------------------------------------------------------------"
   ]
  },
  {
   "cell_type": "code",
   "execution_count": 29,
   "id": "8567def4",
   "metadata": {},
   "outputs": [
    {
     "name": "stdout",
     "output_type": "stream",
     "text": [
      "Epoch 1/30\n",
      "430/430 - 8s - loss: 0.8979 - accuracy: 0.7049 - val_loss: 0.4654 - val_accuracy: 0.8324 - 8s/epoch - 19ms/step\n",
      "Epoch 2/30\n",
      "430/430 - 7s - loss: 0.5437 - accuracy: 0.8118 - val_loss: 0.4055 - val_accuracy: 0.8534 - 7s/epoch - 16ms/step\n",
      "Epoch 3/30\n",
      "430/430 - 7s - loss: 0.4690 - accuracy: 0.8369 - val_loss: 0.3748 - val_accuracy: 0.8624 - 7s/epoch - 16ms/step\n",
      "Epoch 4/30\n",
      "430/430 - 6s - loss: 0.4301 - accuracy: 0.8494 - val_loss: 0.3604 - val_accuracy: 0.8650 - 6s/epoch - 14ms/step\n",
      "Epoch 5/30\n",
      "430/430 - 6s - loss: 0.3994 - accuracy: 0.8587 - val_loss: 0.3466 - val_accuracy: 0.8686 - 6s/epoch - 13ms/step\n",
      "Epoch 6/30\n",
      "430/430 - 6s - loss: 0.3786 - accuracy: 0.8665 - val_loss: 0.3353 - val_accuracy: 0.8750 - 6s/epoch - 15ms/step\n",
      "Epoch 7/30\n",
      "430/430 - 6s - loss: 0.3610 - accuracy: 0.8717 - val_loss: 0.3319 - val_accuracy: 0.8772 - 6s/epoch - 15ms/step\n",
      "Epoch 8/30\n",
      "430/430 - 6s - loss: 0.3472 - accuracy: 0.8763 - val_loss: 0.3256 - val_accuracy: 0.8798 - 6s/epoch - 14ms/step\n",
      "Epoch 9/30\n",
      "430/430 - 7s - loss: 0.3352 - accuracy: 0.8813 - val_loss: 0.3211 - val_accuracy: 0.8838 - 7s/epoch - 15ms/step\n",
      "Epoch 10/30\n",
      "430/430 - 6s - loss: 0.3233 - accuracy: 0.8841 - val_loss: 0.3167 - val_accuracy: 0.8844 - 6s/epoch - 14ms/step\n",
      "Epoch 11/30\n",
      "430/430 - 6s - loss: 0.3110 - accuracy: 0.8897 - val_loss: 0.3142 - val_accuracy: 0.8862 - 6s/epoch - 15ms/step\n",
      "Epoch 12/30\n",
      "430/430 - 7s - loss: 0.2987 - accuracy: 0.8925 - val_loss: 0.3133 - val_accuracy: 0.8864 - 7s/epoch - 16ms/step\n",
      "Epoch 13/30\n",
      "430/430 - 6s - loss: 0.2921 - accuracy: 0.8955 - val_loss: 0.3093 - val_accuracy: 0.8872 - 6s/epoch - 14ms/step\n",
      "Epoch 14/30\n",
      "430/430 - 7s - loss: 0.2806 - accuracy: 0.8992 - val_loss: 0.3078 - val_accuracy: 0.8868 - 7s/epoch - 16ms/step\n",
      "Epoch 15/30\n",
      "430/430 - 6s - loss: 0.2749 - accuracy: 0.9015 - val_loss: 0.3105 - val_accuracy: 0.8870 - 6s/epoch - 15ms/step\n",
      "Epoch 16/30\n",
      "430/430 - 6s - loss: 0.2655 - accuracy: 0.9044 - val_loss: 0.3063 - val_accuracy: 0.8912 - 6s/epoch - 15ms/step\n",
      "Epoch 17/30\n",
      "430/430 - 7s - loss: 0.2608 - accuracy: 0.9067 - val_loss: 0.3083 - val_accuracy: 0.8892 - 7s/epoch - 16ms/step\n",
      "Epoch 18/30\n",
      "430/430 - 7s - loss: 0.2538 - accuracy: 0.9074 - val_loss: 0.3107 - val_accuracy: 0.8878 - 7s/epoch - 17ms/step\n",
      "Epoch 19/30\n",
      "430/430 - 6s - loss: 0.2457 - accuracy: 0.9111 - val_loss: 0.3111 - val_accuracy: 0.8904 - 6s/epoch - 14ms/step\n",
      "Epoch 20/30\n",
      "430/430 - 7s - loss: 0.2371 - accuracy: 0.9147 - val_loss: 0.3080 - val_accuracy: 0.8898 - 7s/epoch - 16ms/step\n",
      "Epoch 21/30\n",
      "430/430 - 6s - loss: 0.2314 - accuracy: 0.9148 - val_loss: 0.3120 - val_accuracy: 0.8876 - 6s/epoch - 15ms/step\n",
      "Epoch 22/30\n",
      "430/430 - 6s - loss: 0.2213 - accuracy: 0.9199 - val_loss: 0.3135 - val_accuracy: 0.8864 - 6s/epoch - 15ms/step\n",
      "Epoch 23/30\n",
      "430/430 - 6s - loss: 0.2176 - accuracy: 0.9214 - val_loss: 0.3114 - val_accuracy: 0.8884 - 6s/epoch - 14ms/step\n",
      "Epoch 24/30\n",
      "430/430 - 7s - loss: 0.2128 - accuracy: 0.9235 - val_loss: 0.3131 - val_accuracy: 0.8884 - 7s/epoch - 16ms/step\n",
      "Epoch 25/30\n",
      "430/430 - 6s - loss: 0.2050 - accuracy: 0.9250 - val_loss: 0.3155 - val_accuracy: 0.8908 - 6s/epoch - 15ms/step\n",
      "Epoch 26/30\n",
      "430/430 - 7s - loss: 0.2002 - accuracy: 0.9281 - val_loss: 0.3140 - val_accuracy: 0.8942 - 7s/epoch - 16ms/step\n",
      "Epoch 27/30\n",
      "430/430 - 8s - loss: 0.1949 - accuracy: 0.9299 - val_loss: 0.3146 - val_accuracy: 0.8926 - 8s/epoch - 18ms/step\n",
      "Epoch 28/30\n",
      "430/430 - 7s - loss: 0.1886 - accuracy: 0.9323 - val_loss: 0.3167 - val_accuracy: 0.8922 - 7s/epoch - 16ms/step\n",
      "Epoch 29/30\n",
      "430/430 - 7s - loss: 0.1840 - accuracy: 0.9335 - val_loss: 0.3193 - val_accuracy: 0.8920 - 7s/epoch - 16ms/step\n",
      "Epoch 30/30\n",
      "430/430 - 7s - loss: 0.1791 - accuracy: 0.9357 - val_loss: 0.3279 - val_accuracy: 0.8926 - 7s/epoch - 16ms/step\n"
     ]
    }
   ],
   "source": [
    "# building a pyramid scheme neural network\n",
    "model = Sequential([\n",
    "    Flatten(input_shape=[28, 28]),\n",
    "    keras.layers.BatchNormalization(),\n",
    "    Dense(512, activation=\"relu\", kernel_initializer='he_normal'),\n",
    "    keras.layers.BatchNormalization(),\n",
    "    Dense(256, activation=\"relu\", kernel_initializer='he_normal'),\n",
    "    keras.layers.BatchNormalization(),\n",
    "    Dense(128, activation=\"relu\", kernel_initializer='he_normal'),\n",
    "    keras.layers.BatchNormalization(),\n",
    "    Dense(100, activation=\"relu\", kernel_initializer='he_normal'),\n",
    "    Dropout(0.4),\n",
    "    Dense(10, activation=\"softmax\", kernel_initializer='he_normal')\n",
    "])\n",
    "model.compile(loss=\"sparse_categorical_crossentropy\",\n",
    "              optimizer=keras.optimizers.SGD(learning_rate=0.001, momentum=0.9, nesterov=True),\n",
    "              metrics=[\"accuracy\"])\n",
    "history = model.fit(x_train, y_train,batch_size=128,epochs=30,verbose=2,validation_data=(x_valid, y_valid))"
   ]
  },
  {
   "cell_type": "code",
   "execution_count": 30,
   "id": "e250940e",
   "metadata": {},
   "outputs": [
    {
     "data": {
      "image/png": "[encoded data removed]",
      "text/plain": [
       "<Figure size 576x360 with 1 Axes>"
      ]
     },
     "metadata": {
      "needs_background": "light"
     },
     "output_type": "display_data"
    }
   ],
   "source": [
    "# Learning curve\n",
    "pd.DataFrame(history.history).plot(figsize=(8, 5))\n",
    "plt.grid(True)\n",
    "plt.gca().set_ylim(0, 1)\n",
    "plt.show()"
   ]
  },
  {
   "cell_type": "code",
   "execution_count": 31,
   "id": "d767b2c8",
   "metadata": {},
   "outputs": [
    {
     "name": "stdout",
     "output_type": "stream",
     "text": [
      "313/313 [==============================] - 1s 3ms/step - loss: 0.3571 - accuracy: 0.8878\n",
      "Test loss: 0.3570820391178131\n",
      "Test accuracy: 0.8877999782562256\n"
     ]
    }
   ],
   "source": [
    "score = model.evaluate(x_test, y_test)\n",
    "print('Test loss:', score[0]) \n",
    "print('Test accuracy:', score[1])"
   ]
  },
  {
   "cell_type": "markdown",
   "id": "f953554d",
   "metadata": {},
   "source": [
    "# -------------------------------------------------------------------------------------------"
   ]
  },
  {
   "cell_type": "code",
   "execution_count": 32,
   "id": "5380683c",
   "metadata": {},
   "outputs": [
    {
     "name": "stdout",
     "output_type": "stream",
     "text": [
      "Epoch 1/30\n",
      "430/430 - 8s - loss: 0.8299 - accuracy: 0.7304 - val_loss: 0.4520 - val_accuracy: 0.8420 - 8s/epoch - 19ms/step\n",
      "Epoch 2/30\n",
      "430/430 - 7s - loss: 0.5252 - accuracy: 0.8170 - val_loss: 0.3972 - val_accuracy: 0.8608 - 7s/epoch - 16ms/step\n",
      "Epoch 3/30\n",
      "430/430 - 6s - loss: 0.4612 - accuracy: 0.8370 - val_loss: 0.3700 - val_accuracy: 0.8684 - 6s/epoch - 15ms/step\n",
      "Epoch 4/30\n",
      "430/430 - 6s - loss: 0.4202 - accuracy: 0.8505 - val_loss: 0.3568 - val_accuracy: 0.8730 - 6s/epoch - 14ms/step\n",
      "Epoch 5/30\n",
      "430/430 - 6s - loss: 0.3980 - accuracy: 0.8572 - val_loss: 0.3439 - val_accuracy: 0.8788 - 6s/epoch - 14ms/step\n",
      "Epoch 6/30\n",
      "430/430 - 10s - loss: 0.3796 - accuracy: 0.8630 - val_loss: 0.3414 - val_accuracy: 0.8768 - 10s/epoch - 23ms/step\n",
      "Epoch 7/30\n",
      "430/430 - 7s - loss: 0.3628 - accuracy: 0.8709 - val_loss: 0.3308 - val_accuracy: 0.8804 - 7s/epoch - 16ms/step\n",
      "Epoch 8/30\n",
      "430/430 - 7s - loss: 0.3498 - accuracy: 0.8736 - val_loss: 0.3249 - val_accuracy: 0.8844 - 7s/epoch - 17ms/step\n",
      "Epoch 9/30\n",
      "430/430 - 7s - loss: 0.3364 - accuracy: 0.8793 - val_loss: 0.3203 - val_accuracy: 0.8872 - 7s/epoch - 17ms/step\n",
      "Epoch 10/30\n",
      "430/430 - 6s - loss: 0.3221 - accuracy: 0.8829 - val_loss: 0.3178 - val_accuracy: 0.8888 - 6s/epoch - 14ms/step\n",
      "Epoch 11/30\n",
      "430/430 - 11s - loss: 0.3138 - accuracy: 0.8871 - val_loss: 0.3140 - val_accuracy: 0.8854 - 11s/epoch - 25ms/step\n",
      "Epoch 12/30\n",
      "430/430 - 6s - loss: 0.3029 - accuracy: 0.8908 - val_loss: 0.3099 - val_accuracy: 0.8880 - 6s/epoch - 14ms/step\n",
      "Epoch 13/30\n",
      "430/430 - 6s - loss: 0.2973 - accuracy: 0.8917 - val_loss: 0.3099 - val_accuracy: 0.8882 - 6s/epoch - 14ms/step\n",
      "Epoch 14/30\n",
      "430/430 - 7s - loss: 0.2877 - accuracy: 0.8962 - val_loss: 0.3063 - val_accuracy: 0.8878 - 7s/epoch - 16ms/step\n",
      "Epoch 15/30\n",
      "430/430 - 10s - loss: 0.2803 - accuracy: 0.8985 - val_loss: 0.3072 - val_accuracy: 0.8886 - 10s/epoch - 23ms/step\n",
      "Epoch 16/30\n",
      "430/430 - 9s - loss: 0.2735 - accuracy: 0.8998 - val_loss: 0.3056 - val_accuracy: 0.8894 - 9s/epoch - 20ms/step\n",
      "Epoch 17/30\n",
      "430/430 - 6s - loss: 0.2688 - accuracy: 0.9024 - val_loss: 0.3023 - val_accuracy: 0.8902 - 6s/epoch - 13ms/step\n",
      "Epoch 18/30\n",
      "430/430 - 6s - loss: 0.2619 - accuracy: 0.9037 - val_loss: 0.3021 - val_accuracy: 0.8940 - 6s/epoch - 15ms/step\n",
      "Epoch 19/30\n",
      "430/430 - 7s - loss: 0.2531 - accuracy: 0.9072 - val_loss: 0.3002 - val_accuracy: 0.8924 - 7s/epoch - 16ms/step\n",
      "Epoch 20/30\n",
      "430/430 - 6s - loss: 0.2509 - accuracy: 0.9089 - val_loss: 0.3024 - val_accuracy: 0.8912 - 6s/epoch - 15ms/step\n",
      "Epoch 21/30\n",
      "430/430 - 7s - loss: 0.2423 - accuracy: 0.9121 - val_loss: 0.2998 - val_accuracy: 0.8948 - 7s/epoch - 17ms/step\n",
      "Epoch 22/30\n",
      "430/430 - 7s - loss: 0.2369 - accuracy: 0.9135 - val_loss: 0.3011 - val_accuracy: 0.8914 - 7s/epoch - 16ms/step\n",
      "Epoch 23/30\n",
      "430/430 - 7s - loss: 0.2313 - accuracy: 0.9156 - val_loss: 0.3036 - val_accuracy: 0.8918 - 7s/epoch - 16ms/step\n",
      "Epoch 24/30\n",
      "430/430 - 7s - loss: 0.2254 - accuracy: 0.9176 - val_loss: 0.3006 - val_accuracy: 0.8912 - 7s/epoch - 16ms/step\n",
      "Epoch 25/30\n",
      "430/430 - 8s - loss: 0.2203 - accuracy: 0.9194 - val_loss: 0.3005 - val_accuracy: 0.8956 - 8s/epoch - 20ms/step\n",
      "Epoch 26/30\n",
      "430/430 - 7s - loss: 0.2161 - accuracy: 0.9208 - val_loss: 0.2980 - val_accuracy: 0.8942 - 7s/epoch - 16ms/step\n",
      "Epoch 27/30\n",
      "430/430 - 7s - loss: 0.2104 - accuracy: 0.9235 - val_loss: 0.3004 - val_accuracy: 0.8966 - 7s/epoch - 17ms/step\n",
      "Epoch 28/30\n",
      "430/430 - 7s - loss: 0.2037 - accuracy: 0.9257 - val_loss: 0.3041 - val_accuracy: 0.8918 - 7s/epoch - 16ms/step\n",
      "Epoch 29/30\n",
      "430/430 - 7s - loss: 0.2022 - accuracy: 0.9251 - val_loss: 0.3031 - val_accuracy: 0.8970 - 7s/epoch - 17ms/step\n",
      "Epoch 30/30\n",
      "430/430 - 7s - loss: 0.1932 - accuracy: 0.9292 - val_loss: 0.3036 - val_accuracy: 0.8944 - 7s/epoch - 17ms/step\n"
     ]
    }
   ],
   "source": [
    "# building a pyramid scheme neural network\n",
    "model = Sequential([\n",
    "    Flatten(input_shape=[28, 28]),\n",
    "    keras.layers.BatchNormalization(),\n",
    "    Dense(512, activation=\"relu\", kernel_initializer='he_normal'),\n",
    "    keras.layers.BatchNormalization(),\n",
    "    Dense(256, activation=\"relu\", kernel_initializer='he_normal'),\n",
    "    keras.layers.BatchNormalization(),\n",
    "    Dense(128, activation=\"relu\", kernel_initializer='he_normal'),\n",
    "    keras.layers.BatchNormalization(),\n",
    "    Dropout(0.4),\n",
    "    Dense(10, activation=\"softmax\", kernel_initializer='he_normal')\n",
    "])\n",
    "model.compile(loss=\"sparse_categorical_crossentropy\",\n",
    "              optimizer=keras.optimizers.SGD(learning_rate=0.001, momentum=0.9, nesterov=True),\n",
    "              metrics=[\"accuracy\"])\n",
    "history = model.fit(x_train, y_train,batch_size=128,epochs=30,verbose=2,validation_data=(x_valid, y_valid))"
   ]
  },
  {
   "cell_type": "code",
   "execution_count": 33,
   "id": "3a66c34f",
   "metadata": {},
   "outputs": [
    {
     "data": {
      "image/png": "[encoded data removed]",
      "text/plain": [
       "<Figure size 576x360 with 1 Axes>"
      ]
     },
     "metadata": {
      "needs_background": "light"
     },
     "output_type": "display_data"
    }
   ],
   "source": [
    "# Learning curve\n",
    "pd.DataFrame(history.history).plot(figsize=(8, 5))\n",
    "plt.grid(True)\n",
    "plt.gca().set_ylim(0, 1)\n",
    "plt.show()"
   ]
  },
  {
   "cell_type": "code",
   "execution_count": 34,
   "id": "4cf74cf2",
   "metadata": {},
   "outputs": [
    {
     "name": "stdout",
     "output_type": "stream",
     "text": [
      "313/313 [==============================] - 1s 2ms/step - loss: 0.3415 - accuracy: 0.8848\n",
      "Test loss: 0.3415193259716034\n",
      "Test accuracy: 0.8848000168800354\n"
     ]
    }
   ],
   "source": [
    "score = model.evaluate(x_test, y_test)\n",
    "print('Test loss:', score[0]) \n",
    "print('Test accuracy:', score[1])"
   ]
  },
  {
   "cell_type": "markdown",
   "id": "a2b8276c",
   "metadata": {},
   "source": [
    "# -------------------------------------------------------------------------------------------"
   ]
  },
  {
   "cell_type": "code",
   "execution_count": 36,
   "id": "5a59dd90",
   "metadata": {},
   "outputs": [
    {
     "name": "stdout",
     "output_type": "stream",
     "text": [
      "Epoch 1/30\n",
      "1719/1719 [==============================] - 6s 3ms/step - loss: 0.5525 - accuracy: 0.7959 - val_loss: 0.3955 - val_accuracy: 0.8596\n",
      "Epoch 2/30\n",
      "1719/1719 [==============================] - 7s 4ms/step - loss: 0.3945 - accuracy: 0.8539 - val_loss: 0.3805 - val_accuracy: 0.8628\n",
      "Epoch 3/30\n",
      "1719/1719 [==============================] - 6s 3ms/step - loss: 0.3502 - accuracy: 0.8705 - val_loss: 0.3426 - val_accuracy: 0.8754\n",
      "Epoch 4/30\n",
      "1719/1719 [==============================] - 5s 3ms/step - loss: 0.3249 - accuracy: 0.8784 - val_loss: 0.3271 - val_accuracy: 0.8774\n",
      "Epoch 5/30\n",
      "1719/1719 [==============================] - 5s 3ms/step - loss: 0.3062 - accuracy: 0.8847 - val_loss: 0.3257 - val_accuracy: 0.8800\n",
      "Epoch 6/30\n",
      "1719/1719 [==============================] - 5s 3ms/step - loss: 0.2905 - accuracy: 0.8904 - val_loss: 0.3069 - val_accuracy: 0.8892\n",
      "Epoch 7/30\n",
      "1719/1719 [==============================] - 6s 4ms/step - loss: 0.2774 - accuracy: 0.8954 - val_loss: 0.3385 - val_accuracy: 0.8792\n",
      "Epoch 8/30\n",
      "1719/1719 [==============================] - 5s 3ms/step - loss: 0.2652 - accuracy: 0.8999 - val_loss: 0.3388 - val_accuracy: 0.8716\n",
      "Epoch 9/30\n",
      "1719/1719 [==============================] - 4s 3ms/step - loss: 0.2550 - accuracy: 0.9026 - val_loss: 0.3092 - val_accuracy: 0.8904\n",
      "Epoch 10/30\n",
      "1719/1719 [==============================] - 7s 4ms/step - loss: 0.2455 - accuracy: 0.9068 - val_loss: 0.3040 - val_accuracy: 0.8874\n",
      "Epoch 11/30\n",
      "1719/1719 [==============================] - 7s 4ms/step - loss: 0.2372 - accuracy: 0.9091 - val_loss: 0.3153 - val_accuracy: 0.8846\n",
      "Epoch 12/30\n",
      "1719/1719 [==============================] - 7s 4ms/step - loss: 0.2300 - accuracy: 0.9124 - val_loss: 0.3430 - val_accuracy: 0.8760\n",
      "Epoch 13/30\n",
      "1719/1719 [==============================] - 7s 4ms/step - loss: 0.2239 - accuracy: 0.9145 - val_loss: 0.3272 - val_accuracy: 0.8834\n",
      "Epoch 14/30\n",
      "1719/1719 [==============================] - 7s 4ms/step - loss: 0.2147 - accuracy: 0.9183 - val_loss: 0.3181 - val_accuracy: 0.8824\n",
      "Epoch 15/30\n",
      "1719/1719 [==============================] - 8s 4ms/step - loss: 0.2088 - accuracy: 0.9200 - val_loss: 0.3598 - val_accuracy: 0.8766\n",
      "Epoch 16/30\n",
      "1719/1719 [==============================] - 5s 3ms/step - loss: 0.2045 - accuracy: 0.9221 - val_loss: 0.3047 - val_accuracy: 0.8948\n",
      "Epoch 17/30\n",
      "1719/1719 [==============================] - 5s 3ms/step - loss: 0.1995 - accuracy: 0.9231 - val_loss: 0.3394 - val_accuracy: 0.8832\n",
      "Epoch 18/30\n",
      "1719/1719 [==============================] - 5s 3ms/step - loss: 0.1910 - accuracy: 0.9264 - val_loss: 0.3289 - val_accuracy: 0.8928\n",
      "Epoch 19/30\n",
      "1719/1719 [==============================] - 5s 3ms/step - loss: 0.1885 - accuracy: 0.9287 - val_loss: 0.3206 - val_accuracy: 0.8908\n",
      "Epoch 20/30\n",
      "1719/1719 [==============================] - 6s 4ms/step - loss: 0.1826 - accuracy: 0.9297 - val_loss: 0.3124 - val_accuracy: 0.8934\n",
      "Epoch 21/30\n",
      "1719/1719 [==============================] - 11s 6ms/step - loss: 0.1805 - accuracy: 0.9301 - val_loss: 0.3308 - val_accuracy: 0.8904\n",
      "Epoch 22/30\n",
      "1719/1719 [==============================] - 6s 4ms/step - loss: 0.1762 - accuracy: 0.9313 - val_loss: 0.3413 - val_accuracy: 0.8876\n",
      "Epoch 23/30\n",
      "1719/1719 [==============================] - 6s 3ms/step - loss: 0.1723 - accuracy: 0.9337 - val_loss: 0.3352 - val_accuracy: 0.8900\n",
      "Epoch 24/30\n",
      "1719/1719 [==============================] - 6s 4ms/step - loss: 0.1639 - accuracy: 0.9366 - val_loss: 0.3340 - val_accuracy: 0.8926\n",
      "Epoch 25/30\n",
      "1719/1719 [==============================] - 6s 3ms/step - loss: 0.1595 - accuracy: 0.9390 - val_loss: 0.3732 - val_accuracy: 0.8908\n",
      "Epoch 26/30\n",
      "1719/1719 [==============================] - 6s 4ms/step - loss: 0.1565 - accuracy: 0.9401 - val_loss: 0.3610 - val_accuracy: 0.8930\n",
      "Epoch 27/30\n",
      "1719/1719 [==============================] - 6s 3ms/step - loss: 0.1535 - accuracy: 0.9416 - val_loss: 0.3569 - val_accuracy: 0.8922\n",
      "Epoch 28/30\n",
      "1719/1719 [==============================] - 5s 3ms/step - loss: 0.1528 - accuracy: 0.9404 - val_loss: 0.3324 - val_accuracy: 0.8964\n",
      "Epoch 29/30\n",
      "1719/1719 [==============================] - 6s 3ms/step - loss: 0.1455 - accuracy: 0.9438 - val_loss: 0.3506 - val_accuracy: 0.8960\n",
      "Epoch 30/30\n",
      "1719/1719 [==============================] - 5s 3ms/step - loss: 0.1443 - accuracy: 0.9448 - val_loss: 0.3647 - val_accuracy: 0.8916\n"
     ]
    }
   ],
   "source": [
    "model = keras.models.Sequential([\n",
    "    keras.layers.Flatten(input_shape=[28, 28]),\n",
    "    keras.layers.Dense(300, activation=\"relu\"),\n",
    "    keras.layers.Dense(100, activation=\"relu\"),\n",
    "    keras.layers.Dense(100, activation=\"relu\"),\n",
    "    keras.layers.Dense(10, activation=\"softmax\")\n",
    "])\n",
    "model.compile(loss=\"sparse_categorical_crossentropy\",\n",
    "              optimizer=keras.optimizers.SGD(learning_rate=0.1),\n",
    "              metrics=[\"accuracy\"])\n",
    "history_6 = model.fit(x_train, y_train, epochs=30,\n",
    "                    validation_data=(x_valid, y_valid))"
   ]
  },
  {
   "cell_type": "code",
   "execution_count": 37,
   "id": "912e9f49",
   "metadata": {},
   "outputs": [
    {
     "data": {
      "image/png": "[encoded data removed]",
      "text/plain": [
       "<Figure size 576x360 with 1 Axes>"
      ]
     },
     "metadata": {
      "needs_background": "light"
     },
     "output_type": "display_data"
    }
   ],
   "source": [
    "# Learning curve\n",
    "pd.DataFrame(history_6.history).plot(figsize=(8, 5))\n",
    "plt.grid(True)\n",
    "plt.gca().set_ylim(0, 1)\n",
    "plt.show()"
   ]
  },
  {
   "cell_type": "code",
   "execution_count": 38,
   "id": "77a4026b",
   "metadata": {},
   "outputs": [
    {
     "name": "stdout",
     "output_type": "stream",
     "text": [
      "313/313 [==============================] - 1s 2ms/step - loss: 0.3888 - accuracy: 0.8856\n",
      "Test loss: 0.3888002932071686\n",
      "Test accuracy: 0.8855999708175659\n"
     ]
    }
   ],
   "source": [
    "score = model.evaluate(x_test, y_test)\n",
    "print('Test loss:', score[0]) \n",
    "print('Test accuracy:', score[1])"
   ]
  },
  {
   "cell_type": "markdown",
   "id": "6fecf962",
   "metadata": {},
   "source": [
    "# -------------------------------------------------------------------------------------------"
   ]
  },
  {
   "cell_type": "code",
   "execution_count": 39,
   "id": "d4e7130f",
   "metadata": {},
   "outputs": [
    {
     "name": "stdout",
     "output_type": "stream",
     "text": [
      "Epoch 1/50\n",
      "430/430 - 10s - loss: 0.6868 - accuracy: 0.7631 - val_loss: 0.4177 - val_accuracy: 0.8530 - 10s/epoch - 23ms/step\n",
      "Epoch 2/50\n",
      "430/430 - 8s - loss: 0.4479 - accuracy: 0.8400 - val_loss: 0.3642 - val_accuracy: 0.8702 - 8s/epoch - 19ms/step\n",
      "Epoch 3/50\n",
      "430/430 - 9s - loss: 0.3962 - accuracy: 0.8589 - val_loss: 0.3432 - val_accuracy: 0.8750 - 9s/epoch - 22ms/step\n",
      "Epoch 4/50\n",
      "430/430 - 8s - loss: 0.3655 - accuracy: 0.8701 - val_loss: 0.3279 - val_accuracy: 0.8844 - 8s/epoch - 19ms/step\n",
      "Epoch 5/50\n",
      "430/430 - 7s - loss: 0.3410 - accuracy: 0.8771 - val_loss: 0.3181 - val_accuracy: 0.8840 - 7s/epoch - 17ms/step\n",
      "Epoch 6/50\n",
      "430/430 - 7s - loss: 0.3213 - accuracy: 0.8836 - val_loss: 0.3096 - val_accuracy: 0.8870 - 7s/epoch - 17ms/step\n",
      "Epoch 7/50\n",
      "430/430 - 8s - loss: 0.3053 - accuracy: 0.8892 - val_loss: 0.3048 - val_accuracy: 0.8898 - 8s/epoch - 18ms/step\n",
      "Epoch 8/50\n",
      "430/430 - 8s - loss: 0.2932 - accuracy: 0.8942 - val_loss: 0.2981 - val_accuracy: 0.8924 - 8s/epoch - 19ms/step\n",
      "Epoch 9/50\n",
      "430/430 - 8s - loss: 0.2832 - accuracy: 0.8966 - val_loss: 0.2987 - val_accuracy: 0.8914 - 8s/epoch - 18ms/step\n",
      "Epoch 10/50\n",
      "430/430 - 8s - loss: 0.2717 - accuracy: 0.9014 - val_loss: 0.2912 - val_accuracy: 0.8940 - 8s/epoch - 18ms/step\n",
      "Epoch 11/50\n",
      "430/430 - 8s - loss: 0.2578 - accuracy: 0.9056 - val_loss: 0.2898 - val_accuracy: 0.8944 - 8s/epoch - 18ms/step\n",
      "Epoch 12/50\n",
      "430/430 - 9s - loss: 0.2512 - accuracy: 0.9067 - val_loss: 0.2894 - val_accuracy: 0.8922 - 9s/epoch - 20ms/step\n",
      "Epoch 13/50\n",
      "430/430 - 9s - loss: 0.2415 - accuracy: 0.9120 - val_loss: 0.2877 - val_accuracy: 0.8936 - 9s/epoch - 20ms/step\n",
      "Epoch 14/50\n",
      "430/430 - 7s - loss: 0.2335 - accuracy: 0.9145 - val_loss: 0.2842 - val_accuracy: 0.8968 - 7s/epoch - 17ms/step\n",
      "Epoch 15/50\n",
      "430/430 - 7s - loss: 0.2244 - accuracy: 0.9183 - val_loss: 0.2862 - val_accuracy: 0.8934 - 7s/epoch - 16ms/step\n",
      "Epoch 16/50\n",
      "430/430 - 8s - loss: 0.2165 - accuracy: 0.9214 - val_loss: 0.2845 - val_accuracy: 0.8946 - 8s/epoch - 18ms/step\n",
      "Epoch 17/50\n",
      "430/430 - 8s - loss: 0.2112 - accuracy: 0.9239 - val_loss: 0.2853 - val_accuracy: 0.8972 - 8s/epoch - 19ms/step\n",
      "Epoch 18/50\n",
      "430/430 - 8s - loss: 0.2037 - accuracy: 0.9257 - val_loss: 0.2823 - val_accuracy: 0.9006 - 8s/epoch - 19ms/step\n",
      "Epoch 19/50\n",
      "430/430 - 8s - loss: 0.1987 - accuracy: 0.9281 - val_loss: 0.2817 - val_accuracy: 0.8996 - 8s/epoch - 20ms/step\n",
      "Epoch 20/50\n",
      "430/430 - 8s - loss: 0.1892 - accuracy: 0.9314 - val_loss: 0.2820 - val_accuracy: 0.8978 - 8s/epoch - 18ms/step\n",
      "Epoch 21/50\n",
      "430/430 - 8s - loss: 0.1832 - accuracy: 0.9331 - val_loss: 0.2826 - val_accuracy: 0.8990 - 8s/epoch - 19ms/step\n",
      "Epoch 22/50\n",
      "430/430 - 7s - loss: 0.1776 - accuracy: 0.9363 - val_loss: 0.2874 - val_accuracy: 0.8982 - 7s/epoch - 17ms/step\n",
      "Epoch 23/50\n",
      "430/430 - 8s - loss: 0.1707 - accuracy: 0.9388 - val_loss: 0.2832 - val_accuracy: 0.9002 - 8s/epoch - 18ms/step\n",
      "Epoch 24/50\n",
      "430/430 - 8s - loss: 0.1647 - accuracy: 0.9401 - val_loss: 0.2859 - val_accuracy: 0.8982 - 8s/epoch - 20ms/step\n",
      "Epoch 25/50\n",
      "430/430 - 12s - loss: 0.1593 - accuracy: 0.9420 - val_loss: 0.2842 - val_accuracy: 0.9004 - 12s/epoch - 28ms/step\n",
      "Epoch 26/50\n",
      "430/430 - 9s - loss: 0.1525 - accuracy: 0.9458 - val_loss: 0.2878 - val_accuracy: 0.9002 - 9s/epoch - 22ms/step\n",
      "Epoch 27/50\n",
      "430/430 - 9s - loss: 0.1477 - accuracy: 0.9474 - val_loss: 0.2901 - val_accuracy: 0.8990 - 9s/epoch - 20ms/step\n",
      "Epoch 28/50\n",
      "430/430 - 9s - loss: 0.1417 - accuracy: 0.9499 - val_loss: 0.2928 - val_accuracy: 0.8988 - 9s/epoch - 21ms/step\n",
      "Epoch 29/50\n",
      "430/430 - 9s - loss: 0.1389 - accuracy: 0.9499 - val_loss: 0.2944 - val_accuracy: 0.8970 - 9s/epoch - 21ms/step\n",
      "Epoch 30/50\n",
      "430/430 - 9s - loss: 0.1331 - accuracy: 0.9523 - val_loss: 0.2963 - val_accuracy: 0.8980 - 9s/epoch - 20ms/step\n",
      "Epoch 31/50\n",
      "430/430 - 9s - loss: 0.1282 - accuracy: 0.9535 - val_loss: 0.2947 - val_accuracy: 0.8982 - 9s/epoch - 20ms/step\n",
      "Epoch 32/50\n",
      "430/430 - 8s - loss: 0.1222 - accuracy: 0.9569 - val_loss: 0.2975 - val_accuracy: 0.8998 - 8s/epoch - 20ms/step\n",
      "Epoch 33/50\n",
      "430/430 - 9s - loss: 0.1205 - accuracy: 0.9578 - val_loss: 0.3024 - val_accuracy: 0.8972 - 9s/epoch - 20ms/step\n",
      "Epoch 34/50\n",
      "430/430 - 8s - loss: 0.1170 - accuracy: 0.9580 - val_loss: 0.3005 - val_accuracy: 0.9006 - 8s/epoch - 19ms/step\n",
      "Epoch 35/50\n",
      "430/430 - 8s - loss: 0.1104 - accuracy: 0.9614 - val_loss: 0.3083 - val_accuracy: 0.8976 - 8s/epoch - 19ms/step\n",
      "Epoch 36/50\n",
      "430/430 - 8s - loss: 0.1070 - accuracy: 0.9615 - val_loss: 0.3139 - val_accuracy: 0.8946 - 8s/epoch - 19ms/step\n",
      "Epoch 37/50\n",
      "430/430 - 8s - loss: 0.1036 - accuracy: 0.9641 - val_loss: 0.3127 - val_accuracy: 0.8968 - 8s/epoch - 19ms/step\n",
      "Epoch 38/50\n",
      "430/430 - 8s - loss: 0.0995 - accuracy: 0.9659 - val_loss: 0.3152 - val_accuracy: 0.8960 - 8s/epoch - 19ms/step\n",
      "Epoch 39/50\n",
      "430/430 - 8s - loss: 0.0965 - accuracy: 0.9667 - val_loss: 0.3166 - val_accuracy: 0.8998 - 8s/epoch - 19ms/step\n",
      "Epoch 40/50\n",
      "430/430 - 7s - loss: 0.0933 - accuracy: 0.9681 - val_loss: 0.3278 - val_accuracy: 0.8958 - 7s/epoch - 17ms/step\n",
      "Epoch 41/50\n",
      "430/430 - 8s - loss: 0.0898 - accuracy: 0.9682 - val_loss: 0.3247 - val_accuracy: 0.8968 - 8s/epoch - 19ms/step\n",
      "Epoch 42/50\n",
      "430/430 - 9s - loss: 0.0859 - accuracy: 0.9703 - val_loss: 0.3275 - val_accuracy: 0.8984 - 9s/epoch - 21ms/step\n",
      "Epoch 43/50\n",
      "430/430 - 8s - loss: 0.0817 - accuracy: 0.9723 - val_loss: 0.3246 - val_accuracy: 0.9012 - 8s/epoch - 18ms/step\n",
      "Epoch 44/50\n",
      "430/430 - 8s - loss: 0.0800 - accuracy: 0.9724 - val_loss: 0.3339 - val_accuracy: 0.8966 - 8s/epoch - 18ms/step\n",
      "Epoch 45/50\n",
      "430/430 - 9s - loss: 0.0776 - accuracy: 0.9735 - val_loss: 0.3316 - val_accuracy: 0.9006 - 9s/epoch - 22ms/step\n",
      "Epoch 46/50\n",
      "430/430 - 9s - loss: 0.0727 - accuracy: 0.9751 - val_loss: 0.3432 - val_accuracy: 0.8996 - 9s/epoch - 22ms/step\n",
      "Epoch 47/50\n",
      "430/430 - 7s - loss: 0.0708 - accuracy: 0.9761 - val_loss: 0.3467 - val_accuracy: 0.8970 - 7s/epoch - 17ms/step\n",
      "Epoch 48/50\n",
      "430/430 - 9s - loss: 0.0665 - accuracy: 0.9775 - val_loss: 0.3531 - val_accuracy: 0.8956 - 9s/epoch - 20ms/step\n",
      "Epoch 49/50\n",
      "430/430 - 9s - loss: 0.0676 - accuracy: 0.9768 - val_loss: 0.3509 - val_accuracy: 0.8984 - 9s/epoch - 21ms/step\n",
      "Epoch 50/50\n",
      "430/430 - 9s - loss: 0.0654 - accuracy: 0.9782 - val_loss: 0.3549 - val_accuracy: 0.8968 - 9s/epoch - 20ms/step\n"
     ]
    }
   ],
   "source": [
    "model = keras.models.Sequential([\n",
    "    keras.layers.Flatten(input_shape=[28, 28]),\n",
    "    keras.layers.BatchNormalization(),\n",
    "    keras.layers.Dense(512, activation=\"relu\"),\n",
    "    keras.layers.BatchNormalization(),\n",
    "    keras.layers.Dense(512, activation=\"relu\"),\n",
    "    keras.layers.BatchNormalization(),\n",
    "    keras.layers.Dense(512, activation=\"relu\"),\n",
    "    Dropout(0.4),\n",
    "    keras.layers.Dense(10, activation=\"softmax\")\n",
    "])\n",
    "model.compile(loss=\"sparse_categorical_crossentropy\",\n",
    "              optimizer=keras.optimizers.SGD(learning_rate=0.001, momentum=0.9, nesterov=True),\n",
    "              metrics=[\"accuracy\"])\n",
    "history = model.fit(x_train, y_train,batch_size=128,epochs=50,verbose=2,validation_data=(x_valid, y_valid))"
   ]
  },
  {
   "cell_type": "code",
   "execution_count": 40,
   "id": "26213f9d",
   "metadata": {},
   "outputs": [
    {
     "data": {
      "image/png": "[encoded data removed]",
      "text/plain": [
       "<Figure size 576x360 with 1 Axes>"
      ]
     },
     "metadata": {
      "needs_background": "light"
     },
     "output_type": "display_data"
    }
   ],
   "source": [
    "# Learning curve\n",
    "pd.DataFrame(history.history).plot(figsize=(8, 5))\n",
    "plt.grid(True)\n",
    "plt.gca().set_ylim(0, 1)\n",
    "plt.show()"
   ]
  },
  {
   "cell_type": "code",
   "execution_count": 41,
   "id": "cda12b4b",
   "metadata": {},
   "outputs": [
    {
     "name": "stdout",
     "output_type": "stream",
     "text": [
      "313/313 [==============================] - 1s 3ms/step - loss: 0.4061 - accuracy: 0.8888\n",
      "Test loss: 0.4061390459537506\n",
      "Test accuracy: 0.8888000249862671\n"
     ]
    }
   ],
   "source": [
    "score = model.evaluate(x_test, y_test)\n",
    "print('Test loss:', score[0]) \n",
    "print('Test accuracy:', score[1])"
   ]
  },
  {
   "cell_type": "markdown",
   "id": "90af4fd1",
   "metadata": {},
   "source": [
    "# -------------------------------------------------------------------------------------------"
   ]
  },
  {
   "cell_type": "markdown",
   "id": "8fc694ab",
   "metadata": {},
   "source": [
    "### Highest accuracy"
   ]
  },
  {
   "cell_type": "code",
   "execution_count": 56,
   "id": "d3d539c8",
   "metadata": {},
   "outputs": [
    {
     "name": "stdout",
     "output_type": "stream",
     "text": [
      "Epoch 1/50\n",
      "430/430 - 10s - loss: 16.2511 - accuracy: 0.6156 - val_loss: 14.4443 - val_accuracy: 0.7986 - 10s/epoch - 23ms/step\n",
      "Epoch 2/50\n",
      "430/430 - 8s - loss: 13.4337 - accuracy: 0.7551 - val_loss: 12.1563 - val_accuracy: 0.8288 - 8s/epoch - 19ms/step\n",
      "Epoch 3/50\n",
      "430/430 - 8s - loss: 11.3273 - accuracy: 0.7880 - val_loss: 10.2700 - val_accuracy: 0.8456 - 8s/epoch - 19ms/step\n",
      "Epoch 4/50\n",
      "430/430 - 9s - loss: 9.5864 - accuracy: 0.8040 - val_loss: 8.6963 - val_accuracy: 0.8514 - 9s/epoch - 21ms/step\n",
      "Epoch 5/50\n",
      "430/430 - 10s - loss: 8.1240 - accuracy: 0.8194 - val_loss: 7.3688 - val_accuracy: 0.8596 - 10s/epoch - 24ms/step\n",
      "Epoch 6/50\n",
      "430/430 - 13s - loss: 6.8940 - accuracy: 0.8281 - val_loss: 6.2580 - val_accuracy: 0.8616 - 13s/epoch - 31ms/step\n",
      "Epoch 7/50\n",
      "430/430 - 9s - loss: 5.8606 - accuracy: 0.8379 - val_loss: 5.3187 - val_accuracy: 0.8682 - 9s/epoch - 21ms/step\n",
      "Epoch 8/50\n",
      "430/430 - 9s - loss: 4.9958 - accuracy: 0.8435 - val_loss: 4.5320 - val_accuracy: 0.8706 - 9s/epoch - 20ms/step\n",
      "Epoch 9/50\n",
      "430/430 - 10s - loss: 4.2650 - accuracy: 0.8493 - val_loss: 3.8729 - val_accuracy: 0.8700 - 10s/epoch - 24ms/step\n",
      "Epoch 10/50\n",
      "430/430 - 9s - loss: 3.6495 - accuracy: 0.8557 - val_loss: 3.3073 - val_accuracy: 0.8796 - 9s/epoch - 21ms/step\n",
      "Epoch 11/50\n",
      "430/430 - 9s - loss: 3.1281 - accuracy: 0.8598 - val_loss: 2.8401 - val_accuracy: 0.8806 - 9s/epoch - 22ms/step\n",
      "Epoch 12/50\n",
      "430/430 - 9s - loss: 2.6930 - accuracy: 0.8637 - val_loss: 2.4466 - val_accuracy: 0.8814 - 9s/epoch - 20ms/step\n",
      "Epoch 13/50\n",
      "430/430 - 9s - loss: 2.3229 - accuracy: 0.8682 - val_loss: 2.1119 - val_accuracy: 0.8832 - 9s/epoch - 22ms/step\n",
      "Epoch 14/50\n",
      "430/430 - 9s - loss: 2.0102 - accuracy: 0.8703 - val_loss: 1.8312 - val_accuracy: 0.8864 - 9s/epoch - 21ms/step\n",
      "Epoch 15/50\n",
      "430/430 - 9s - loss: 1.7521 - accuracy: 0.8740 - val_loss: 1.5939 - val_accuracy: 0.8868 - 9s/epoch - 21ms/step\n",
      "Epoch 16/50\n",
      "430/430 - 9s - loss: 1.5299 - accuracy: 0.8779 - val_loss: 1.3996 - val_accuracy: 0.8876 - 9s/epoch - 20ms/step\n",
      "Epoch 17/50\n",
      "430/430 - 9s - loss: 1.3467 - accuracy: 0.8794 - val_loss: 1.2299 - val_accuracy: 0.8928 - 9s/epoch - 20ms/step\n",
      "Epoch 18/50\n",
      "430/430 - 11s - loss: 1.1912 - accuracy: 0.8827 - val_loss: 1.0978 - val_accuracy: 0.8886 - 11s/epoch - 25ms/step\n",
      "Epoch 19/50\n",
      "430/430 - 9s - loss: 1.0586 - accuracy: 0.8842 - val_loss: 0.9797 - val_accuracy: 0.8888 - 9s/epoch - 21ms/step\n",
      "Epoch 20/50\n",
      "430/430 - 14s - loss: 0.9462 - accuracy: 0.8868 - val_loss: 0.8798 - val_accuracy: 0.8942 - 14s/epoch - 32ms/step\n",
      "Epoch 21/50\n",
      "430/430 - 9s - loss: 0.8502 - accuracy: 0.8894 - val_loss: 0.8015 - val_accuracy: 0.8924 - 9s/epoch - 21ms/step\n",
      "Epoch 22/50\n",
      "430/430 - 8s - loss: 0.7780 - accuracy: 0.8898 - val_loss: 0.7303 - val_accuracy: 0.8948 - 8s/epoch - 19ms/step\n",
      "Epoch 23/50\n",
      "430/430 - 8s - loss: 0.7134 - accuracy: 0.8918 - val_loss: 0.6815 - val_accuracy: 0.8862 - 8s/epoch - 19ms/step\n",
      "Epoch 24/50\n",
      "430/430 - 8s - loss: 0.6555 - accuracy: 0.8930 - val_loss: 0.6259 - val_accuracy: 0.8922 - 8s/epoch - 19ms/step\n",
      "Epoch 25/50\n",
      "430/430 - 8s - loss: 0.6094 - accuracy: 0.8938 - val_loss: 0.5886 - val_accuracy: 0.8898 - 8s/epoch - 19ms/step\n",
      "Epoch 26/50\n",
      "430/430 - 9s - loss: 0.5777 - accuracy: 0.8925 - val_loss: 0.5565 - val_accuracy: 0.8976 - 9s/epoch - 20ms/step\n",
      "Epoch 27/50\n",
      "430/430 - 9s - loss: 0.5417 - accuracy: 0.8955 - val_loss: 0.5319 - val_accuracy: 0.8940 - 9s/epoch - 22ms/step\n",
      "Epoch 28/50\n",
      "430/430 - 16s - loss: 0.5184 - accuracy: 0.8948 - val_loss: 0.5071 - val_accuracy: 0.8936 - 16s/epoch - 38ms/step\n",
      "Epoch 29/50\n",
      "430/430 - 16s - loss: 0.4923 - accuracy: 0.8976 - val_loss: 0.4766 - val_accuracy: 0.9000 - 16s/epoch - 37ms/step\n",
      "Epoch 30/50\n",
      "430/430 - 12s - loss: 0.4711 - accuracy: 0.8979 - val_loss: 0.4651 - val_accuracy: 0.8956 - 12s/epoch - 28ms/step\n",
      "Epoch 31/50\n",
      "430/430 - 10s - loss: 0.4603 - accuracy: 0.8978 - val_loss: 0.4597 - val_accuracy: 0.8924 - 10s/epoch - 23ms/step\n",
      "Epoch 32/50\n",
      "430/430 - 9s - loss: 0.4494 - accuracy: 0.8995 - val_loss: 0.4417 - val_accuracy: 0.8926 - 9s/epoch - 21ms/step\n",
      "Epoch 33/50\n",
      "430/430 - 9s - loss: 0.4355 - accuracy: 0.8984 - val_loss: 0.4430 - val_accuracy: 0.8918 - 9s/epoch - 22ms/step\n",
      "Epoch 34/50\n",
      "430/430 - 9s - loss: 0.4224 - accuracy: 0.9022 - val_loss: 0.4380 - val_accuracy: 0.8922 - 9s/epoch - 21ms/step\n",
      "Epoch 35/50\n",
      "430/430 - 8s - loss: 0.4194 - accuracy: 0.9004 - val_loss: 0.4238 - val_accuracy: 0.8928 - 8s/epoch - 19ms/step\n",
      "Epoch 36/50\n",
      "430/430 - 8s - loss: 0.4090 - accuracy: 0.9020 - val_loss: 0.4240 - val_accuracy: 0.8912 - 8s/epoch - 19ms/step\n",
      "Epoch 37/50\n",
      "430/430 - 8s - loss: 0.4083 - accuracy: 0.9008 - val_loss: 0.4168 - val_accuracy: 0.8954 - 8s/epoch - 19ms/step\n",
      "Epoch 38/50\n",
      "430/430 - 8s - loss: 0.4006 - accuracy: 0.9034 - val_loss: 0.4166 - val_accuracy: 0.8942 - 8s/epoch - 19ms/step\n",
      "Epoch 39/50\n",
      "430/430 - 8s - loss: 0.3999 - accuracy: 0.9020 - val_loss: 0.4142 - val_accuracy: 0.8966 - 8s/epoch - 19ms/step\n",
      "Epoch 40/50\n",
      "430/430 - 8s - loss: 0.3929 - accuracy: 0.9038 - val_loss: 0.4087 - val_accuracy: 0.8960 - 8s/epoch - 20ms/step\n",
      "Epoch 41/50\n",
      "430/430 - 9s - loss: 0.3893 - accuracy: 0.9033 - val_loss: 0.4090 - val_accuracy: 0.8950 - 9s/epoch - 20ms/step\n",
      "Epoch 42/50\n",
      "430/430 - 9s - loss: 0.3881 - accuracy: 0.9043 - val_loss: 0.4059 - val_accuracy: 0.8954 - 9s/epoch - 21ms/step\n",
      "Epoch 43/50\n",
      "430/430 - 9s - loss: 0.3853 - accuracy: 0.9048 - val_loss: 0.4126 - val_accuracy: 0.8932 - 9s/epoch - 22ms/step\n",
      "Epoch 44/50\n",
      "430/430 - 9s - loss: 0.3867 - accuracy: 0.9025 - val_loss: 0.4060 - val_accuracy: 0.8958 - 9s/epoch - 21ms/step\n",
      "Epoch 45/50\n",
      "430/430 - 9s - loss: 0.3833 - accuracy: 0.9045 - val_loss: 0.4021 - val_accuracy: 0.8974 - 9s/epoch - 21ms/step\n",
      "Epoch 46/50\n",
      "430/430 - 11s - loss: 0.3821 - accuracy: 0.9039 - val_loss: 0.4054 - val_accuracy: 0.8946 - 11s/epoch - 25ms/step\n",
      "Epoch 47/50\n",
      "430/430 - 11s - loss: 0.3830 - accuracy: 0.9043 - val_loss: 0.4122 - val_accuracy: 0.8908 - 11s/epoch - 26ms/step\n",
      "Epoch 48/50\n",
      "430/430 - 9s - loss: 0.3816 - accuracy: 0.9057 - val_loss: 0.3998 - val_accuracy: 0.8968 - 9s/epoch - 22ms/step\n",
      "Epoch 49/50\n",
      "430/430 - 11s - loss: 0.3818 - accuracy: 0.9056 - val_loss: 0.3979 - val_accuracy: 0.8972 - 11s/epoch - 24ms/step\n",
      "Epoch 50/50\n",
      "430/430 - 9s - loss: 0.3819 - accuracy: 0.9052 - val_loss: 0.4003 - val_accuracy: 0.8954 - 9s/epoch - 21ms/step\n"
     ]
    }
   ],
   "source": [
    "model = keras.models.Sequential([\n",
    "    keras.layers.Flatten(input_shape=[28, 28]),\n",
    "    keras.layers.BatchNormalization(),\n",
    "    keras.layers.Dense(512, activation=\"relu\", kernel_regularizer=keras.regularizers.l2(0.01)),\n",
    "    Dropout(0.4),\n",
    "    keras.layers.BatchNormalization(),\n",
    "    keras.layers.Dense(512, activation=\"relu\", kernel_regularizer=keras.regularizers.l2(0.01)),\n",
    "    Dropout(0.4),\n",
    "    keras.layers.BatchNormalization(),\n",
    "    keras.layers.Dense(512, activation=\"relu\", kernel_regularizer=keras.regularizers.l2(0.01)),\n",
    "    Dropout(0.4),\n",
    "    keras.layers.Dense(10, activation=\"softmax\")\n",
    "])\n",
    "model.compile(loss=\"sparse_categorical_crossentropy\",\n",
    "              optimizer=keras.optimizers.SGD(learning_rate=0.001, momentum=0.9, nesterov=True),\n",
    "              metrics=[\"accuracy\"])\n",
    "history = model.fit(x_train, y_train,batch_size=128,epochs=50,verbose=2,validation_data=(x_valid, y_valid))"
   ]
  },
  {
   "cell_type": "code",
   "execution_count": 50,
   "id": "e9661dbd",
   "metadata": {},
   "outputs": [
    {
     "data": {
      "image/png": "[encoded data removed]",
      "text/plain": [
       "<Figure size 576x360 with 1 Axes>"
      ]
     },
     "metadata": {
      "needs_background": "light"
     },
     "output_type": "display_data"
    }
   ],
   "source": [
    "# Learning curve\n",
    "pd.DataFrame(history.history).plot(figsize=(8, 5))\n",
    "plt.grid(True)\n",
    "plt.gca().set_ylim(0, 1)\n",
    "plt.show()"
   ]
  },
  {
   "cell_type": "code",
   "execution_count": 51,
   "id": "bb2ebc53",
   "metadata": {},
   "outputs": [
    {
     "name": "stdout",
     "output_type": "stream",
     "text": [
      "313/313 [==============================] - 4s 14ms/step - loss: 0.4239 - accuracy: 0.8896\n",
      "Test loss: 0.4238976538181305\n",
      "Test accuracy: 0.8895999789237976\n"
     ]
    }
   ],
   "source": [
    "score = model.evaluate(x_test, y_test)\n",
    "print('Test loss:', score[0]) \n",
    "print('Test accuracy:', score[1])"
   ]
  },
  {
   "cell_type": "markdown",
   "id": "19efdd4d",
   "metadata": {},
   "source": [
    "# -------------------------------------------------------------------------------------------"
   ]
  },
  {
   "cell_type": "code",
   "execution_count": 8,
   "id": "d14fbd4d",
   "metadata": {},
   "outputs": [
    {
     "name": "stderr",
     "output_type": "stream",
     "text": [
      "2022-02-13 10:23:03.730306: I tensorflow/core/platform/cpu_feature_guard.cc:151] This TensorFlow binary is optimized with oneAPI Deep Neural Network Library (oneDNN) to use the following CPU instructions in performance-critical operations:  AVX2 FMA\n",
      "To enable them in other operations, rebuild TensorFlow with the appropriate compiler flags.\n"
     ]
    },
    {
     "name": "stdout",
     "output_type": "stream",
     "text": [
      "Epoch 1/100\n",
      "430/430 - 23s - loss: 182.2502 - accuracy: 0.6367 - val_loss: 51.4247 - val_accuracy: 0.6224 - 23s/epoch - 53ms/step\n",
      "Epoch 2/100\n",
      "430/430 - 20s - loss: 12.4050 - accuracy: 0.7522 - val_loss: 2.6563 - val_accuracy: 0.7370 - 20s/epoch - 45ms/step\n",
      "Epoch 3/100\n",
      "430/430 - 16s - loss: 2.1441 - accuracy: 0.7013 - val_loss: 1.9140 - val_accuracy: 0.7316 - 16s/epoch - 38ms/step\n",
      "Epoch 4/100\n",
      "430/430 - 13s - loss: 1.9759 - accuracy: 0.7033 - val_loss: 1.8106 - val_accuracy: 0.7240 - 13s/epoch - 31ms/step\n",
      "Epoch 5/100\n",
      "430/430 - 12s - loss: 1.9020 - accuracy: 0.7065 - val_loss: 1.6921 - val_accuracy: 0.7706 - 12s/epoch - 28ms/step\n",
      "Epoch 6/100\n",
      "430/430 - 12s - loss: 1.8622 - accuracy: 0.7060 - val_loss: 1.6457 - val_accuracy: 0.7654 - 12s/epoch - 28ms/step\n",
      "Epoch 7/100\n",
      "430/430 - 12s - loss: 1.8335 - accuracy: 0.7062 - val_loss: 1.6389 - val_accuracy: 0.7830 - 12s/epoch - 27ms/step\n",
      "Epoch 8/100\n",
      "430/430 - 10s - loss: 1.8133 - accuracy: 0.7135 - val_loss: 1.6225 - val_accuracy: 0.7850 - 10s/epoch - 24ms/step\n",
      "Epoch 9/100\n",
      "430/430 - 10s - loss: 1.8047 - accuracy: 0.7124 - val_loss: 1.5826 - val_accuracy: 0.7860 - 10s/epoch - 23ms/step\n",
      "Epoch 10/100\n",
      "430/430 - 10s - loss: 1.7939 - accuracy: 0.7141 - val_loss: 1.5857 - val_accuracy: 0.7928 - 10s/epoch - 23ms/step\n",
      "Epoch 11/100\n",
      "430/430 - 10s - loss: 1.7765 - accuracy: 0.7170 - val_loss: 1.5853 - val_accuracy: 0.7912 - 10s/epoch - 23ms/step\n",
      "Epoch 12/100\n",
      "430/430 - 11s - loss: 1.7725 - accuracy: 0.7152 - val_loss: 1.5928 - val_accuracy: 0.7848 - 11s/epoch - 25ms/step\n",
      "Epoch 13/100\n",
      "430/430 - 10s - loss: 1.7664 - accuracy: 0.7167 - val_loss: 1.5664 - val_accuracy: 0.7828 - 10s/epoch - 24ms/step\n",
      "Epoch 14/100\n",
      "430/430 - 11s - loss: 1.7572 - accuracy: 0.7184 - val_loss: 1.5854 - val_accuracy: 0.7842 - 11s/epoch - 25ms/step\n",
      "Epoch 15/100\n",
      "430/430 - 10s - loss: 1.7757 - accuracy: 0.7211 - val_loss: 1.5507 - val_accuracy: 0.8044 - 10s/epoch - 23ms/step\n",
      "Epoch 16/100\n",
      "430/430 - 10s - loss: 1.7663 - accuracy: 0.7226 - val_loss: 1.6141 - val_accuracy: 0.7802 - 10s/epoch - 24ms/step\n",
      "Epoch 17/100\n",
      "430/430 - 11s - loss: 1.7685 - accuracy: 0.7281 - val_loss: 1.5640 - val_accuracy: 0.7978 - 11s/epoch - 25ms/step\n",
      "Epoch 18/100\n",
      "430/430 - 11s - loss: 1.7813 - accuracy: 0.7256 - val_loss: 1.5747 - val_accuracy: 0.7962 - 11s/epoch - 26ms/step\n",
      "Epoch 19/100\n",
      "430/430 - 11s - loss: 1.7608 - accuracy: 0.7247 - val_loss: 1.5545 - val_accuracy: 0.7920 - 11s/epoch - 25ms/step\n",
      "Epoch 20/100\n",
      "430/430 - 11s - loss: 1.7584 - accuracy: 0.7258 - val_loss: 1.5753 - val_accuracy: 0.7874 - 11s/epoch - 25ms/step\n",
      "Epoch 21/100\n",
      "430/430 - 10s - loss: 1.7655 - accuracy: 0.7273 - val_loss: 1.5641 - val_accuracy: 0.7942 - 10s/epoch - 23ms/step\n",
      "Epoch 22/100\n",
      "430/430 - 13s - loss: 1.7722 - accuracy: 0.7247 - val_loss: 1.5642 - val_accuracy: 0.7830 - 13s/epoch - 31ms/step\n",
      "Epoch 23/100\n",
      "430/430 - 13s - loss: 1.7576 - accuracy: 0.7241 - val_loss: 1.5601 - val_accuracy: 0.8022 - 13s/epoch - 29ms/step\n",
      "Epoch 24/100\n",
      "430/430 - 12s - loss: 1.7584 - accuracy: 0.7257 - val_loss: 1.5361 - val_accuracy: 0.8020 - 12s/epoch - 28ms/step\n",
      "Epoch 25/100\n",
      "430/430 - 10s - loss: 1.7465 - accuracy: 0.7265 - val_loss: 1.5272 - val_accuracy: 0.7930 - 10s/epoch - 22ms/step\n",
      "Epoch 26/100\n",
      "430/430 - 11s - loss: 1.7420 - accuracy: 0.7258 - val_loss: 1.5834 - val_accuracy: 0.7838 - 11s/epoch - 25ms/step\n",
      "Epoch 27/100\n",
      "430/430 - 13s - loss: 1.7387 - accuracy: 0.7260 - val_loss: 1.5393 - val_accuracy: 0.8068 - 13s/epoch - 30ms/step\n",
      "Epoch 28/100\n",
      "430/430 - 11s - loss: 1.7490 - accuracy: 0.7253 - val_loss: 1.5417 - val_accuracy: 0.7984 - 11s/epoch - 25ms/step\n",
      "Epoch 29/100\n",
      "430/430 - 10s - loss: 1.7284 - accuracy: 0.7308 - val_loss: 1.5499 - val_accuracy: 0.7964 - 10s/epoch - 23ms/step\n",
      "Epoch 30/100\n",
      "430/430 - 10s - loss: 1.7310 - accuracy: 0.7273 - val_loss: 1.5003 - val_accuracy: 0.8094 - 10s/epoch - 23ms/step\n",
      "Epoch 31/100\n",
      "430/430 - 10s - loss: 1.7212 - accuracy: 0.7287 - val_loss: 1.5010 - val_accuracy: 0.8012 - 10s/epoch - 23ms/step\n",
      "Epoch 32/100\n",
      "430/430 - 10s - loss: 1.7251 - accuracy: 0.7266 - val_loss: 1.4889 - val_accuracy: 0.8084 - 10s/epoch - 23ms/step\n",
      "Epoch 33/100\n",
      "430/430 - 9s - loss: 1.7204 - accuracy: 0.7289 - val_loss: 1.5406 - val_accuracy: 0.7956 - 9s/epoch - 22ms/step\n",
      "Epoch 34/100\n",
      "430/430 - 10s - loss: 1.7202 - accuracy: 0.7264 - val_loss: 1.4961 - val_accuracy: 0.7900 - 10s/epoch - 24ms/step\n",
      "Epoch 35/100\n",
      "430/430 - 9s - loss: 1.7049 - accuracy: 0.7247 - val_loss: 1.4718 - val_accuracy: 0.8026 - 9s/epoch - 22ms/step\n",
      "Epoch 36/100\n",
      "430/430 - 9s - loss: 1.7052 - accuracy: 0.7269 - val_loss: 1.5491 - val_accuracy: 0.7854 - 9s/epoch - 22ms/step\n",
      "Epoch 37/100\n",
      "430/430 - 10s - loss: 1.6950 - accuracy: 0.7278 - val_loss: 1.4683 - val_accuracy: 0.7968 - 10s/epoch - 23ms/step\n",
      "Epoch 38/100\n",
      "430/430 - 10s - loss: 1.6951 - accuracy: 0.7275 - val_loss: 1.4969 - val_accuracy: 0.7852 - 10s/epoch - 23ms/step\n",
      "Epoch 39/100\n",
      "430/430 - 10s - loss: 1.6872 - accuracy: 0.7279 - val_loss: 1.5046 - val_accuracy: 0.7860 - 10s/epoch - 22ms/step\n",
      "Epoch 40/100\n",
      "430/430 - 10s - loss: 1.7057 - accuracy: 0.7272 - val_loss: 1.4585 - val_accuracy: 0.8102 - 10s/epoch - 23ms/step\n",
      "Epoch 41/100\n",
      "430/430 - 11s - loss: 1.7010 - accuracy: 0.7262 - val_loss: 1.4949 - val_accuracy: 0.7962 - 11s/epoch - 25ms/step\n",
      "Epoch 42/100\n",
      "430/430 - 9s - loss: 1.6775 - accuracy: 0.7263 - val_loss: 1.4975 - val_accuracy: 0.7848 - 9s/epoch - 22ms/step\n",
      "Epoch 43/100\n",
      "430/430 - 9s - loss: 1.6717 - accuracy: 0.7258 - val_loss: 1.4593 - val_accuracy: 0.7948 - 9s/epoch - 22ms/step\n",
      "Epoch 44/100\n",
      "430/430 - 10s - loss: 1.6825 - accuracy: 0.7271 - val_loss: 1.4529 - val_accuracy: 0.7954 - 10s/epoch - 23ms/step\n",
      "Epoch 45/100\n",
      "430/430 - 10s - loss: 1.6764 - accuracy: 0.7237 - val_loss: 1.4875 - val_accuracy: 0.7868 - 10s/epoch - 23ms/step\n",
      "Epoch 46/100\n",
      "430/430 - 10s - loss: 1.6619 - accuracy: 0.7277 - val_loss: 1.4252 - val_accuracy: 0.8060 - 10s/epoch - 24ms/step\n",
      "Epoch 47/100\n",
      "430/430 - 9s - loss: 1.6678 - accuracy: 0.7244 - val_loss: 1.4416 - val_accuracy: 0.8026 - 9s/epoch - 22ms/step\n",
      "Epoch 48/100\n",
      "430/430 - 9s - loss: 1.6624 - accuracy: 0.7257 - val_loss: 1.4361 - val_accuracy: 0.7962 - 9s/epoch - 22ms/step\n",
      "Epoch 49/100\n",
      "430/430 - 9s - loss: 1.6416 - accuracy: 0.7257 - val_loss: 1.4231 - val_accuracy: 0.7958 - 9s/epoch - 22ms/step\n",
      "Epoch 50/100\n",
      "430/430 - 10s - loss: 1.6430 - accuracy: 0.7231 - val_loss: 1.4507 - val_accuracy: 0.7954 - 10s/epoch - 22ms/step\n",
      "Epoch 51/100\n",
      "430/430 - 9s - loss: 1.6437 - accuracy: 0.7257 - val_loss: 1.4135 - val_accuracy: 0.8050 - 9s/epoch - 22ms/step\n",
      "Epoch 52/100\n",
      "430/430 - 9s - loss: 1.6535 - accuracy: 0.7287 - val_loss: 1.4261 - val_accuracy: 0.7998 - 9s/epoch - 22ms/step\n",
      "Epoch 53/100\n",
      "430/430 - 9s - loss: 1.6459 - accuracy: 0.7304 - val_loss: 1.4816 - val_accuracy: 0.7772 - 9s/epoch - 22ms/step\n",
      "Epoch 54/100\n",
      "430/430 - 10s - loss: 1.6506 - accuracy: 0.7283 - val_loss: 1.4358 - val_accuracy: 0.8010 - 10s/epoch - 22ms/step\n",
      "Epoch 55/100\n",
      "430/430 - 10s - loss: 1.6399 - accuracy: 0.7302 - val_loss: 1.4608 - val_accuracy: 0.7796 - 10s/epoch - 22ms/step\n",
      "Epoch 56/100\n",
      "430/430 - 9s - loss: 1.6379 - accuracy: 0.7239 - val_loss: 1.4268 - val_accuracy: 0.8038 - 9s/epoch - 22ms/step\n",
      "Epoch 57/100\n",
      "430/430 - 10s - loss: 1.6585 - accuracy: 0.7258 - val_loss: 1.4604 - val_accuracy: 0.7892 - 10s/epoch - 23ms/step\n",
      "Epoch 58/100\n",
      "430/430 - 9s - loss: 1.6551 - accuracy: 0.7254 - val_loss: 1.4580 - val_accuracy: 0.7944 - 9s/epoch - 22ms/step\n",
      "Epoch 59/100\n",
      "430/430 - 10s - loss: 1.6534 - accuracy: 0.7275 - val_loss: 1.4477 - val_accuracy: 0.7880 - 10s/epoch - 22ms/step\n",
      "Epoch 60/100\n",
      "430/430 - 9s - loss: 1.6421 - accuracy: 0.7262 - val_loss: 1.4498 - val_accuracy: 0.7960 - 9s/epoch - 22ms/step\n",
      "Epoch 61/100\n",
      "430/430 - 9s - loss: 1.6474 - accuracy: 0.7272 - val_loss: 1.4116 - val_accuracy: 0.8050 - 9s/epoch - 22ms/step\n",
      "Epoch 62/100\n",
      "430/430 - 9s - loss: 1.6424 - accuracy: 0.7231 - val_loss: 1.4219 - val_accuracy: 0.8034 - 9s/epoch - 22ms/step\n",
      "Epoch 63/100\n",
      "430/430 - 9s - loss: 1.6383 - accuracy: 0.7279 - val_loss: 1.4506 - val_accuracy: 0.8020 - 9s/epoch - 22ms/step\n",
      "Epoch 64/100\n",
      "430/430 - 11s - loss: 1.6450 - accuracy: 0.7252 - val_loss: 1.4158 - val_accuracy: 0.7864 - 11s/epoch - 25ms/step\n",
      "Epoch 65/100\n",
      "430/430 - 10s - loss: 1.6257 - accuracy: 0.7259 - val_loss: 1.4056 - val_accuracy: 0.7916 - 10s/epoch - 22ms/step\n"
     ]
    },
    {
     "name": "stdout",
     "output_type": "stream",
     "text": [
      "Epoch 66/100\n",
      "430/430 - 9s - loss: 1.6228 - accuracy: 0.7297 - val_loss: 1.3926 - val_accuracy: 0.8070 - 9s/epoch - 22ms/step\n",
      "Epoch 67/100\n",
      "430/430 - 10s - loss: 1.6367 - accuracy: 0.7271 - val_loss: 1.4175 - val_accuracy: 0.7964 - 10s/epoch - 22ms/step\n",
      "Epoch 68/100\n",
      "430/430 - 10s - loss: 1.6229 - accuracy: 0.7304 - val_loss: 1.4493 - val_accuracy: 0.7788 - 10s/epoch - 24ms/step\n",
      "Epoch 69/100\n",
      "430/430 - 9s - loss: 1.6266 - accuracy: 0.7248 - val_loss: 1.3862 - val_accuracy: 0.7968 - 9s/epoch - 22ms/step\n",
      "Epoch 70/100\n",
      "430/430 - 10s - loss: 1.6175 - accuracy: 0.7255 - val_loss: 1.4228 - val_accuracy: 0.7806 - 10s/epoch - 22ms/step\n",
      "Epoch 71/100\n",
      "430/430 - 10s - loss: 1.6159 - accuracy: 0.7245 - val_loss: 1.4366 - val_accuracy: 0.7690 - 10s/epoch - 22ms/step\n",
      "Epoch 72/100\n",
      "430/430 - 9s - loss: 1.6227 - accuracy: 0.7285 - val_loss: 1.4132 - val_accuracy: 0.7918 - 9s/epoch - 22ms/step\n",
      "Epoch 73/100\n",
      "430/430 - 9s - loss: 1.6093 - accuracy: 0.7264 - val_loss: 1.3968 - val_accuracy: 0.7878 - 9s/epoch - 22ms/step\n",
      "Epoch 74/100\n",
      "430/430 - 9s - loss: 1.6083 - accuracy: 0.7235 - val_loss: 1.3957 - val_accuracy: 0.7946 - 9s/epoch - 22ms/step\n",
      "Epoch 75/100\n",
      "430/430 - 10s - loss: 1.6176 - accuracy: 0.7249 - val_loss: 1.4154 - val_accuracy: 0.7996 - 10s/epoch - 22ms/step\n",
      "Epoch 76/100\n",
      "430/430 - 10s - loss: 1.6207 - accuracy: 0.7241 - val_loss: 1.3863 - val_accuracy: 0.8092 - 10s/epoch - 22ms/step\n",
      "Epoch 77/100\n",
      "430/430 - 9s - loss: 1.6113 - accuracy: 0.7257 - val_loss: 1.3865 - val_accuracy: 0.8032 - 9s/epoch - 22ms/step\n",
      "Epoch 78/100\n",
      "430/430 - 9s - loss: 1.6104 - accuracy: 0.7250 - val_loss: 1.4000 - val_accuracy: 0.7954 - 9s/epoch - 22ms/step\n",
      "Epoch 79/100\n",
      "430/430 - 9s - loss: 1.5968 - accuracy: 0.7234 - val_loss: 1.3790 - val_accuracy: 0.7980 - 9s/epoch - 22ms/step\n",
      "Epoch 80/100\n",
      "430/430 - 9s - loss: 1.6071 - accuracy: 0.7199 - val_loss: 1.3613 - val_accuracy: 0.8114 - 9s/epoch - 22ms/step\n",
      "Epoch 81/100\n",
      "430/430 - 9s - loss: 1.6019 - accuracy: 0.7282 - val_loss: 1.3919 - val_accuracy: 0.8096 - 9s/epoch - 22ms/step\n",
      "Epoch 82/100\n",
      "430/430 - 10s - loss: 1.6037 - accuracy: 0.7256 - val_loss: 1.3387 - val_accuracy: 0.8124 - 10s/epoch - 22ms/step\n",
      "Epoch 83/100\n",
      "430/430 - 9s - loss: 1.5974 - accuracy: 0.7237 - val_loss: 1.4075 - val_accuracy: 0.7966 - 9s/epoch - 22ms/step\n",
      "Epoch 84/100\n",
      "430/430 - 10s - loss: 1.6088 - accuracy: 0.7258 - val_loss: 1.3660 - val_accuracy: 0.8070 - 10s/epoch - 22ms/step\n",
      "Epoch 85/100\n",
      "430/430 - 9s - loss: 1.6028 - accuracy: 0.7306 - val_loss: 1.3852 - val_accuracy: 0.8018 - 9s/epoch - 22ms/step\n",
      "Epoch 86/100\n",
      "430/430 - 9s - loss: 1.6025 - accuracy: 0.7272 - val_loss: 1.3618 - val_accuracy: 0.7930 - 9s/epoch - 22ms/step\n",
      "Epoch 87/100\n",
      "430/430 - 11s - loss: 1.5911 - accuracy: 0.7236 - val_loss: 1.3664 - val_accuracy: 0.8010 - 11s/epoch - 25ms/step\n",
      "Epoch 88/100\n",
      "430/430 - 10s - loss: 1.5735 - accuracy: 0.7239 - val_loss: 1.3666 - val_accuracy: 0.8074 - 10s/epoch - 23ms/step\n",
      "Epoch 89/100\n",
      "430/430 - 9s - loss: 1.5870 - accuracy: 0.7252 - val_loss: 1.3489 - val_accuracy: 0.8040 - 9s/epoch - 22ms/step\n",
      "Epoch 90/100\n",
      "430/430 - 9s - loss: 1.5796 - accuracy: 0.7256 - val_loss: 1.3542 - val_accuracy: 0.8024 - 9s/epoch - 22ms/step\n",
      "Epoch 91/100\n",
      "430/430 - 9s - loss: 1.6022 - accuracy: 0.7221 - val_loss: 1.3837 - val_accuracy: 0.7948 - 9s/epoch - 22ms/step\n",
      "Epoch 92/100\n",
      "430/430 - 9s - loss: 1.5774 - accuracy: 0.7232 - val_loss: 1.3403 - val_accuracy: 0.8136 - 9s/epoch - 22ms/step\n",
      "Epoch 93/100\n",
      "430/430 - 9s - loss: 1.5844 - accuracy: 0.7237 - val_loss: 1.3735 - val_accuracy: 0.7948 - 9s/epoch - 22ms/step\n",
      "Epoch 94/100\n",
      "430/430 - 10s - loss: 1.5908 - accuracy: 0.7236 - val_loss: 1.4036 - val_accuracy: 0.8036 - 10s/epoch - 22ms/step\n",
      "Epoch 95/100\n",
      "430/430 - 9s - loss: 1.5811 - accuracy: 0.7260 - val_loss: 1.3522 - val_accuracy: 0.8062 - 9s/epoch - 22ms/step\n",
      "Epoch 96/100\n",
      "430/430 - 10s - loss: 1.5841 - accuracy: 0.7235 - val_loss: 1.3620 - val_accuracy: 0.7924 - 10s/epoch - 22ms/step\n",
      "Epoch 97/100\n",
      "430/430 - 9s - loss: 1.5842 - accuracy: 0.7222 - val_loss: 1.4014 - val_accuracy: 0.7942 - 9s/epoch - 22ms/step\n",
      "Epoch 98/100\n",
      "430/430 - 9s - loss: 1.5751 - accuracy: 0.7266 - val_loss: 1.3402 - val_accuracy: 0.7978 - 9s/epoch - 22ms/step\n",
      "Epoch 99/100\n",
      "430/430 - 9s - loss: 1.5799 - accuracy: 0.7251 - val_loss: 1.4158 - val_accuracy: 0.7694 - 9s/epoch - 22ms/step\n",
      "Epoch 100/100\n",
      "430/430 - 10s - loss: 1.5826 - accuracy: 0.7257 - val_loss: 1.5057 - val_accuracy: 0.7674 - 10s/epoch - 23ms/step\n"
     ]
    }
   ],
   "source": [
    "model = keras.models.Sequential([\n",
    "    keras.layers.Flatten(input_shape=[28, 28]),\n",
    "    keras.layers.BatchNormalization(),\n",
    "    keras.layers.Dense(512, activation=\"relu\", kernel_regularizer=keras.regularizers.l1_l2(0.01)),\n",
    "    Dropout(0.4),\n",
    "    keras.layers.BatchNormalization(),\n",
    "    keras.layers.Dense(512, activation=\"relu\", kernel_regularizer=keras.regularizers.l1_l2(0.01)),\n",
    "    Dropout(0.4),\n",
    "    keras.layers.BatchNormalization(),\n",
    "    keras.layers.Dense(512, activation=\"relu\", kernel_regularizer=keras.regularizers.l1_l2(0.01)),\n",
    "    Dropout(0.4),\n",
    "    keras.layers.Dense(10, activation=\"softmax\")\n",
    "])\n",
    "model.compile(loss=\"sparse_categorical_crossentropy\",\n",
    "              optimizer=keras.optimizers.SGD(learning_rate=0.001, momentum=0.9, nesterov=True),\n",
    "              metrics=[\"accuracy\"])\n",
    "history = model.fit(x_train, y_train,batch_size=128,epochs=50,verbose=2,validation_data=(x_valid, y_valid))"
   ]
  },
  {
   "cell_type": "code",
   "execution_count": 9,
   "id": "a7000c49",
   "metadata": {},
   "outputs": [
    {
     "data": {
      "image/png": "[encoded data removed]",
      "text/plain": [
       "<Figure size 576x360 with 1 Axes>"
      ]
     },
     "metadata": {
      "needs_background": "light"
     },
     "output_type": "display_data"
    }
   ],
   "source": [
    "# Learning curve\n",
    "pd.DataFrame(history.history).plot(figsize=(8, 5))\n",
    "plt.grid(True)\n",
    "plt.gca().set_ylim(0, 1)\n",
    "plt.show()"
   ]
  },
  {
   "cell_type": "code",
   "execution_count": 10,
   "id": "42cc439a",
   "metadata": {},
   "outputs": [
    {
     "name": "stdout",
     "output_type": "stream",
     "text": [
      "313/313 [==============================] - 3s 9ms/step - loss: 1.5493 - accuracy: 0.7546\n",
      "Test loss: 1.5493035316467285\n",
      "Test accuracy: 0.7545999884605408\n"
     ]
    }
   ],
   "source": [
    "score = model.evaluate(x_test, y_test)\n",
    "print('Test loss:', score[0]) \n",
    "print('Test accuracy:', score[1])"
   ]
  },
  {
   "cell_type": "code",
   "execution_count": null,
   "id": "87b86853",
   "metadata": {},
   "outputs": [],
   "source": []
  },
  {
   "cell_type": "markdown",
   "id": "c9d208a2",
   "metadata": {},
   "source": [
    "### Grid Search - Did not complete it because it took too much time and was affecting my device's hardware so had to terminate"
   ]
  },
  {
   "cell_type": "code",
   "execution_count": 15,
   "id": "dd845ac9",
   "metadata": {},
   "outputs": [],
   "source": [
    "#def build_model(n_hidden=4, nu_neuron=512, learning_rate=3e-3, input_shape=[28, 28])\n",
    "def build_model(optimizer, learning_rate, activation, dropout_rate,\n",
    "                initializer,num_unit):\n",
    "    model = Sequential()\n",
    "    model.add(Flatten(input_shape=(28,28)))\n",
    "    \n",
    "    model.add(keras.layers.BatchNormalization()),\n",
    "    model.add(Dense(num_unit, kernel_initializer=initializer,\n",
    "                    activation=activation))\n",
    "    \n",
    "    model.add(keras.layers.BatchNormalization()),\n",
    "    model.add(Dense(num_unit, kernel_initializer=initializer,\n",
    "                    activation=activation))\n",
    "    \n",
    "    model.add(keras.layers.BatchNormalization()),\n",
    "    model.add(Dense(num_unit, kernel_initializer=initializer,\n",
    "                    activation=activation))\n",
    "    \n",
    "    model.add(keras.layers.BatchNormalization()),\n",
    "    model.add(Dense(num_unit, kernel_initializer=initializer,\n",
    "                    activation=activation))\n",
    "    model.add(Dropout(dropout_rate))\n",
    "    \n",
    "    model.add(Dense(10, activation='softmax'))\n",
    "    model.compile(loss='sparse_categorical_crossentropy',\n",
    "                  optimizer=optimizer(learning_rate=learning_rate),\n",
    "                  metrics=['accuracy'])\n",
    "    return model"
   ]
  },
  {
   "cell_type": "code",
   "execution_count": 16,
   "id": "51372b2d",
   "metadata": {},
   "outputs": [],
   "source": [
    "batch_size = [32, 64, 128, 256]\n",
    "\n",
    "epochs = [15, 30, 50]\n",
    "\n",
    "initializer = ['lecun_uniform', 'normal', 'he_normal', 'he_uniform']\n",
    "\n",
    "learning_rate = [0.1, 0.001, 0.02]\n",
    "\n",
    "dropout_rate = [0.3, 0.2, 0.4, 0.5]\n",
    "\n",
    "num_unit = [512, 256, 128, 64]\n",
    "\n",
    "activation = ['relu', 'tanh', 'sigmoid', 'selu', 'elu']\n",
    "\n",
    "optimizer = [keras.optimizers.SGD, keras.optimizers.RMSprop, keras.optimizers.Adagrad, \n",
    "             keras.optimizers.Adadelta, keras.optimizers.Adam, keras.optimizers.Adamax, keras.optimizers.Nadam]"
   ]
  },
  {
   "cell_type": "code",
   "execution_count": 17,
   "id": "a5e04d3e",
   "metadata": {},
   "outputs": [
    {
     "name": "stderr",
     "output_type": "stream",
     "text": [
      "/var/folders/kr/gtcybxvj34v71bp1q0gc41ww0000gn/T/ipykernel_26007/721556897.py:13: DeprecationWarning: KerasClassifier is deprecated, use Sci-Keras (https://github.com/adriangb/scikeras) instead.\n",
      "  model = KerasClassifier(build_fn=build_model, verbose=0)\n"
     ]
    }
   ],
   "source": [
    "# Creat the wrapper and pass params to GridSearchCV \n",
    "# parameters is a dict with all values\n",
    "\n",
    "parameters = dict(batch_size = batch_size,\n",
    "                  epochs = epochs,\n",
    "                  dropout_rate = dropout_rate,\n",
    "                  num_unit = num_unit,\n",
    "                  initializer = initializer,\n",
    "                  learning_rate = learning_rate,\n",
    "                  activation = activation,\n",
    "                  optimizer = optimizer)\n",
    "\n",
    "model = KerasClassifier(build_fn=build_model, verbose=0)\n",
    "\n",
    "models = GridSearchCV(estimator = model, param_grid=parameters, n_jobs=1)"
   ]
  },
  {
   "cell_type": "code",
   "execution_count": 18,
   "id": "98aa549c",
   "metadata": {},
   "outputs": [
    {
     "ename": "KeyboardInterrupt",
     "evalue": "",
     "output_type": "error",
     "traceback": [
      "\u001b[0;31m---------------------------------------------------------------------------\u001b[0m",
      "\u001b[0;31mKeyboardInterrupt\u001b[0m                         Traceback (most recent call last)",
      "\u001b[0;32m/var/folders/kr/gtcybxvj34v71bp1q0gc41ww0000gn/T/ipykernel_26007/2938336357.py\u001b[0m in \u001b[0;36m<module>\u001b[0;34m\u001b[0m\n\u001b[1;32m      1\u001b[0m \u001b[0;31m# Takes large amount of time!!\u001b[0m\u001b[0;34m\u001b[0m\u001b[0;34m\u001b[0m\u001b[0m\n\u001b[0;32m----> 2\u001b[0;31m \u001b[0mbest_model\u001b[0m \u001b[0;34m=\u001b[0m \u001b[0mmodels\u001b[0m\u001b[0;34m.\u001b[0m\u001b[0mfit\u001b[0m\u001b[0;34m(\u001b[0m\u001b[0mx_train\u001b[0m\u001b[0;34m,\u001b[0m \u001b[0my_train\u001b[0m\u001b[0;34m)\u001b[0m\u001b[0;34m\u001b[0m\u001b[0;34m\u001b[0m\u001b[0m\n\u001b[0m\u001b[1;32m      3\u001b[0m \u001b[0mprint\u001b[0m\u001b[0;34m(\u001b[0m\u001b[0;34m'Best model :'\u001b[0m\u001b[0;34m)\u001b[0m\u001b[0;34m\u001b[0m\u001b[0;34m\u001b[0m\u001b[0m\n\u001b[1;32m      4\u001b[0m \u001b[0mpp\u001b[0m\u001b[0;34m.\u001b[0m\u001b[0mpprint\u001b[0m\u001b[0;34m(\u001b[0m\u001b[0mbest_model\u001b[0m\u001b[0;34m.\u001b[0m\u001b[0mbest_params_\u001b[0m\u001b[0;34m)\u001b[0m\u001b[0;34m\u001b[0m\u001b[0;34m\u001b[0m\u001b[0m\n",
      "\u001b[0;32m~/venv/lib/python3.9/site-packages/sklearn/model_selection/_search.py\u001b[0m in \u001b[0;36mfit\u001b[0;34m(self, X, y, groups, **fit_params)\u001b[0m\n\u001b[1;32m    889\u001b[0m                 \u001b[0;32mreturn\u001b[0m \u001b[0mresults\u001b[0m\u001b[0;34m\u001b[0m\u001b[0;34m\u001b[0m\u001b[0m\n\u001b[1;32m    890\u001b[0m \u001b[0;34m\u001b[0m\u001b[0m\n\u001b[0;32m--> 891\u001b[0;31m             \u001b[0mself\u001b[0m\u001b[0;34m.\u001b[0m\u001b[0m_run_search\u001b[0m\u001b[0;34m(\u001b[0m\u001b[0mevaluate_candidates\u001b[0m\u001b[0;34m)\u001b[0m\u001b[0;34m\u001b[0m\u001b[0;34m\u001b[0m\u001b[0m\n\u001b[0m\u001b[1;32m    892\u001b[0m \u001b[0;34m\u001b[0m\u001b[0m\n\u001b[1;32m    893\u001b[0m             \u001b[0;31m# multimetric is determined here because in the case of a callable\u001b[0m\u001b[0;34m\u001b[0m\u001b[0;34m\u001b[0m\u001b[0m\n",
      "\u001b[0;32m~/venv/lib/python3.9/site-packages/sklearn/model_selection/_search.py\u001b[0m in \u001b[0;36m_run_search\u001b[0;34m(self, evaluate_candidates)\u001b[0m\n\u001b[1;32m   1390\u001b[0m     \u001b[0;32mdef\u001b[0m \u001b[0m_run_search\u001b[0m\u001b[0;34m(\u001b[0m\u001b[0mself\u001b[0m\u001b[0;34m,\u001b[0m \u001b[0mevaluate_candidates\u001b[0m\u001b[0;34m)\u001b[0m\u001b[0;34m:\u001b[0m\u001b[0;34m\u001b[0m\u001b[0;34m\u001b[0m\u001b[0m\n\u001b[1;32m   1391\u001b[0m         \u001b[0;34m\"\"\"Search all candidates in param_grid\"\"\"\u001b[0m\u001b[0;34m\u001b[0m\u001b[0;34m\u001b[0m\u001b[0m\n\u001b[0;32m-> 1392\u001b[0;31m         \u001b[0mevaluate_candidates\u001b[0m\u001b[0;34m(\u001b[0m\u001b[0mParameterGrid\u001b[0m\u001b[0;34m(\u001b[0m\u001b[0mself\u001b[0m\u001b[0;34m.\u001b[0m\u001b[0mparam_grid\u001b[0m\u001b[0;34m)\u001b[0m\u001b[0;34m)\u001b[0m\u001b[0;34m\u001b[0m\u001b[0;34m\u001b[0m\u001b[0m\n\u001b[0m\u001b[1;32m   1393\u001b[0m \u001b[0;34m\u001b[0m\u001b[0m\n\u001b[1;32m   1394\u001b[0m \u001b[0;34m\u001b[0m\u001b[0m\n",
      "\u001b[0;32m~/venv/lib/python3.9/site-packages/sklearn/model_selection/_search.py\u001b[0m in \u001b[0;36mevaluate_candidates\u001b[0;34m(candidate_params, cv, more_results)\u001b[0m\n\u001b[1;32m    836\u001b[0m                     )\n\u001b[1;32m    837\u001b[0m \u001b[0;34m\u001b[0m\u001b[0m\n\u001b[0;32m--> 838\u001b[0;31m                 out = parallel(\n\u001b[0m\u001b[1;32m    839\u001b[0m                     delayed(_fit_and_score)(\n\u001b[1;32m    840\u001b[0m                         \u001b[0mclone\u001b[0m\u001b[0;34m(\u001b[0m\u001b[0mbase_estimator\u001b[0m\u001b[0;34m)\u001b[0m\u001b[0;34m,\u001b[0m\u001b[0;34m\u001b[0m\u001b[0;34m\u001b[0m\u001b[0m\n",
      "\u001b[0;32m~/venv/lib/python3.9/site-packages/joblib/parallel.py\u001b[0m in \u001b[0;36m__call__\u001b[0;34m(self, iterable)\u001b[0m\n\u001b[1;32m   1044\u001b[0m                 \u001b[0mself\u001b[0m\u001b[0;34m.\u001b[0m\u001b[0m_iterating\u001b[0m \u001b[0;34m=\u001b[0m \u001b[0mself\u001b[0m\u001b[0;34m.\u001b[0m\u001b[0m_original_iterator\u001b[0m \u001b[0;32mis\u001b[0m \u001b[0;32mnot\u001b[0m \u001b[0;32mNone\u001b[0m\u001b[0;34m\u001b[0m\u001b[0;34m\u001b[0m\u001b[0m\n\u001b[1;32m   1045\u001b[0m \u001b[0;34m\u001b[0m\u001b[0m\n\u001b[0;32m-> 1046\u001b[0;31m             \u001b[0;32mwhile\u001b[0m \u001b[0mself\u001b[0m\u001b[0;34m.\u001b[0m\u001b[0mdispatch_one_batch\u001b[0m\u001b[0;34m(\u001b[0m\u001b[0miterator\u001b[0m\u001b[0;34m)\u001b[0m\u001b[0;34m:\u001b[0m\u001b[0;34m\u001b[0m\u001b[0;34m\u001b[0m\u001b[0m\n\u001b[0m\u001b[1;32m   1047\u001b[0m                 \u001b[0;32mpass\u001b[0m\u001b[0;34m\u001b[0m\u001b[0;34m\u001b[0m\u001b[0m\n\u001b[1;32m   1048\u001b[0m \u001b[0;34m\u001b[0m\u001b[0m\n",
      "\u001b[0;32m~/venv/lib/python3.9/site-packages/joblib/parallel.py\u001b[0m in \u001b[0;36mdispatch_one_batch\u001b[0;34m(self, iterator)\u001b[0m\n\u001b[1;32m    859\u001b[0m                 \u001b[0;32mreturn\u001b[0m \u001b[0;32mFalse\u001b[0m\u001b[0;34m\u001b[0m\u001b[0;34m\u001b[0m\u001b[0m\n\u001b[1;32m    860\u001b[0m             \u001b[0;32melse\u001b[0m\u001b[0;34m:\u001b[0m\u001b[0;34m\u001b[0m\u001b[0;34m\u001b[0m\u001b[0m\n\u001b[0;32m--> 861\u001b[0;31m                 \u001b[0mself\u001b[0m\u001b[0;34m.\u001b[0m\u001b[0m_dispatch\u001b[0m\u001b[0;34m(\u001b[0m\u001b[0mtasks\u001b[0m\u001b[0;34m)\u001b[0m\u001b[0;34m\u001b[0m\u001b[0;34m\u001b[0m\u001b[0m\n\u001b[0m\u001b[1;32m    862\u001b[0m                 \u001b[0;32mreturn\u001b[0m \u001b[0;32mTrue\u001b[0m\u001b[0;34m\u001b[0m\u001b[0;34m\u001b[0m\u001b[0m\n\u001b[1;32m    863\u001b[0m \u001b[0;34m\u001b[0m\u001b[0m\n",
      "\u001b[0;32m~/venv/lib/python3.9/site-packages/joblib/parallel.py\u001b[0m in \u001b[0;36m_dispatch\u001b[0;34m(self, batch)\u001b[0m\n\u001b[1;32m    777\u001b[0m         \u001b[0;32mwith\u001b[0m \u001b[0mself\u001b[0m\u001b[0;34m.\u001b[0m\u001b[0m_lock\u001b[0m\u001b[0;34m:\u001b[0m\u001b[0;34m\u001b[0m\u001b[0;34m\u001b[0m\u001b[0m\n\u001b[1;32m    778\u001b[0m             \u001b[0mjob_idx\u001b[0m \u001b[0;34m=\u001b[0m \u001b[0mlen\u001b[0m\u001b[0;34m(\u001b[0m\u001b[0mself\u001b[0m\u001b[0;34m.\u001b[0m\u001b[0m_jobs\u001b[0m\u001b[0;34m)\u001b[0m\u001b[0;34m\u001b[0m\u001b[0;34m\u001b[0m\u001b[0m\n\u001b[0;32m--> 779\u001b[0;31m             \u001b[0mjob\u001b[0m \u001b[0;34m=\u001b[0m \u001b[0mself\u001b[0m\u001b[0;34m.\u001b[0m\u001b[0m_backend\u001b[0m\u001b[0;34m.\u001b[0m\u001b[0mapply_async\u001b[0m\u001b[0;34m(\u001b[0m\u001b[0mbatch\u001b[0m\u001b[0;34m,\u001b[0m \u001b[0mcallback\u001b[0m\u001b[0;34m=\u001b[0m\u001b[0mcb\u001b[0m\u001b[0;34m)\u001b[0m\u001b[0;34m\u001b[0m\u001b[0;34m\u001b[0m\u001b[0m\n\u001b[0m\u001b[1;32m    780\u001b[0m             \u001b[0;31m# A job can complete so quickly than its callback is\u001b[0m\u001b[0;34m\u001b[0m\u001b[0;34m\u001b[0m\u001b[0m\n\u001b[1;32m    781\u001b[0m             \u001b[0;31m# called before we get here, causing self._jobs to\u001b[0m\u001b[0;34m\u001b[0m\u001b[0;34m\u001b[0m\u001b[0m\n",
      "\u001b[0;32m~/venv/lib/python3.9/site-packages/joblib/_parallel_backends.py\u001b[0m in \u001b[0;36mapply_async\u001b[0;34m(self, func, callback)\u001b[0m\n\u001b[1;32m    206\u001b[0m     \u001b[0;32mdef\u001b[0m \u001b[0mapply_async\u001b[0m\u001b[0;34m(\u001b[0m\u001b[0mself\u001b[0m\u001b[0;34m,\u001b[0m \u001b[0mfunc\u001b[0m\u001b[0;34m,\u001b[0m \u001b[0mcallback\u001b[0m\u001b[0;34m=\u001b[0m\u001b[0;32mNone\u001b[0m\u001b[0;34m)\u001b[0m\u001b[0;34m:\u001b[0m\u001b[0;34m\u001b[0m\u001b[0;34m\u001b[0m\u001b[0m\n\u001b[1;32m    207\u001b[0m         \u001b[0;34m\"\"\"Schedule a func to be run\"\"\"\u001b[0m\u001b[0;34m\u001b[0m\u001b[0;34m\u001b[0m\u001b[0m\n\u001b[0;32m--> 208\u001b[0;31m         \u001b[0mresult\u001b[0m \u001b[0;34m=\u001b[0m \u001b[0mImmediateResult\u001b[0m\u001b[0;34m(\u001b[0m\u001b[0mfunc\u001b[0m\u001b[0;34m)\u001b[0m\u001b[0;34m\u001b[0m\u001b[0;34m\u001b[0m\u001b[0m\n\u001b[0m\u001b[1;32m    209\u001b[0m         \u001b[0;32mif\u001b[0m \u001b[0mcallback\u001b[0m\u001b[0;34m:\u001b[0m\u001b[0;34m\u001b[0m\u001b[0;34m\u001b[0m\u001b[0m\n\u001b[1;32m    210\u001b[0m             \u001b[0mcallback\u001b[0m\u001b[0;34m(\u001b[0m\u001b[0mresult\u001b[0m\u001b[0;34m)\u001b[0m\u001b[0;34m\u001b[0m\u001b[0;34m\u001b[0m\u001b[0m\n",
      "\u001b[0;32m~/venv/lib/python3.9/site-packages/joblib/_parallel_backends.py\u001b[0m in \u001b[0;36m__init__\u001b[0;34m(self, batch)\u001b[0m\n\u001b[1;32m    570\u001b[0m         \u001b[0;31m# Don't delay the application, to avoid keeping the input\u001b[0m\u001b[0;34m\u001b[0m\u001b[0;34m\u001b[0m\u001b[0m\n\u001b[1;32m    571\u001b[0m         \u001b[0;31m# arguments in memory\u001b[0m\u001b[0;34m\u001b[0m\u001b[0;34m\u001b[0m\u001b[0m\n\u001b[0;32m--> 572\u001b[0;31m         \u001b[0mself\u001b[0m\u001b[0;34m.\u001b[0m\u001b[0mresults\u001b[0m \u001b[0;34m=\u001b[0m \u001b[0mbatch\u001b[0m\u001b[0;34m(\u001b[0m\u001b[0;34m)\u001b[0m\u001b[0;34m\u001b[0m\u001b[0;34m\u001b[0m\u001b[0m\n\u001b[0m\u001b[1;32m    573\u001b[0m \u001b[0;34m\u001b[0m\u001b[0m\n\u001b[1;32m    574\u001b[0m     \u001b[0;32mdef\u001b[0m \u001b[0mget\u001b[0m\u001b[0;34m(\u001b[0m\u001b[0mself\u001b[0m\u001b[0;34m)\u001b[0m\u001b[0;34m:\u001b[0m\u001b[0;34m\u001b[0m\u001b[0;34m\u001b[0m\u001b[0m\n",
      "\u001b[0;32m~/venv/lib/python3.9/site-packages/joblib/parallel.py\u001b[0m in \u001b[0;36m__call__\u001b[0;34m(self)\u001b[0m\n\u001b[1;32m    260\u001b[0m         \u001b[0;31m# change the default number of processes to -1\u001b[0m\u001b[0;34m\u001b[0m\u001b[0;34m\u001b[0m\u001b[0m\n\u001b[1;32m    261\u001b[0m         \u001b[0;32mwith\u001b[0m \u001b[0mparallel_backend\u001b[0m\u001b[0;34m(\u001b[0m\u001b[0mself\u001b[0m\u001b[0;34m.\u001b[0m\u001b[0m_backend\u001b[0m\u001b[0;34m,\u001b[0m \u001b[0mn_jobs\u001b[0m\u001b[0;34m=\u001b[0m\u001b[0mself\u001b[0m\u001b[0;34m.\u001b[0m\u001b[0m_n_jobs\u001b[0m\u001b[0;34m)\u001b[0m\u001b[0;34m:\u001b[0m\u001b[0;34m\u001b[0m\u001b[0;34m\u001b[0m\u001b[0m\n\u001b[0;32m--> 262\u001b[0;31m             return [func(*args, **kwargs)\n\u001b[0m\u001b[1;32m    263\u001b[0m                     for func, args, kwargs in self.items]\n\u001b[1;32m    264\u001b[0m \u001b[0;34m\u001b[0m\u001b[0m\n",
      "\u001b[0;32m~/venv/lib/python3.9/site-packages/joblib/parallel.py\u001b[0m in \u001b[0;36m<listcomp>\u001b[0;34m(.0)\u001b[0m\n\u001b[1;32m    260\u001b[0m         \u001b[0;31m# change the default number of processes to -1\u001b[0m\u001b[0;34m\u001b[0m\u001b[0;34m\u001b[0m\u001b[0m\n\u001b[1;32m    261\u001b[0m         \u001b[0;32mwith\u001b[0m \u001b[0mparallel_backend\u001b[0m\u001b[0;34m(\u001b[0m\u001b[0mself\u001b[0m\u001b[0;34m.\u001b[0m\u001b[0m_backend\u001b[0m\u001b[0;34m,\u001b[0m \u001b[0mn_jobs\u001b[0m\u001b[0;34m=\u001b[0m\u001b[0mself\u001b[0m\u001b[0;34m.\u001b[0m\u001b[0m_n_jobs\u001b[0m\u001b[0;34m)\u001b[0m\u001b[0;34m:\u001b[0m\u001b[0;34m\u001b[0m\u001b[0;34m\u001b[0m\u001b[0m\n\u001b[0;32m--> 262\u001b[0;31m             return [func(*args, **kwargs)\n\u001b[0m\u001b[1;32m    263\u001b[0m                     for func, args, kwargs in self.items]\n\u001b[1;32m    264\u001b[0m \u001b[0;34m\u001b[0m\u001b[0m\n",
      "\u001b[0;32m~/venv/lib/python3.9/site-packages/sklearn/utils/fixes.py\u001b[0m in \u001b[0;36m__call__\u001b[0;34m(self, *args, **kwargs)\u001b[0m\n\u001b[1;32m    214\u001b[0m     \u001b[0;32mdef\u001b[0m \u001b[0m__call__\u001b[0m\u001b[0;34m(\u001b[0m\u001b[0mself\u001b[0m\u001b[0;34m,\u001b[0m \u001b[0;34m*\u001b[0m\u001b[0margs\u001b[0m\u001b[0;34m,\u001b[0m \u001b[0;34m**\u001b[0m\u001b[0mkwargs\u001b[0m\u001b[0;34m)\u001b[0m\u001b[0;34m:\u001b[0m\u001b[0;34m\u001b[0m\u001b[0;34m\u001b[0m\u001b[0m\n\u001b[1;32m    215\u001b[0m         \u001b[0;32mwith\u001b[0m \u001b[0mconfig_context\u001b[0m\u001b[0;34m(\u001b[0m\u001b[0;34m**\u001b[0m\u001b[0mself\u001b[0m\u001b[0;34m.\u001b[0m\u001b[0mconfig\u001b[0m\u001b[0;34m)\u001b[0m\u001b[0;34m:\u001b[0m\u001b[0;34m\u001b[0m\u001b[0;34m\u001b[0m\u001b[0m\n\u001b[0;32m--> 216\u001b[0;31m             \u001b[0;32mreturn\u001b[0m \u001b[0mself\u001b[0m\u001b[0;34m.\u001b[0m\u001b[0mfunction\u001b[0m\u001b[0;34m(\u001b[0m\u001b[0;34m*\u001b[0m\u001b[0margs\u001b[0m\u001b[0;34m,\u001b[0m \u001b[0;34m**\u001b[0m\u001b[0mkwargs\u001b[0m\u001b[0;34m)\u001b[0m\u001b[0;34m\u001b[0m\u001b[0;34m\u001b[0m\u001b[0m\n\u001b[0m\u001b[1;32m    217\u001b[0m \u001b[0;34m\u001b[0m\u001b[0m\n\u001b[1;32m    218\u001b[0m \u001b[0;34m\u001b[0m\u001b[0m\n",
      "\u001b[0;32m~/venv/lib/python3.9/site-packages/sklearn/model_selection/_validation.py\u001b[0m in \u001b[0;36m_fit_and_score\u001b[0;34m(estimator, X, y, scorer, train, test, verbose, parameters, fit_params, return_train_score, return_parameters, return_n_test_samples, return_times, return_estimator, split_progress, candidate_progress, error_score)\u001b[0m\n\u001b[1;32m    678\u001b[0m             \u001b[0mestimator\u001b[0m\u001b[0;34m.\u001b[0m\u001b[0mfit\u001b[0m\u001b[0;34m(\u001b[0m\u001b[0mX_train\u001b[0m\u001b[0;34m,\u001b[0m \u001b[0;34m**\u001b[0m\u001b[0mfit_params\u001b[0m\u001b[0;34m)\u001b[0m\u001b[0;34m\u001b[0m\u001b[0;34m\u001b[0m\u001b[0m\n\u001b[1;32m    679\u001b[0m         \u001b[0;32melse\u001b[0m\u001b[0;34m:\u001b[0m\u001b[0;34m\u001b[0m\u001b[0;34m\u001b[0m\u001b[0m\n\u001b[0;32m--> 680\u001b[0;31m             \u001b[0mestimator\u001b[0m\u001b[0;34m.\u001b[0m\u001b[0mfit\u001b[0m\u001b[0;34m(\u001b[0m\u001b[0mX_train\u001b[0m\u001b[0;34m,\u001b[0m \u001b[0my_train\u001b[0m\u001b[0;34m,\u001b[0m \u001b[0;34m**\u001b[0m\u001b[0mfit_params\u001b[0m\u001b[0;34m)\u001b[0m\u001b[0;34m\u001b[0m\u001b[0;34m\u001b[0m\u001b[0m\n\u001b[0m\u001b[1;32m    681\u001b[0m \u001b[0;34m\u001b[0m\u001b[0m\n\u001b[1;32m    682\u001b[0m     \u001b[0;32mexcept\u001b[0m \u001b[0mException\u001b[0m\u001b[0;34m:\u001b[0m\u001b[0;34m\u001b[0m\u001b[0;34m\u001b[0m\u001b[0m\n",
      "\u001b[0;32m/Library/Frameworks/Python.framework/Versions/3.9/lib/python3.9/site-packages/keras/wrappers/scikit_learn.py\u001b[0m in \u001b[0;36mfit\u001b[0;34m(self, x, y, **kwargs)\u001b[0m\n\u001b[1;32m    230\u001b[0m       \u001b[0;32mraise\u001b[0m \u001b[0mValueError\u001b[0m\u001b[0;34m(\u001b[0m\u001b[0;34m'Invalid shape for y: '\u001b[0m \u001b[0;34m+\u001b[0m \u001b[0mstr\u001b[0m\u001b[0;34m(\u001b[0m\u001b[0my\u001b[0m\u001b[0;34m.\u001b[0m\u001b[0mshape\u001b[0m\u001b[0;34m)\u001b[0m\u001b[0;34m)\u001b[0m\u001b[0;34m\u001b[0m\u001b[0;34m\u001b[0m\u001b[0m\n\u001b[1;32m    231\u001b[0m     \u001b[0mself\u001b[0m\u001b[0;34m.\u001b[0m\u001b[0mn_classes_\u001b[0m \u001b[0;34m=\u001b[0m \u001b[0mlen\u001b[0m\u001b[0;34m(\u001b[0m\u001b[0mself\u001b[0m\u001b[0;34m.\u001b[0m\u001b[0mclasses_\u001b[0m\u001b[0;34m)\u001b[0m\u001b[0;34m\u001b[0m\u001b[0;34m\u001b[0m\u001b[0m\n\u001b[0;32m--> 232\u001b[0;31m     \u001b[0;32mreturn\u001b[0m \u001b[0msuper\u001b[0m\u001b[0;34m(\u001b[0m\u001b[0mKerasClassifier\u001b[0m\u001b[0;34m,\u001b[0m \u001b[0mself\u001b[0m\u001b[0;34m)\u001b[0m\u001b[0;34m.\u001b[0m\u001b[0mfit\u001b[0m\u001b[0;34m(\u001b[0m\u001b[0mx\u001b[0m\u001b[0;34m,\u001b[0m \u001b[0my\u001b[0m\u001b[0;34m,\u001b[0m \u001b[0;34m**\u001b[0m\u001b[0mkwargs\u001b[0m\u001b[0;34m)\u001b[0m\u001b[0;34m\u001b[0m\u001b[0;34m\u001b[0m\u001b[0m\n\u001b[0m\u001b[1;32m    233\u001b[0m \u001b[0;34m\u001b[0m\u001b[0m\n\u001b[1;32m    234\u001b[0m   \u001b[0;32mdef\u001b[0m \u001b[0mpredict\u001b[0m\u001b[0;34m(\u001b[0m\u001b[0mself\u001b[0m\u001b[0;34m,\u001b[0m \u001b[0mx\u001b[0m\u001b[0;34m,\u001b[0m \u001b[0;34m**\u001b[0m\u001b[0mkwargs\u001b[0m\u001b[0;34m)\u001b[0m\u001b[0;34m:\u001b[0m\u001b[0;34m\u001b[0m\u001b[0;34m\u001b[0m\u001b[0m\n",
      "\u001b[0;32m/Library/Frameworks/Python.framework/Versions/3.9/lib/python3.9/site-packages/keras/wrappers/scikit_learn.py\u001b[0m in \u001b[0;36mfit\u001b[0;34m(self, x, y, **kwargs)\u001b[0m\n\u001b[1;32m    162\u001b[0m     \u001b[0mfit_args\u001b[0m\u001b[0;34m.\u001b[0m\u001b[0mupdate\u001b[0m\u001b[0;34m(\u001b[0m\u001b[0mkwargs\u001b[0m\u001b[0;34m)\u001b[0m\u001b[0;34m\u001b[0m\u001b[0;34m\u001b[0m\u001b[0m\n\u001b[1;32m    163\u001b[0m \u001b[0;34m\u001b[0m\u001b[0m\n\u001b[0;32m--> 164\u001b[0;31m     \u001b[0mhistory\u001b[0m \u001b[0;34m=\u001b[0m \u001b[0mself\u001b[0m\u001b[0;34m.\u001b[0m\u001b[0mmodel\u001b[0m\u001b[0;34m.\u001b[0m\u001b[0mfit\u001b[0m\u001b[0;34m(\u001b[0m\u001b[0mx\u001b[0m\u001b[0;34m,\u001b[0m \u001b[0my\u001b[0m\u001b[0;34m,\u001b[0m \u001b[0;34m**\u001b[0m\u001b[0mfit_args\u001b[0m\u001b[0;34m)\u001b[0m\u001b[0;34m\u001b[0m\u001b[0;34m\u001b[0m\u001b[0m\n\u001b[0m\u001b[1;32m    165\u001b[0m \u001b[0;34m\u001b[0m\u001b[0m\n\u001b[1;32m    166\u001b[0m     \u001b[0;32mreturn\u001b[0m \u001b[0mhistory\u001b[0m\u001b[0;34m\u001b[0m\u001b[0;34m\u001b[0m\u001b[0m\n",
      "\u001b[0;32m/Library/Frameworks/Python.framework/Versions/3.9/lib/python3.9/site-packages/keras/utils/traceback_utils.py\u001b[0m in \u001b[0;36merror_handler\u001b[0;34m(*args, **kwargs)\u001b[0m\n\u001b[1;32m     62\u001b[0m     \u001b[0mfiltered_tb\u001b[0m \u001b[0;34m=\u001b[0m \u001b[0;32mNone\u001b[0m\u001b[0;34m\u001b[0m\u001b[0;34m\u001b[0m\u001b[0m\n\u001b[1;32m     63\u001b[0m     \u001b[0;32mtry\u001b[0m\u001b[0;34m:\u001b[0m\u001b[0;34m\u001b[0m\u001b[0;34m\u001b[0m\u001b[0m\n\u001b[0;32m---> 64\u001b[0;31m       \u001b[0;32mreturn\u001b[0m \u001b[0mfn\u001b[0m\u001b[0;34m(\u001b[0m\u001b[0;34m*\u001b[0m\u001b[0margs\u001b[0m\u001b[0;34m,\u001b[0m \u001b[0;34m**\u001b[0m\u001b[0mkwargs\u001b[0m\u001b[0;34m)\u001b[0m\u001b[0;34m\u001b[0m\u001b[0;34m\u001b[0m\u001b[0m\n\u001b[0m\u001b[1;32m     65\u001b[0m     \u001b[0;32mexcept\u001b[0m \u001b[0mException\u001b[0m \u001b[0;32mas\u001b[0m \u001b[0me\u001b[0m\u001b[0;34m:\u001b[0m  \u001b[0;31m# pylint: disable=broad-except\u001b[0m\u001b[0;34m\u001b[0m\u001b[0;34m\u001b[0m\u001b[0m\n\u001b[1;32m     66\u001b[0m       \u001b[0mfiltered_tb\u001b[0m \u001b[0;34m=\u001b[0m \u001b[0m_process_traceback_frames\u001b[0m\u001b[0;34m(\u001b[0m\u001b[0me\u001b[0m\u001b[0;34m.\u001b[0m\u001b[0m__traceback__\u001b[0m\u001b[0;34m)\u001b[0m\u001b[0;34m\u001b[0m\u001b[0;34m\u001b[0m\u001b[0m\n",
      "\u001b[0;32m/Library/Frameworks/Python.framework/Versions/3.9/lib/python3.9/site-packages/keras/engine/training.py\u001b[0m in \u001b[0;36mfit\u001b[0;34m(self, x, y, batch_size, epochs, verbose, callbacks, validation_split, validation_data, shuffle, class_weight, sample_weight, initial_epoch, steps_per_epoch, validation_steps, validation_batch_size, validation_freq, max_queue_size, workers, use_multiprocessing)\u001b[0m\n\u001b[1;32m   1214\u001b[0m                 _r=1):\n\u001b[1;32m   1215\u001b[0m               \u001b[0mcallbacks\u001b[0m\u001b[0;34m.\u001b[0m\u001b[0mon_train_batch_begin\u001b[0m\u001b[0;34m(\u001b[0m\u001b[0mstep\u001b[0m\u001b[0;34m)\u001b[0m\u001b[0;34m\u001b[0m\u001b[0;34m\u001b[0m\u001b[0m\n\u001b[0;32m-> 1216\u001b[0;31m               \u001b[0mtmp_logs\u001b[0m \u001b[0;34m=\u001b[0m \u001b[0mself\u001b[0m\u001b[0;34m.\u001b[0m\u001b[0mtrain_function\u001b[0m\u001b[0;34m(\u001b[0m\u001b[0miterator\u001b[0m\u001b[0;34m)\u001b[0m\u001b[0;34m\u001b[0m\u001b[0;34m\u001b[0m\u001b[0m\n\u001b[0m\u001b[1;32m   1217\u001b[0m               \u001b[0;32mif\u001b[0m \u001b[0mdata_handler\u001b[0m\u001b[0;34m.\u001b[0m\u001b[0mshould_sync\u001b[0m\u001b[0;34m:\u001b[0m\u001b[0;34m\u001b[0m\u001b[0;34m\u001b[0m\u001b[0m\n\u001b[1;32m   1218\u001b[0m                 \u001b[0mcontext\u001b[0m\u001b[0;34m.\u001b[0m\u001b[0masync_wait\u001b[0m\u001b[0;34m(\u001b[0m\u001b[0;34m)\u001b[0m\u001b[0;34m\u001b[0m\u001b[0;34m\u001b[0m\u001b[0m\n",
      "\u001b[0;32m/Library/Frameworks/Python.framework/Versions/3.9/lib/python3.9/site-packages/tensorflow/python/util/traceback_utils.py\u001b[0m in \u001b[0;36merror_handler\u001b[0;34m(*args, **kwargs)\u001b[0m\n\u001b[1;32m    148\u001b[0m     \u001b[0mfiltered_tb\u001b[0m \u001b[0;34m=\u001b[0m \u001b[0;32mNone\u001b[0m\u001b[0;34m\u001b[0m\u001b[0;34m\u001b[0m\u001b[0m\n\u001b[1;32m    149\u001b[0m     \u001b[0;32mtry\u001b[0m\u001b[0;34m:\u001b[0m\u001b[0;34m\u001b[0m\u001b[0;34m\u001b[0m\u001b[0m\n\u001b[0;32m--> 150\u001b[0;31m       \u001b[0;32mreturn\u001b[0m \u001b[0mfn\u001b[0m\u001b[0;34m(\u001b[0m\u001b[0;34m*\u001b[0m\u001b[0margs\u001b[0m\u001b[0;34m,\u001b[0m \u001b[0;34m**\u001b[0m\u001b[0mkwargs\u001b[0m\u001b[0;34m)\u001b[0m\u001b[0;34m\u001b[0m\u001b[0;34m\u001b[0m\u001b[0m\n\u001b[0m\u001b[1;32m    151\u001b[0m     \u001b[0;32mexcept\u001b[0m \u001b[0mException\u001b[0m \u001b[0;32mas\u001b[0m \u001b[0me\u001b[0m\u001b[0;34m:\u001b[0m\u001b[0;34m\u001b[0m\u001b[0;34m\u001b[0m\u001b[0m\n\u001b[1;32m    152\u001b[0m       \u001b[0mfiltered_tb\u001b[0m \u001b[0;34m=\u001b[0m \u001b[0m_process_traceback_frames\u001b[0m\u001b[0;34m(\u001b[0m\u001b[0me\u001b[0m\u001b[0;34m.\u001b[0m\u001b[0m__traceback__\u001b[0m\u001b[0;34m)\u001b[0m\u001b[0;34m\u001b[0m\u001b[0;34m\u001b[0m\u001b[0m\n",
      "\u001b[0;32m/Library/Frameworks/Python.framework/Versions/3.9/lib/python3.9/site-packages/tensorflow/python/eager/def_function.py\u001b[0m in \u001b[0;36m__call__\u001b[0;34m(self, *args, **kwds)\u001b[0m\n\u001b[1;32m    908\u001b[0m \u001b[0;34m\u001b[0m\u001b[0m\n\u001b[1;32m    909\u001b[0m       \u001b[0;32mwith\u001b[0m \u001b[0mOptionalXlaContext\u001b[0m\u001b[0;34m(\u001b[0m\u001b[0mself\u001b[0m\u001b[0;34m.\u001b[0m\u001b[0m_jit_compile\u001b[0m\u001b[0;34m)\u001b[0m\u001b[0;34m:\u001b[0m\u001b[0;34m\u001b[0m\u001b[0;34m\u001b[0m\u001b[0m\n\u001b[0;32m--> 910\u001b[0;31m         \u001b[0mresult\u001b[0m \u001b[0;34m=\u001b[0m \u001b[0mself\u001b[0m\u001b[0;34m.\u001b[0m\u001b[0m_call\u001b[0m\u001b[0;34m(\u001b[0m\u001b[0;34m*\u001b[0m\u001b[0margs\u001b[0m\u001b[0;34m,\u001b[0m \u001b[0;34m**\u001b[0m\u001b[0mkwds\u001b[0m\u001b[0;34m)\u001b[0m\u001b[0;34m\u001b[0m\u001b[0;34m\u001b[0m\u001b[0m\n\u001b[0m\u001b[1;32m    911\u001b[0m \u001b[0;34m\u001b[0m\u001b[0m\n\u001b[1;32m    912\u001b[0m       \u001b[0mnew_tracing_count\u001b[0m \u001b[0;34m=\u001b[0m \u001b[0mself\u001b[0m\u001b[0;34m.\u001b[0m\u001b[0mexperimental_get_tracing_count\u001b[0m\u001b[0;34m(\u001b[0m\u001b[0;34m)\u001b[0m\u001b[0;34m\u001b[0m\u001b[0;34m\u001b[0m\u001b[0m\n",
      "\u001b[0;32m/Library/Frameworks/Python.framework/Versions/3.9/lib/python3.9/site-packages/tensorflow/python/eager/def_function.py\u001b[0m in \u001b[0;36m_call\u001b[0;34m(self, *args, **kwds)\u001b[0m\n\u001b[1;32m    940\u001b[0m       \u001b[0;31m# In this case we have created variables on the first call, so we run the\u001b[0m\u001b[0;34m\u001b[0m\u001b[0;34m\u001b[0m\u001b[0m\n\u001b[1;32m    941\u001b[0m       \u001b[0;31m# defunned version which is guaranteed to never create variables.\u001b[0m\u001b[0;34m\u001b[0m\u001b[0;34m\u001b[0m\u001b[0m\n\u001b[0;32m--> 942\u001b[0;31m       \u001b[0;32mreturn\u001b[0m \u001b[0mself\u001b[0m\u001b[0;34m.\u001b[0m\u001b[0m_stateless_fn\u001b[0m\u001b[0;34m(\u001b[0m\u001b[0;34m*\u001b[0m\u001b[0margs\u001b[0m\u001b[0;34m,\u001b[0m \u001b[0;34m**\u001b[0m\u001b[0mkwds\u001b[0m\u001b[0;34m)\u001b[0m  \u001b[0;31m# pylint: disable=not-callable\u001b[0m\u001b[0;34m\u001b[0m\u001b[0;34m\u001b[0m\u001b[0m\n\u001b[0m\u001b[1;32m    943\u001b[0m     \u001b[0;32melif\u001b[0m \u001b[0mself\u001b[0m\u001b[0;34m.\u001b[0m\u001b[0m_stateful_fn\u001b[0m \u001b[0;32mis\u001b[0m \u001b[0;32mnot\u001b[0m \u001b[0;32mNone\u001b[0m\u001b[0;34m:\u001b[0m\u001b[0;34m\u001b[0m\u001b[0;34m\u001b[0m\u001b[0m\n\u001b[1;32m    944\u001b[0m       \u001b[0;31m# Release the lock early so that multiple threads can perform the call\u001b[0m\u001b[0;34m\u001b[0m\u001b[0;34m\u001b[0m\u001b[0m\n",
      "\u001b[0;32m/Library/Frameworks/Python.framework/Versions/3.9/lib/python3.9/site-packages/tensorflow/python/eager/function.py\u001b[0m in \u001b[0;36m__call__\u001b[0;34m(self, *args, **kwargs)\u001b[0m\n\u001b[1;32m   3128\u001b[0m       (graph_function,\n\u001b[1;32m   3129\u001b[0m        filtered_flat_args) = self._maybe_define_function(args, kwargs)\n\u001b[0;32m-> 3130\u001b[0;31m     return graph_function._call_flat(\n\u001b[0m\u001b[1;32m   3131\u001b[0m         filtered_flat_args, captured_inputs=graph_function.captured_inputs)  # pylint: disable=protected-access\n\u001b[1;32m   3132\u001b[0m \u001b[0;34m\u001b[0m\u001b[0m\n",
      "\u001b[0;32m/Library/Frameworks/Python.framework/Versions/3.9/lib/python3.9/site-packages/tensorflow/python/eager/function.py\u001b[0m in \u001b[0;36m_call_flat\u001b[0;34m(self, args, captured_inputs, cancellation_manager)\u001b[0m\n\u001b[1;32m   1957\u001b[0m         and executing_eagerly):\n\u001b[1;32m   1958\u001b[0m       \u001b[0;31m# No tape is watching; skip to running the function.\u001b[0m\u001b[0;34m\u001b[0m\u001b[0;34m\u001b[0m\u001b[0m\n\u001b[0;32m-> 1959\u001b[0;31m       return self._build_call_outputs(self._inference_function.call(\n\u001b[0m\u001b[1;32m   1960\u001b[0m           ctx, args, cancellation_manager=cancellation_manager))\n\u001b[1;32m   1961\u001b[0m     forward_backward = self._select_forward_and_backward_functions(\n",
      "\u001b[0;32m/Library/Frameworks/Python.framework/Versions/3.9/lib/python3.9/site-packages/tensorflow/python/eager/function.py\u001b[0m in \u001b[0;36mcall\u001b[0;34m(self, ctx, args, cancellation_manager)\u001b[0m\n\u001b[1;32m    596\u001b[0m       \u001b[0;32mwith\u001b[0m \u001b[0m_InterpolateFunctionError\u001b[0m\u001b[0;34m(\u001b[0m\u001b[0mself\u001b[0m\u001b[0;34m)\u001b[0m\u001b[0;34m:\u001b[0m\u001b[0;34m\u001b[0m\u001b[0;34m\u001b[0m\u001b[0m\n\u001b[1;32m    597\u001b[0m         \u001b[0;32mif\u001b[0m \u001b[0mcancellation_manager\u001b[0m \u001b[0;32mis\u001b[0m \u001b[0;32mNone\u001b[0m\u001b[0;34m:\u001b[0m\u001b[0;34m\u001b[0m\u001b[0;34m\u001b[0m\u001b[0m\n\u001b[0;32m--> 598\u001b[0;31m           outputs = execute.execute(\n\u001b[0m\u001b[1;32m    599\u001b[0m               \u001b[0mstr\u001b[0m\u001b[0;34m(\u001b[0m\u001b[0mself\u001b[0m\u001b[0;34m.\u001b[0m\u001b[0msignature\u001b[0m\u001b[0;34m.\u001b[0m\u001b[0mname\u001b[0m\u001b[0;34m)\u001b[0m\u001b[0;34m,\u001b[0m\u001b[0;34m\u001b[0m\u001b[0;34m\u001b[0m\u001b[0m\n\u001b[1;32m    600\u001b[0m               \u001b[0mnum_outputs\u001b[0m\u001b[0;34m=\u001b[0m\u001b[0mself\u001b[0m\u001b[0;34m.\u001b[0m\u001b[0m_num_outputs\u001b[0m\u001b[0;34m,\u001b[0m\u001b[0;34m\u001b[0m\u001b[0;34m\u001b[0m\u001b[0m\n",
      "\u001b[0;32m/Library/Frameworks/Python.framework/Versions/3.9/lib/python3.9/site-packages/tensorflow/python/eager/execute.py\u001b[0m in \u001b[0;36mquick_execute\u001b[0;34m(op_name, num_outputs, inputs, attrs, ctx, name)\u001b[0m\n\u001b[1;32m     56\u001b[0m   \u001b[0;32mtry\u001b[0m\u001b[0;34m:\u001b[0m\u001b[0;34m\u001b[0m\u001b[0;34m\u001b[0m\u001b[0m\n\u001b[1;32m     57\u001b[0m     \u001b[0mctx\u001b[0m\u001b[0;34m.\u001b[0m\u001b[0mensure_initialized\u001b[0m\u001b[0;34m(\u001b[0m\u001b[0;34m)\u001b[0m\u001b[0;34m\u001b[0m\u001b[0;34m\u001b[0m\u001b[0m\n\u001b[0;32m---> 58\u001b[0;31m     tensors = pywrap_tfe.TFE_Py_Execute(ctx._handle, device_name, op_name,\n\u001b[0m\u001b[1;32m     59\u001b[0m                                         inputs, attrs, num_outputs)\n\u001b[1;32m     60\u001b[0m   \u001b[0;32mexcept\u001b[0m \u001b[0mcore\u001b[0m\u001b[0;34m.\u001b[0m\u001b[0m_NotOkStatusException\u001b[0m \u001b[0;32mas\u001b[0m \u001b[0me\u001b[0m\u001b[0;34m:\u001b[0m\u001b[0;34m\u001b[0m\u001b[0;34m\u001b[0m\u001b[0m\n",
      "\u001b[0;31mKeyboardInterrupt\u001b[0m: "
     ]
    }
   ],
   "source": [
    "# Takes large amount of time!!\n",
    "best_model = models.fit(x_train, y_train)\n",
    "print('Best model :')\n",
    "pp.pprint(best_model.best_params_)"
   ]
  },
  {
   "cell_type": "code",
   "execution_count": null,
   "id": "071dc35f",
   "metadata": {},
   "outputs": [],
   "source": [
    "# Learning curve\n",
    "pd.DataFrame(best_model.history).plot(figsize=(8, 5))\n",
    "plt.grid(True)\n",
    "plt.gca().set_ylim(0, 1)\n",
    "plt.show()"
   ]
  },
  {
   "cell_type": "code",
   "execution_count": null,
   "id": "03ed315a",
   "metadata": {},
   "outputs": [],
   "source": [
    "score = best_model.evaluate(x_test, y_test)\n",
    "print('Test loss:', score[0]) \n",
    "print('Test accuracy:', score[1])"
   ]
  },
  {
   "cell_type": "code",
   "execution_count": null,
   "id": "77c2b523",
   "metadata": {},
   "outputs": [],
   "source": []
  }
 ],
 "metadata": {
  "kernelspec": {
   "display_name": "Python 3 (ipykernel)",
   "language": "python",
   "name": "python3"
  },
  "language_info": {
   "codemirror_mode": {
    "name": "ipython",
    "version": 3
   },
   "file_extension": ".py",
   "mimetype": "text/x-python",
   "name": "python",
   "nbconvert_exporter": "python",
   "pygments_lexer": "ipython3",
   "version": "3.9.7"
  }
 },
 "nbformat": 4,
 "nbformat_minor": 5
}
