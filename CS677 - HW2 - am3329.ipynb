{
 "cells": [
  {
   "cell_type": "markdown",
   "id": "7bdacfd7",
   "metadata": {},
   "source": [
    "<i>Ahamed Arafaath Muthalif Mubarak Ali</i>"
   ]
  },
  {
   "cell_type": "markdown",
   "id": "83e5b096",
   "metadata": {},
   "source": [
    "# Homework 2\n",
    "\n",
    "Using what you learned today, design a MLP model to train the Fashion MNIST data for the best accuracy in test. You can use either sequential API or functional API. Describe how you come to your choice of hyperparameters. What’s the best result you can achieve?\n",
    "\n",
    "Submission: a Jupyter notebook file with all your intermediate investigations, explanations, and results.\n"
   ]
  },
  {
   "cell_type": "markdown",
   "id": "abe75f11",
   "metadata": {},
   "source": [
    "# Fine-tuning NN Hyperparameters\n",
    "* number of layers\n",
    "* number of neurons per layer\n",
    "* type of activation function in each layer\n",
    "* optimizer selection\n",
    "* learning rate\n",
    "* batch size\n",
    "* cost function selection\n",
    "* weight initialization logic\n",
    "..."
   ]
  },
  {
   "cell_type": "markdown",
   "id": "1a28f244",
   "metadata": {},
   "source": [
    "### <u>Packages Import</u>"
   ]
  },
  {
   "cell_type": "code",
   "execution_count": 112,
   "id": "0c1edfe0",
   "metadata": {},
   "outputs": [],
   "source": [
    "import tensorflow as tf\n",
    "from tensorflow import keras\n",
    "from keras.datasets import fashion_mnist\n",
    "from keras.models import Sequential\n",
    "from keras.layers import Dense, Activation, Flatten, Dropout\n",
    "\n",
    "import pandas as pd\n",
    "import numpy as np\n",
    "import os\n",
    "import matplotlib.pyplot as plt\n",
    "\n",
    "#grid search\n",
    "from keras.optimizers import *\n",
    "from keras.wrappers.scikit_learn import KerasClassifier\n",
    "from sklearn.model_selection import GridSearchCV\n",
    "import pprint\n",
    "pp = pprint.PrettyPrinter(indent = 4)"
   ]
  },
  {
   "cell_type": "markdown",
   "id": "84ff4431",
   "metadata": {},
   "source": [
    "### <u>Save_fig function from W2 lecture notes</u>"
   ]
  },
  {
   "cell_type": "code",
   "execution_count": 30,
   "id": "449e9969",
   "metadata": {},
   "outputs": [],
   "source": [
    "# Where to save the figures\n",
    "PROJECT_ROOT_DIR = \".\"\n",
    "CHAPTER_ID = \"W2hw2\"\n",
    "IMAGES_PATH = os.path.join(PROJECT_ROOT_DIR, \"HW2\", CHAPTER_ID)\n",
    "os.makedirs(IMAGES_PATH, exist_ok=True)\n",
    "\n",
    "def save_fig(fig_id, tight_layout=True, fig_extension=\"png\", resolution=300):\n",
    "    path = os.path.join(IMAGES_PATH, fig_id + \".\" + fig_extension)\n",
    "    print(\"Saving figure\", fig_id)\n",
    "    if tight_layout:\n",
    "        plt.tight_layout()\n",
    "    plt.savefig(path, format=fig_extension, dpi=resolution)"
   ]
  },
  {
   "cell_type": "markdown",
   "id": "67e2e583",
   "metadata": {},
   "source": [
    "### <u>Load and explore the dataset</u>"
   ]
  },
  {
   "cell_type": "code",
   "execution_count": 10,
   "id": "d604cd60",
   "metadata": {},
   "outputs": [],
   "source": [
    "fashion_mnist = fashion_mnist\n",
    "(X_train_full, y_train_full), (X_test, y_test) = fashion_mnist.load_data()"
   ]
  },
  {
   "cell_type": "code",
   "execution_count": 11,
   "id": "ff25eb4b",
   "metadata": {},
   "outputs": [],
   "source": [
    "#Normalize the dataset\n",
    "X_valid, X_train = X_train_full[:5000] / 255., X_train_full[5000:] / 255.\n",
    "y_valid, y_train = y_train_full[:5000], y_train_full[5000:]\n",
    "X_test = X_test / 255."
   ]
  },
  {
   "cell_type": "code",
   "execution_count": 13,
   "id": "3aa04dc9",
   "metadata": {},
   "outputs": [
    {
     "data": {
      "text/plain": [
       "(55000, 28, 28)"
      ]
     },
     "execution_count": 13,
     "metadata": {},
     "output_type": "execute_result"
    }
   ],
   "source": [
    "X_train.shape"
   ]
  },
  {
   "cell_type": "code",
   "execution_count": 14,
   "id": "67d03dc5",
   "metadata": {},
   "outputs": [
    {
     "data": {
      "text/plain": [
       "(10000, 28, 28)"
      ]
     },
     "execution_count": 14,
     "metadata": {},
     "output_type": "execute_result"
    }
   ],
   "source": [
    "X_test.shape"
   ]
  },
  {
   "cell_type": "code",
   "execution_count": 16,
   "id": "6d4b6a53",
   "metadata": {},
   "outputs": [
    {
     "data": {
      "text/plain": [
       "array([[  0,   0,   0,   0,   0,   0,   0,   0,   0,   0,   0,   0,   0,\n",
       "          0,   0,   0,   0,   0,   0,   0,   0,   0,   0,   0,   0,   0,\n",
       "          0,   0],\n",
       "       [  0,   0,   0,   0,   0,   0,   0,   0,   0,   0,   0,   0,   0,\n",
       "          0,   0,   0,   0,   0,   0,   0,   0,   0,   0,   0,   0,   0,\n",
       "          0,   0],\n",
       "       [  0,   0,   0,   0,   0,   0,   0,   0,   0,   0,   0,   0,   0,\n",
       "          0,   0,   0,   0,   0,   0,   0,   0,   0,   0,   0,   0,   0,\n",
       "          0,   0],\n",
       "       [  0,   0,   0,   0,   0,   0,   0,   0,   0,   0,   0,   0,   1,\n",
       "          0,   0,  13,  73,   0,   0,   1,   4,   0,   0,   0,   0,   1,\n",
       "          1,   0],\n",
       "       [  0,   0,   0,   0,   0,   0,   0,   0,   0,   0,   0,   0,   3,\n",
       "          0,  36, 136, 127,  62,  54,   0,   0,   0,   1,   3,   4,   0,\n",
       "          0,   3],\n",
       "       [  0,   0,   0,   0,   0,   0,   0,   0,   0,   0,   0,   0,   6,\n",
       "          0, 102, 204, 176, 134, 144, 123,  23,   0,   0,   0,   0,  12,\n",
       "         10,   0],\n",
       "       [  0,   0,   0,   0,   0,   0,   0,   0,   0,   0,   0,   0,   0,\n",
       "          0, 155, 236, 207, 178, 107, 156, 161, 109,  64,  23,  77, 130,\n",
       "         72,  15],\n",
       "       [  0,   0,   0,   0,   0,   0,   0,   0,   0,   0,   0,   1,   0,\n",
       "         69, 207, 223, 218, 216, 216, 163, 127, 121, 122, 146, 141,  88,\n",
       "        172,  66],\n",
       "       [  0,   0,   0,   0,   0,   0,   0,   0,   0,   1,   1,   1,   0,\n",
       "        200, 232, 232, 233, 229, 223, 223, 215, 213, 164, 127, 123, 196,\n",
       "        229,   0],\n",
       "       [  0,   0,   0,   0,   0,   0,   0,   0,   0,   0,   0,   0,   0,\n",
       "        183, 225, 216, 223, 228, 235, 227, 224, 222, 224, 221, 223, 245,\n",
       "        173,   0],\n",
       "       [  0,   0,   0,   0,   0,   0,   0,   0,   0,   0,   0,   0,   0,\n",
       "        193, 228, 218, 213, 198, 180, 212, 210, 211, 213, 223, 220, 243,\n",
       "        202,   0],\n",
       "       [  0,   0,   0,   0,   0,   0,   0,   0,   0,   1,   3,   0,  12,\n",
       "        219, 220, 212, 218, 192, 169, 227, 208, 218, 224, 212, 226, 197,\n",
       "        209,  52],\n",
       "       [  0,   0,   0,   0,   0,   0,   0,   0,   0,   0,   6,   0,  99,\n",
       "        244, 222, 220, 218, 203, 198, 221, 215, 213, 222, 220, 245, 119,\n",
       "        167,  56],\n",
       "       [  0,   0,   0,   0,   0,   0,   0,   0,   0,   4,   0,   0,  55,\n",
       "        236, 228, 230, 228, 240, 232, 213, 218, 223, 234, 217, 217, 209,\n",
       "         92,   0],\n",
       "       [  0,   0,   1,   4,   6,   7,   2,   0,   0,   0,   0,   0, 237,\n",
       "        226, 217, 223, 222, 219, 222, 221, 216, 223, 229, 215, 218, 255,\n",
       "         77,   0],\n",
       "       [  0,   3,   0,   0,   0,   0,   0,   0,   0,  62, 145, 204, 228,\n",
       "        207, 213, 221, 218, 208, 211, 218, 224, 223, 219, 215, 224, 244,\n",
       "        159,   0],\n",
       "       [  0,   0,   0,   0,  18,  44,  82, 107, 189, 228, 220, 222, 217,\n",
       "        226, 200, 205, 211, 230, 224, 234, 176, 188, 250, 248, 233, 238,\n",
       "        215,   0],\n",
       "       [  0,  57, 187, 208, 224, 221, 224, 208, 204, 214, 208, 209, 200,\n",
       "        159, 245, 193, 206, 223, 255, 255, 221, 234, 221, 211, 220, 232,\n",
       "        246,   0],\n",
       "       [  3, 202, 228, 224, 221, 211, 211, 214, 205, 205, 205, 220, 240,\n",
       "         80, 150, 255, 229, 221, 188, 154, 191, 210, 204, 209, 222, 228,\n",
       "        225,   0],\n",
       "       [ 98, 233, 198, 210, 222, 229, 229, 234, 249, 220, 194, 215, 217,\n",
       "        241,  65,  73, 106, 117, 168, 219, 221, 215, 217, 223, 223, 224,\n",
       "        229,  29],\n",
       "       [ 75, 204, 212, 204, 193, 205, 211, 225, 216, 185, 197, 206, 198,\n",
       "        213, 240, 195, 227, 245, 239, 223, 218, 212, 209, 222, 220, 221,\n",
       "        230,  67],\n",
       "       [ 48, 203, 183, 194, 213, 197, 185, 190, 194, 192, 202, 214, 219,\n",
       "        221, 220, 236, 225, 216, 199, 206, 186, 181, 177, 172, 181, 205,\n",
       "        206, 115],\n",
       "       [  0, 122, 219, 193, 179, 171, 183, 196, 204, 210, 213, 207, 211,\n",
       "        210, 200, 196, 194, 191, 195, 191, 198, 192, 176, 156, 167, 177,\n",
       "        210,  92],\n",
       "       [  0,   0,  74, 189, 212, 191, 175, 172, 175, 181, 185, 188, 189,\n",
       "        188, 193, 198, 204, 209, 210, 210, 211, 188, 188, 194, 192, 216,\n",
       "        170,   0],\n",
       "       [  2,   0,   0,   0,  66, 200, 222, 237, 239, 242, 246, 243, 244,\n",
       "        221, 220, 193, 191, 179, 182, 182, 181, 176, 166, 168,  99,  58,\n",
       "          0,   0],\n",
       "       [  0,   0,   0,   0,   0,   0,   0,  40,  61,  44,  72,  41,  35,\n",
       "          0,   0,   0,   0,   0,   0,   0,   0,   0,   0,   0,   0,   0,\n",
       "          0,   0],\n",
       "       [  0,   0,   0,   0,   0,   0,   0,   0,   0,   0,   0,   0,   0,\n",
       "          0,   0,   0,   0,   0,   0,   0,   0,   0,   0,   0,   0,   0,\n",
       "          0,   0],\n",
       "       [  0,   0,   0,   0,   0,   0,   0,   0,   0,   0,   0,   0,   0,\n",
       "          0,   0,   0,   0,   0,   0,   0,   0,   0,   0,   0,   0,   0,\n",
       "          0,   0]], dtype=uint8)"
      ]
     },
     "execution_count": 16,
     "metadata": {},
     "output_type": "execute_result"
    }
   ],
   "source": [
    "X_train_full[0]"
   ]
  },
  {
   "cell_type": "code",
   "execution_count": 17,
   "id": "ff5ea9b0",
   "metadata": {},
   "outputs": [
    {
     "data": {
      "text/plain": [
       "array([[0.        , 0.        , 0.        , 0.        , 0.        ,\n",
       "        0.        , 0.        , 0.        , 0.        , 0.        ,\n",
       "        0.        , 0.        , 0.        , 0.        , 0.        ,\n",
       "        0.        , 0.        , 0.        , 0.        , 0.00392157,\n",
       "        0.        , 0.        , 0.        , 0.        , 0.        ,\n",
       "        0.        , 0.        , 0.        ],\n",
       "       [0.        , 0.        , 0.        , 0.        , 0.        ,\n",
       "        0.        , 0.        , 0.        , 0.        , 0.        ,\n",
       "        0.        , 0.17254902, 0.49803922, 0.71372549, 0.7254902 ,\n",
       "        0.63137255, 0.47058824, 0.21568627, 0.        , 0.        ,\n",
       "        0.        , 0.        , 0.        , 0.        , 0.        ,\n",
       "        0.        , 0.        , 0.        ],\n",
       "       [0.        , 0.        , 0.        , 0.        , 0.        ,\n",
       "        0.        , 0.        , 0.        , 0.        , 0.16470588,\n",
       "        0.77647059, 0.98431373, 1.        , 0.98431373, 0.97647059,\n",
       "        0.96862745, 1.        , 0.98823529, 0.83921569, 0.39215686,\n",
       "        0.        , 0.        , 0.        , 0.        , 0.        ,\n",
       "        0.        , 0.        , 0.        ],\n",
       "       [0.        , 0.        , 0.        , 0.        , 0.        ,\n",
       "        0.        , 0.00784314, 0.        , 0.        , 0.91372549,\n",
       "        0.98823529, 0.92941176, 0.9372549 , 0.91764706, 0.92941176,\n",
       "        0.92156863, 0.92941176, 0.92941176, 0.99607843, 0.89019608,\n",
       "        0.        , 0.        , 0.        , 0.        , 0.00392157,\n",
       "        0.        , 0.        , 0.        ],\n",
       "       [0.        , 0.        , 0.        , 0.        , 0.        ,\n",
       "        0.00784314, 0.        , 0.        , 0.0627451 , 0.82352941,\n",
       "        0.88235294, 0.84313725, 0.68627451, 0.85098039, 0.84705882,\n",
       "        0.75686275, 0.76862745, 0.88627451, 0.86666667, 0.81960784,\n",
       "        0.19607843, 0.        , 0.        , 0.00784314, 0.        ,\n",
       "        0.        , 0.        , 0.        ],\n",
       "       [0.        , 0.        , 0.        , 0.        , 0.00784314,\n",
       "        0.        , 0.        , 0.78039216, 0.89803922, 0.90980392,\n",
       "        0.90196078, 0.96078431, 0.8       , 0.85882353, 0.99215686,\n",
       "        0.96078431, 0.81176471, 0.76078431, 0.8745098 , 0.90588235,\n",
       "        0.9254902 , 0.92156863, 0.        , 0.        , 0.01176471,\n",
       "        0.        , 0.        , 0.        ],\n",
       "       [0.        , 0.        , 0.        , 0.        , 0.00392157,\n",
       "        0.        , 0.5372549 , 0.92156863, 0.8       , 0.81960784,\n",
       "        0.78823529, 0.81960784, 0.91764706, 0.74509804, 0.91764706,\n",
       "        0.85490196, 0.84313725, 0.93333333, 0.9372549 , 0.8       ,\n",
       "        0.74117647, 0.87843137, 0.60392157, 0.        , 0.        ,\n",
       "        0.        , 0.        , 0.        ],\n",
       "       [0.        , 0.        , 0.        , 0.        , 0.        ,\n",
       "        0.        , 0.76078431, 0.78823529, 0.78431373, 0.81960784,\n",
       "        0.79215686, 0.75686275, 0.80392157, 0.76078431, 0.71764706,\n",
       "        0.85490196, 0.90588235, 0.77254902, 0.6745098 , 0.70980392,\n",
       "        0.75686275, 0.80392157, 0.78039216, 0.        , 0.        ,\n",
       "        0.        , 0.        , 0.        ],\n",
       "       [0.        , 0.        , 0.        , 0.        , 0.        ,\n",
       "        0.01176471, 0.83137255, 0.79607843, 0.7372549 , 0.74117647,\n",
       "        0.76862745, 0.77647059, 0.77647059, 0.78823529, 0.76862745,\n",
       "        0.85098039, 0.70196078, 0.65490196, 0.71764706, 0.85098039,\n",
       "        0.77254902, 0.79215686, 0.85882353, 0.11764706, 0.        ,\n",
       "        0.        , 0.        , 0.        ],\n",
       "       [0.        , 0.        , 0.        , 0.        , 0.        ,\n",
       "        0.13333333, 0.88235294, 0.78431373, 0.76078431, 0.74509804,\n",
       "        0.7372549 , 0.75294118, 0.76862745, 0.75294118, 0.66666667,\n",
       "        0.79215686, 0.74509804, 0.78823529, 0.76470588, 0.78431373,\n",
       "        0.78823529, 0.81960784, 0.89019608, 0.19607843, 0.        ,\n",
       "        0.        , 0.        , 0.        ],\n",
       "       [0.        , 0.        , 0.        , 0.        , 0.        ,\n",
       "        0.26666667, 0.88235294, 0.82352941, 0.82745098, 0.77647059,\n",
       "        0.75294118, 0.76862745, 0.8       , 0.76862745, 0.70980392,\n",
       "        0.83137255, 0.77254902, 0.76470588, 0.75294118, 0.80784314,\n",
       "        0.8627451 , 0.82352941, 0.89803922, 0.36470588, 0.        ,\n",
       "        0.        , 0.        , 0.        ],\n",
       "       [0.        , 0.        , 0.        , 0.        , 0.        ,\n",
       "        0.43529412, 0.8745098 , 0.89019608, 0.99215686, 0.81960784,\n",
       "        0.76862745, 0.8       , 0.82745098, 0.80784314, 0.71764706,\n",
       "        0.84705882, 0.80784314, 0.82352941, 0.79607843, 0.84313725,\n",
       "        0.95686275, 0.87843137, 0.89019608, 0.58823529, 0.        ,\n",
       "        0.        , 0.        , 0.        ],\n",
       "       [0.        , 0.        , 0.        , 0.        , 0.        ,\n",
       "        0.54509804, 0.88235294, 0.87843137, 1.        , 0.79215686,\n",
       "        0.80784314, 0.83137255, 0.81960784, 0.82745098, 0.74509804,\n",
       "        0.83529412, 0.79215686, 0.81176471, 0.80784314, 0.87058824,\n",
       "        1.        , 0.90196078, 0.8627451 , 0.74509804, 0.        ,\n",
       "        0.        , 0.        , 0.        ],\n",
       "       [0.        , 0.        , 0.        , 0.        , 0.        ,\n",
       "        0.70588235, 0.88627451, 0.87843137, 1.        , 0.78039216,\n",
       "        0.8       , 0.81176471, 0.83921569, 0.83921569, 0.74509804,\n",
       "        0.84705882, 0.80784314, 0.79607843, 0.80392157, 0.85882353,\n",
       "        0.95294118, 0.87843137, 0.83921569, 0.91764706, 0.        ,\n",
       "        0.        , 0.        , 0.        ],\n",
       "       [0.        , 0.        , 0.        , 0.        , 0.        ,\n",
       "        0.88235294, 0.8745098 , 0.89411765, 0.99607843, 0.81960784,\n",
       "        0.80784314, 0.81568627, 0.83529412, 0.82352941, 0.74901961,\n",
       "        0.84313725, 0.81176471, 0.8       , 0.81568627, 0.82745098,\n",
       "        0.97647059, 0.88627451, 0.83921569, 1.        , 0.14901961,\n",
       "        0.        , 0.        , 0.        ],\n",
       "       [0.        , 0.        , 0.        , 0.        , 0.        ,\n",
       "        0.98039216, 0.90980392, 0.94117647, 0.9372549 , 0.82745098,\n",
       "        0.79607843, 0.81960784, 0.80392157, 0.82745098, 0.77254902,\n",
       "        0.84313725, 0.81568627, 0.81568627, 0.83921569, 0.83529412,\n",
       "        0.9372549 , 0.90588235, 0.85882353, 1.        , 0.31764706,\n",
       "        0.        , 0.        , 0.        ],\n",
       "       [0.        , 0.        , 0.        , 0.        , 0.        ,\n",
       "        0.97254902, 0.9254902 , 0.96862745, 0.94117647, 0.79607843,\n",
       "        0.78431373, 0.81568627, 0.80784314, 0.83921569, 0.75686275,\n",
       "        0.83529412, 0.83137255, 0.81568627, 0.83137255, 0.82745098,\n",
       "        0.95294118, 0.94901961, 0.88235294, 0.99607843, 0.25882353,\n",
       "        0.        , 0.        , 0.        ],\n",
       "       [0.        , 0.        , 0.        , 0.        , 0.        ,\n",
       "        0.96862745, 0.90196078, 0.98823529, 0.88627451, 0.78039216,\n",
       "        0.82745098, 0.79215686, 0.82745098, 0.83529412, 0.71372549,\n",
       "        0.83529412, 0.83137255, 0.80784314, 0.79215686, 0.85882353,\n",
       "        0.81176471, 0.96862745, 0.87058824, 0.92941176, 0.40784314,\n",
       "        0.        , 0.        , 0.        ],\n",
       "       [0.        , 0.        , 0.        , 0.        , 0.03921569,\n",
       "        0.95686275, 0.85882353, 0.98039216, 0.80392157, 0.78039216,\n",
       "        0.81960784, 0.79215686, 0.81960784, 0.82745098, 0.74117647,\n",
       "        0.83921569, 0.80784314, 0.82352941, 0.78431373, 0.83137255,\n",
       "        0.60392157, 0.94117647, 0.81568627, 0.85882353, 0.54901961,\n",
       "        0.        , 0.        , 0.        ],\n",
       "       [0.        , 0.        , 0.        , 0.        , 0.08235294,\n",
       "        1.        , 0.87058824, 0.93333333, 0.72156863, 0.82352941,\n",
       "        0.75294118, 0.80784314, 0.81960784, 0.82352941, 0.74117647,\n",
       "        0.83529412, 0.82745098, 0.81960784, 0.75294118, 0.89411765,\n",
       "        0.60784314, 0.88627451, 0.93333333, 0.94509804, 0.65098039,\n",
       "        0.        , 0.        , 0.        ],\n",
       "       [0.        , 0.        , 0.        , 0.        , 0.14509804,\n",
       "        0.96078431, 0.88627451, 0.94509804, 0.58823529, 0.77254902,\n",
       "        0.74117647, 0.8       , 0.81960784, 0.82352941, 0.71764706,\n",
       "        0.83529412, 0.83529412, 0.78823529, 0.72156863, 0.84313725,\n",
       "        0.57254902, 0.84705882, 0.9254902 , 0.88235294, 0.60392157,\n",
       "        0.        , 0.        , 0.        ],\n",
       "       [0.        , 0.        , 0.        , 0.        , 0.22745098,\n",
       "        0.9372549 , 0.89019608, 1.        , 0.61960784, 0.75686275,\n",
       "        0.76470588, 0.8       , 0.81960784, 0.83529412, 0.70588235,\n",
       "        0.81176471, 0.85098039, 0.78039216, 0.76078431, 0.82745098,\n",
       "        0.61960784, 0.85882353, 0.9254902 , 0.84705882, 0.59215686,\n",
       "        0.        , 0.        , 0.        ],\n",
       "       [0.        , 0.        , 0.        , 0.        , 0.26666667,\n",
       "        0.91372549, 0.88627451, 0.95294118, 0.54509804, 0.78431373,\n",
       "        0.75686275, 0.80392157, 0.82352941, 0.81568627, 0.70588235,\n",
       "        0.80392157, 0.83137255, 0.79607843, 0.76862745, 0.84705882,\n",
       "        0.61568627, 0.70196078, 1.        , 0.84705882, 0.60784314,\n",
       "        0.        , 0.        , 0.        ],\n",
       "       [0.        , 0.        , 0.        , 0.        , 0.31764706,\n",
       "        0.88235294, 0.87843137, 0.82745098, 0.54117647, 0.85882353,\n",
       "        0.7254902 , 0.78823529, 0.83529412, 0.81176471, 0.77254902,\n",
       "        0.88627451, 0.83137255, 0.78431373, 0.74509804, 0.84313725,\n",
       "        0.71764706, 0.35294118, 1.        , 0.82745098, 0.57647059,\n",
       "        0.        , 0.        , 0.        ],\n",
       "       [0.        , 0.        , 0.        , 0.        , 0.35686275,\n",
       "        0.82352941, 0.90196078, 0.61960784, 0.44705882, 0.80392157,\n",
       "        0.73333333, 0.81568627, 0.81960784, 0.80784314, 0.75686275,\n",
       "        0.82352941, 0.82745098, 0.8       , 0.76470588, 0.8       ,\n",
       "        0.70980392, 0.09019608, 1.        , 0.83529412, 0.61960784,\n",
       "        0.        , 0.        , 0.        ],\n",
       "       [0.        , 0.        , 0.        , 0.        , 0.34117647,\n",
       "        0.80392157, 0.90980392, 0.42745098, 0.64313725, 1.        ,\n",
       "        0.83921569, 0.87843137, 0.87058824, 0.82352941, 0.77254902,\n",
       "        0.83921569, 0.88235294, 0.87058824, 0.82745098, 0.8627451 ,\n",
       "        0.85098039, 0.        , 0.91764706, 0.84705882, 0.6627451 ,\n",
       "        0.        , 0.        , 0.        ],\n",
       "       [0.        , 0.        , 0.        , 0.        , 0.36078431,\n",
       "        0.83529412, 0.90980392, 0.57254902, 0.01960784, 0.5254902 ,\n",
       "        0.59215686, 0.63529412, 0.66666667, 0.71764706, 0.71372549,\n",
       "        0.64313725, 0.65098039, 0.69803922, 0.63529412, 0.61176471,\n",
       "        0.38431373, 0.        , 0.94117647, 0.88235294, 0.82352941,\n",
       "        0.        , 0.        , 0.        ],\n",
       "       [0.        , 0.        , 0.        , 0.        , 0.16862745,\n",
       "        0.64313725, 0.80784314, 0.55294118, 0.        , 0.        ,\n",
       "        0.        , 0.        , 0.        , 0.        , 0.        ,\n",
       "        0.        , 0.        , 0.        , 0.        , 0.        ,\n",
       "        0.        , 0.        , 0.49803922, 0.49019608, 0.29803922,\n",
       "        0.        , 0.        , 0.        ]])"
      ]
     },
     "execution_count": 17,
     "metadata": {},
     "output_type": "execute_result"
    }
   ],
   "source": [
    "X_train[0]"
   ]
  },
  {
   "cell_type": "code",
   "execution_count": 23,
   "id": "dbee6c36",
   "metadata": {},
   "outputs": [],
   "source": [
    "class_names = [\"T-shirt/top\", \"Trouser\", \"Pullover\", \"Dress\", \"Coat\",\n",
    "               \"Sandal\", \"Shirt\", \"Sneaker\", \"Bag\", \"Ankle boot\"]"
   ]
  },
  {
   "cell_type": "code",
   "execution_count": 24,
   "id": "19de2bbb",
   "metadata": {},
   "outputs": [
    {
     "data": {
      "image/png": "[encoded data removed]",
      "text/plain": [
       "<Figure size 432x288 with 1 Axes>"
      ]
     },
     "metadata": {
      "needs_background": "light"
     },
     "output_type": "display_data"
    }
   ],
   "source": [
    "plt.imshow(X_train[0], cmap=\"binary\")\n",
    "plt.show()"
   ]
  },
  {
   "cell_type": "code",
   "execution_count": 31,
   "id": "b57780b1",
   "metadata": {},
   "outputs": [
    {
     "name": "stdout",
     "output_type": "stream",
     "text": [
      "Saving figure fashion_mnist_plot\n"
     ]
    },
    {
     "data": {
      "image/png": "[encoded data removed]",
      "text/plain": [
       "<Figure size 864x345.6 with 40 Axes>"
      ]
     },
     "metadata": {
      "needs_background": "light"
     },
     "output_type": "display_data"
    }
   ],
   "source": [
    "#Visualizing the dataset and storing in the local device\n",
    "n_rows = 4\n",
    "n_cols = 10\n",
    "plt.figure(figsize=(n_cols * 1.2, n_rows * 1.2))\n",
    "for row in range(n_rows):\n",
    "    for col in range(n_cols):\n",
    "        index = n_cols * row + col\n",
    "        plt.subplot(n_rows, n_cols, index + 1)\n",
    "        plt.imshow(X_train[index], cmap=\"binary\", interpolation=\"nearest\")\n",
    "        plt.axis('off')\n",
    "        plt.title(class_names[y_train[index]], fontsize=12)\n",
    "plt.subplots_adjust(wspace=0.2, hspace=0.5)\n",
    "save_fig('fashion_mnist_plot', tight_layout=False)\n",
    "plt.show()"
   ]
  },
  {
   "cell_type": "code",
   "execution_count": 35,
   "id": "10f099f6",
   "metadata": {},
   "outputs": [],
   "source": [
    "# Clear the memory\n",
    "keras.backend.clear_session()\n",
    "np.random.seed(42)\n",
    "tf.random.set_seed(42)"
   ]
  },
  {
   "cell_type": "markdown",
   "id": "89cb78a7",
   "metadata": {},
   "source": [
    "### <u>Model building and compiling</u>"
   ]
  },
  {
   "cell_type": "code",
   "execution_count": 37,
   "id": "de8ebf84",
   "metadata": {},
   "outputs": [
    {
     "name": "stderr",
     "output_type": "stream",
     "text": [
      "2022-02-04 19:12:00.503064: I tensorflow/core/platform/cpu_feature_guard.cc:151] This TensorFlow binary is optimized with oneAPI Deep Neural Network Library (oneDNN) to use the following CPU instructions in performance-critical operations:  AVX2 FMA\n",
      "To enable them in other operations, rebuild TensorFlow with the appropriate compiler flags.\n"
     ]
    }
   ],
   "source": [
    "# building a pyramid scheme neural network\n",
    "model = Sequential([\n",
    "    Flatten(input_shape=[28, 28]),\n",
    "    Dense(512, activation=\"relu\"),\n",
    "    Dense(300, activation=\"relu\"),\n",
    "    Dense(100, activation=\"relu\"),\n",
    "    Dense(10, activation=\"softmax\")\n",
    "])"
   ]
  },
  {
   "cell_type": "code",
   "execution_count": 38,
   "id": "e7696c9a",
   "metadata": {},
   "outputs": [
    {
     "name": "stdout",
     "output_type": "stream",
     "text": [
      "Model: \"sequential\"\n",
      "_________________________________________________________________\n",
      " Layer (type)                Output Shape              Param #   \n",
      "=================================================================\n",
      " flatten (Flatten)           (None, 784)               0         \n",
      "                                                                 \n",
      " dense (Dense)               (None, 512)               401920    \n",
      "                                                                 \n",
      " dense_1 (Dense)             (None, 300)               153900    \n",
      "                                                                 \n",
      " dense_2 (Dense)             (None, 100)               30100     \n",
      "                                                                 \n",
      " dense_3 (Dense)             (None, 10)                1010      \n",
      "                                                                 \n",
      "=================================================================\n",
      "Total params: 586,930\n",
      "Trainable params: 586,930\n",
      "Non-trainable params: 0\n",
      "_________________________________________________________________\n"
     ]
    }
   ],
   "source": [
    "model.summary()"
   ]
  },
  {
   "cell_type": "code",
   "execution_count": 39,
   "id": "5973a640",
   "metadata": {},
   "outputs": [
    {
     "data": {
      "image/png": "[encoded data removed]",
      "text/plain": [
       "<IPython.core.display.Image object>"
      ]
     },
     "execution_count": 39,
     "metadata": {},
     "output_type": "execute_result"
    }
   ],
   "source": [
    "keras.utils.plot_model(model, \"my_fashion_mnist_model.png\", show_shapes=True)"
   ]
  },
  {
   "cell_type": "code",
   "execution_count": 40,
   "id": "58c69e05",
   "metadata": {},
   "outputs": [
    {
     "data": {
      "text/plain": [
       "'dense'"
      ]
     },
     "execution_count": 40,
     "metadata": {},
     "output_type": "execute_result"
    }
   ],
   "source": [
    "hidden1 = model.layers[1]\n",
    "hidden1.name"
   ]
  },
  {
   "cell_type": "code",
   "execution_count": 58,
   "id": "e064858a",
   "metadata": {},
   "outputs": [
    {
     "data": {
      "text/plain": [
       "'dense_2'"
      ]
     },
     "execution_count": 58,
     "metadata": {},
     "output_type": "execute_result"
    }
   ],
   "source": [
    "hidden2 = model.layers[3]\n",
    "hidden2.name"
   ]
  },
  {
   "cell_type": "code",
   "execution_count": 41,
   "id": "fe4da677",
   "metadata": {},
   "outputs": [
    {
     "data": {
      "text/plain": [
       "True"
      ]
     },
     "execution_count": 41,
     "metadata": {},
     "output_type": "execute_result"
    }
   ],
   "source": [
    "model.get_layer(hidden1.name) is hidden1 # use name to get layer"
   ]
  },
  {
   "cell_type": "code",
   "execution_count": 42,
   "id": "4e95cfb7",
   "metadata": {},
   "outputs": [],
   "source": [
    "weights, biases = hidden1.get_weights()"
   ]
  },
  {
   "cell_type": "code",
   "execution_count": 43,
   "id": "326ad45d",
   "metadata": {},
   "outputs": [
    {
     "data": {
      "text/plain": [
       "(784, 512)"
      ]
     },
     "execution_count": 43,
     "metadata": {},
     "output_type": "execute_result"
    }
   ],
   "source": [
    "weights.shape"
   ]
  },
  {
   "cell_type": "code",
   "execution_count": 44,
   "id": "b434834a",
   "metadata": {},
   "outputs": [
    {
     "data": {
      "text/plain": [
       "(512,)"
      ]
     },
     "execution_count": 44,
     "metadata": {},
     "output_type": "execute_result"
    }
   ],
   "source": [
    "biases.shape"
   ]
  },
  {
   "cell_type": "code",
   "execution_count": 45,
   "id": "d76853db",
   "metadata": {},
   "outputs": [],
   "source": [
    "model.compile(loss=keras.losses.sparse_categorical_crossentropy,\n",
    "              optimizer=keras.optimizers.SGD(),\n",
    "              metrics=[keras.metrics.sparse_categorical_accuracy])"
   ]
  },
  {
   "cell_type": "code",
   "execution_count": 46,
   "id": "93ae3820",
   "metadata": {},
   "outputs": [
    {
     "name": "stdout",
     "output_type": "stream",
     "text": [
      "Epoch 1/30\n",
      "1719/1719 [==============================] - 15s 8ms/step - loss: 0.7166 - sparse_categorical_accuracy: 0.7623 - val_loss: 0.5173 - val_sparse_categorical_accuracy: 0.8226\n",
      "Epoch 2/30\n",
      "1719/1719 [==============================] - 8s 4ms/step - loss: 0.4721 - sparse_categorical_accuracy: 0.8340 - val_loss: 0.4141 - val_sparse_categorical_accuracy: 0.8550\n",
      "Epoch 3/30\n",
      "1719/1719 [==============================] - 9s 5ms/step - loss: 0.4221 - sparse_categorical_accuracy: 0.8500 - val_loss: 0.5317 - val_sparse_categorical_accuracy: 0.8018\n",
      "Epoch 4/30\n",
      "1719/1719 [==============================] - 10s 6ms/step - loss: 0.3937 - sparse_categorical_accuracy: 0.8614 - val_loss: 0.3728 - val_sparse_categorical_accuracy: 0.8710\n",
      "Epoch 5/30\n",
      "1719/1719 [==============================] - 8s 4ms/step - loss: 0.3737 - sparse_categorical_accuracy: 0.8684 - val_loss: 0.3527 - val_sparse_categorical_accuracy: 0.8732\n",
      "Epoch 6/30\n",
      "1719/1719 [==============================] - 8s 5ms/step - loss: 0.3532 - sparse_categorical_accuracy: 0.8743 - val_loss: 0.3517 - val_sparse_categorical_accuracy: 0.8766\n",
      "Epoch 7/30\n",
      "1719/1719 [==============================] - 8s 4ms/step - loss: 0.3394 - sparse_categorical_accuracy: 0.8785 - val_loss: 0.3471 - val_sparse_categorical_accuracy: 0.8760\n",
      "Epoch 8/30\n",
      "1719/1719 [==============================] - 9s 5ms/step - loss: 0.3270 - sparse_categorical_accuracy: 0.8819 - val_loss: 0.3622 - val_sparse_categorical_accuracy: 0.8666\n",
      "Epoch 9/30\n",
      "1719/1719 [==============================] - 9s 5ms/step - loss: 0.3145 - sparse_categorical_accuracy: 0.8868 - val_loss: 0.3383 - val_sparse_categorical_accuracy: 0.8750\n",
      "Epoch 10/30\n",
      "1719/1719 [==============================] - 8s 5ms/step - loss: 0.3048 - sparse_categorical_accuracy: 0.8893 - val_loss: 0.3255 - val_sparse_categorical_accuracy: 0.8848\n",
      "Epoch 11/30\n",
      "1719/1719 [==============================] - 11s 6ms/step - loss: 0.2954 - sparse_categorical_accuracy: 0.8926 - val_loss: 0.3212 - val_sparse_categorical_accuracy: 0.8858\n",
      "Epoch 12/30\n",
      "1719/1719 [==============================] - 10s 6ms/step - loss: 0.2856 - sparse_categorical_accuracy: 0.8953 - val_loss: 0.3133 - val_sparse_categorical_accuracy: 0.8866\n",
      "Epoch 13/30\n",
      "1719/1719 [==============================] - 10s 6ms/step - loss: 0.2774 - sparse_categorical_accuracy: 0.8996 - val_loss: 0.3132 - val_sparse_categorical_accuracy: 0.8872\n",
      "Epoch 14/30\n",
      "1719/1719 [==============================] - 9s 5ms/step - loss: 0.2699 - sparse_categorical_accuracy: 0.9010 - val_loss: 0.3288 - val_sparse_categorical_accuracy: 0.8786\n",
      "Epoch 15/30\n",
      "1719/1719 [==============================] - 9s 5ms/step - loss: 0.2617 - sparse_categorical_accuracy: 0.9042 - val_loss: 0.3227 - val_sparse_categorical_accuracy: 0.8844\n",
      "Epoch 16/30\n",
      "1719/1719 [==============================] - 9s 5ms/step - loss: 0.2556 - sparse_categorical_accuracy: 0.9074 - val_loss: 0.2937 - val_sparse_categorical_accuracy: 0.8932\n",
      "Epoch 17/30\n",
      "1719/1719 [==============================] - 9s 5ms/step - loss: 0.2492 - sparse_categorical_accuracy: 0.9088 - val_loss: 0.3410 - val_sparse_categorical_accuracy: 0.8784\n",
      "Epoch 18/30\n",
      "1719/1719 [==============================] - 10s 6ms/step - loss: 0.2422 - sparse_categorical_accuracy: 0.9114 - val_loss: 0.2975 - val_sparse_categorical_accuracy: 0.8972\n",
      "Epoch 19/30\n",
      "1719/1719 [==============================] - 10s 6ms/step - loss: 0.2367 - sparse_categorical_accuracy: 0.9140 - val_loss: 0.3019 - val_sparse_categorical_accuracy: 0.8932\n",
      "Epoch 20/30\n",
      "1719/1719 [==============================] - 9s 5ms/step - loss: 0.2303 - sparse_categorical_accuracy: 0.9172 - val_loss: 0.3157 - val_sparse_categorical_accuracy: 0.8850\n",
      "Epoch 21/30\n",
      "1719/1719 [==============================] - 12s 7ms/step - loss: 0.2243 - sparse_categorical_accuracy: 0.9190 - val_loss: 0.2923 - val_sparse_categorical_accuracy: 0.8938\n",
      "Epoch 22/30\n",
      "1719/1719 [==============================] - 9s 5ms/step - loss: 0.2184 - sparse_categorical_accuracy: 0.9207 - val_loss: 0.2825 - val_sparse_categorical_accuracy: 0.8992\n",
      "Epoch 23/30\n",
      "1719/1719 [==============================] - 11s 6ms/step - loss: 0.2132 - sparse_categorical_accuracy: 0.9224 - val_loss: 0.2835 - val_sparse_categorical_accuracy: 0.8986\n",
      "Epoch 24/30\n",
      "1719/1719 [==============================] - 10s 6ms/step - loss: 0.2076 - sparse_categorical_accuracy: 0.9250 - val_loss: 0.2978 - val_sparse_categorical_accuracy: 0.8950\n",
      "Epoch 25/30\n",
      "1719/1719 [==============================] - 8s 4ms/step - loss: 0.2023 - sparse_categorical_accuracy: 0.9271 - val_loss: 0.2877 - val_sparse_categorical_accuracy: 0.8974\n",
      "Epoch 26/30\n",
      "1719/1719 [==============================] - 9s 5ms/step - loss: 0.1975 - sparse_categorical_accuracy: 0.9280 - val_loss: 0.2910 - val_sparse_categorical_accuracy: 0.8958\n",
      "Epoch 27/30\n",
      "1719/1719 [==============================] - 11s 6ms/step - loss: 0.1927 - sparse_categorical_accuracy: 0.9304 - val_loss: 0.2928 - val_sparse_categorical_accuracy: 0.8970\n",
      "Epoch 28/30\n",
      "1719/1719 [==============================] - 11s 7ms/step - loss: 0.1883 - sparse_categorical_accuracy: 0.9314 - val_loss: 0.2988 - val_sparse_categorical_accuracy: 0.8940\n",
      "Epoch 29/30\n",
      "1719/1719 [==============================] - 7s 4ms/step - loss: 0.1836 - sparse_categorical_accuracy: 0.9335 - val_loss: 0.2939 - val_sparse_categorical_accuracy: 0.8952\n",
      "Epoch 30/30\n",
      "1719/1719 [==============================] - 7s 4ms/step - loss: 0.1786 - sparse_categorical_accuracy: 0.9347 - val_loss: 0.3114 - val_sparse_categorical_accuracy: 0.8884\n"
     ]
    }
   ],
   "source": [
    "history = model.fit(X_train, y_train, epochs=30,\n",
    "                    validation_data=(X_valid, y_valid))"
   ]
  },
  {
   "cell_type": "code",
   "execution_count": 47,
   "id": "d20b69e3",
   "metadata": {},
   "outputs": [
    {
     "data": {
      "text/plain": [
       "{'verbose': 1, 'epochs': 30, 'steps': 1719}"
      ]
     },
     "execution_count": 47,
     "metadata": {},
     "output_type": "execute_result"
    }
   ],
   "source": [
    "history.params"
   ]
  },
  {
   "cell_type": "code",
   "execution_count": 48,
   "id": "8e9cdff0",
   "metadata": {},
   "outputs": [
    {
     "name": "stdout",
     "output_type": "stream",
     "text": [
      "[0, 1, 2, 3, 4, 5, 6, 7, 8, 9, 10, 11, 12, 13, 14, 15, 16, 17, 18, 19, 20, 21, 22, 23, 24, 25, 26, 27, 28, 29]\n"
     ]
    }
   ],
   "source": [
    "print(history.epoch)"
   ]
  },
  {
   "cell_type": "code",
   "execution_count": 49,
   "id": "072ec7b2",
   "metadata": {},
   "outputs": [
    {
     "name": "stdout",
     "output_type": "stream",
     "text": [
      "Saving figure keras_learning_curves_plot\n"
     ]
    },
    {
     "data": {
      "image/png": "[encoded data removed]",
      "text/plain": [
       "<Figure size 576x360 with 1 Axes>"
      ]
     },
     "metadata": {
      "needs_background": "light"
     },
     "output_type": "display_data"
    }
   ],
   "source": [
    "# Learning curve\n",
    "pd.DataFrame(history.history).plot(figsize=(8, 5))\n",
    "plt.grid(True)\n",
    "plt.gca().set_ylim(0, 1)\n",
    "save_fig(\"keras_learning_curves_plot\")\n",
    "plt.show()"
   ]
  },
  {
   "cell_type": "code",
   "execution_count": 50,
   "id": "bcc0b96a",
   "metadata": {},
   "outputs": [
    {
     "name": "stdout",
     "output_type": "stream",
     "text": [
      "313/313 [==============================] - 1s 3ms/step - loss: 0.3476 - sparse_categorical_accuracy: 0.8815\n"
     ]
    }
   ],
   "source": [
    "score = model.evaluate(X_test, y_test)"
   ]
  },
  {
   "cell_type": "code",
   "execution_count": 51,
   "id": "2282c364",
   "metadata": {},
   "outputs": [
    {
     "name": "stdout",
     "output_type": "stream",
     "text": [
      "Test loss: 0.34759044647216797\n",
      "Test accuracy: 0.8815000057220459\n"
     ]
    }
   ],
   "source": [
    "print('Test loss:', score[0]) \n",
    "print('Test accuracy:', score[1])"
   ]
  },
  {
   "cell_type": "markdown",
   "id": "5670f07c",
   "metadata": {},
   "source": [
    "### <u>Prediction for model 1</u>"
   ]
  },
  {
   "cell_type": "code",
   "execution_count": 52,
   "id": "7e6403f7",
   "metadata": {},
   "outputs": [
    {
     "data": {
      "text/plain": [
       "array([[0.  , 0.  , 0.  , 0.  , 0.  , 0.  , 0.  , 0.01, 0.  , 0.99],\n",
       "       [0.  , 0.  , 0.97, 0.  , 0.03, 0.  , 0.  , 0.  , 0.  , 0.  ],\n",
       "       [0.  , 1.  , 0.  , 0.  , 0.  , 0.  , 0.  , 0.  , 0.  , 0.  ]],\n",
       "      dtype=float32)"
      ]
     },
     "execution_count": 52,
     "metadata": {},
     "output_type": "execute_result"
    }
   ],
   "source": [
    "X_new = X_test[:3]\n",
    "y_proba = model.predict(X_new)\n",
    "y_proba.round(2)"
   ]
  },
  {
   "cell_type": "code",
   "execution_count": 53,
   "id": "9551ac40",
   "metadata": {},
   "outputs": [
    {
     "data": {
      "text/plain": [
       "array([9, 2, 1])"
      ]
     },
     "execution_count": 53,
     "metadata": {},
     "output_type": "execute_result"
    }
   ],
   "source": [
    "y_pred = np.argmax(model.predict(X_new), axis=-1)\n",
    "y_pred"
   ]
  },
  {
   "cell_type": "code",
   "execution_count": 54,
   "id": "ac90605b",
   "metadata": {},
   "outputs": [
    {
     "name": "stdout",
     "output_type": "stream",
     "text": [
      "Saving figure fashion_mnist_images_plot\n"
     ]
    },
    {
     "data": {
      "image/png": "[encoded data removed]",
      "text/plain": [
       "<Figure size 518.4x172.8 with 3 Axes>"
      ]
     },
     "metadata": {
      "needs_background": "light"
     },
     "output_type": "display_data"
    }
   ],
   "source": [
    "plt.figure(figsize=(7.2, 2.4))\n",
    "for index, image in enumerate(X_new):\n",
    "    plt.subplot(1, 3, index + 1)\n",
    "    plt.imshow(image, cmap=\"binary\", interpolation=\"nearest\")\n",
    "    plt.axis('off')\n",
    "    plt.title(class_names[y_test[index]], fontsize=12)\n",
    "plt.subplots_adjust(wspace=0.2, hspace=0.5)\n",
    "save_fig('fashion_mnist_images_plot', tight_layout=False)\n",
    "plt.show()"
   ]
  },
  {
   "cell_type": "markdown",
   "id": "f5d84c48",
   "metadata": {},
   "source": [
    "Since this model training gave an accuracy of 88% on the test datase, now let's try to tune the model by using adding another layer with 300 neurons and relu as activation function.\n",
    "\n",
    "This time let's use keras weights and bias initializer"
   ]
  },
  {
   "cell_type": "markdown",
   "id": "59acacd4",
   "metadata": {},
   "source": [
    "### <u>Model building and training 2</u>"
   ]
  },
  {
   "cell_type": "code",
   "execution_count": 55,
   "id": "e2b983a4",
   "metadata": {},
   "outputs": [],
   "source": [
    "# Clear the memory\n",
    "keras.backend.clear_session()\n",
    "np.random.seed(42)\n",
    "tf.random.set_seed(42)"
   ]
  },
  {
   "cell_type": "code",
   "execution_count": 56,
   "id": "f4c03d78",
   "metadata": {},
   "outputs": [],
   "source": [
    "# building a pyramid scheme neural network\n",
    "model = Sequential([\n",
    "    Flatten(input_shape=[28, 28]),\n",
    "    Dense(512, activation=\"relu\", kernel_initializer='random_normal', bias_initializer='zeros'),\n",
    "    Dense(300, activation=\"relu\"),\n",
    "    Dense(300, activation=\"relu\"),\n",
    "    Dense(100, activation=\"relu\"),\n",
    "    Dense(10, activation=\"softmax\")\n",
    "])"
   ]
  },
  {
   "cell_type": "code",
   "execution_count": 57,
   "id": "8d8f463b",
   "metadata": {},
   "outputs": [
    {
     "name": "stdout",
     "output_type": "stream",
     "text": [
      "Model: \"sequential\"\n",
      "_________________________________________________________________\n",
      " Layer (type)                Output Shape              Param #   \n",
      "=================================================================\n",
      " flatten (Flatten)           (None, 784)               0         \n",
      "                                                                 \n",
      " dense (Dense)               (None, 512)               401920    \n",
      "                                                                 \n",
      " dense_1 (Dense)             (None, 300)               153900    \n",
      "                                                                 \n",
      " dense_2 (Dense)             (None, 300)               90300     \n",
      "                                                                 \n",
      " dense_3 (Dense)             (None, 100)               30100     \n",
      "                                                                 \n",
      " dense_4 (Dense)             (None, 10)                1010      \n",
      "                                                                 \n",
      "=================================================================\n",
      "Total params: 677,230\n",
      "Trainable params: 677,230\n",
      "Non-trainable params: 0\n",
      "_________________________________________________________________\n"
     ]
    }
   ],
   "source": [
    "model.summary()"
   ]
  },
  {
   "cell_type": "code",
   "execution_count": 59,
   "id": "8bd6053f",
   "metadata": {},
   "outputs": [],
   "source": [
    "model.compile(loss=\"sparse_categorical_crossentropy\",\n",
    "              optimizer=\"sgd\",\n",
    "              metrics=[\"accuracy\"])"
   ]
  },
  {
   "cell_type": "code",
   "execution_count": 60,
   "id": "7967b917",
   "metadata": {},
   "outputs": [
    {
     "name": "stdout",
     "output_type": "stream",
     "text": [
      "Epoch 1/30\n",
      "1719/1719 [==============================] - 12s 6ms/step - loss: 0.7120 - accuracy: 0.7621 - val_loss: 0.5291 - val_accuracy: 0.8126\n",
      "Epoch 2/30\n",
      "1719/1719 [==============================] - 10s 6ms/step - loss: 0.4625 - accuracy: 0.8360 - val_loss: 0.4021 - val_accuracy: 0.8566\n",
      "Epoch 3/30\n",
      "1719/1719 [==============================] - 17s 10ms/step - loss: 0.4094 - accuracy: 0.8524 - val_loss: 0.5355 - val_accuracy: 0.7984\n",
      "Epoch 4/30\n",
      "1719/1719 [==============================] - 11s 7ms/step - loss: 0.3790 - accuracy: 0.8648 - val_loss: 0.3592 - val_accuracy: 0.8708\n",
      "Epoch 5/30\n",
      "1719/1719 [==============================] - 9s 5ms/step - loss: 0.3574 - accuracy: 0.8714 - val_loss: 0.3459 - val_accuracy: 0.8736\n",
      "Epoch 6/30\n",
      "1719/1719 [==============================] - 10s 6ms/step - loss: 0.3369 - accuracy: 0.8765 - val_loss: 0.3437 - val_accuracy: 0.8794\n",
      "Epoch 7/30\n",
      "1719/1719 [==============================] - 10s 6ms/step - loss: 0.3230 - accuracy: 0.8823 - val_loss: 0.3380 - val_accuracy: 0.8794\n",
      "Epoch 8/30\n",
      "1719/1719 [==============================] - 13s 7ms/step - loss: 0.3101 - accuracy: 0.8854 - val_loss: 0.3454 - val_accuracy: 0.8736\n",
      "Epoch 9/30\n",
      "1719/1719 [==============================] - 8s 4ms/step - loss: 0.2982 - accuracy: 0.8903 - val_loss: 0.3290 - val_accuracy: 0.8770\n",
      "Epoch 10/30\n",
      "1719/1719 [==============================] - 8s 5ms/step - loss: 0.2879 - accuracy: 0.8943 - val_loss: 0.3217 - val_accuracy: 0.8840\n",
      "Epoch 11/30\n",
      "1719/1719 [==============================] - 8s 5ms/step - loss: 0.2789 - accuracy: 0.8974 - val_loss: 0.3113 - val_accuracy: 0.8866\n",
      "Epoch 12/30\n",
      "1719/1719 [==============================] - 8s 4ms/step - loss: 0.2685 - accuracy: 0.9008 - val_loss: 0.3110 - val_accuracy: 0.8850\n",
      "Epoch 13/30\n",
      "1719/1719 [==============================] - 8s 5ms/step - loss: 0.2602 - accuracy: 0.9040 - val_loss: 0.3218 - val_accuracy: 0.8838\n",
      "Epoch 14/30\n",
      "1719/1719 [==============================] - 8s 4ms/step - loss: 0.2528 - accuracy: 0.9061 - val_loss: 0.3185 - val_accuracy: 0.8820\n",
      "Epoch 15/30\n",
      "1719/1719 [==============================] - 9s 6ms/step - loss: 0.2446 - accuracy: 0.9103 - val_loss: 0.3291 - val_accuracy: 0.8762\n",
      "Epoch 16/30\n",
      "1719/1719 [==============================] - 8s 5ms/step - loss: 0.2376 - accuracy: 0.9130 - val_loss: 0.2932 - val_accuracy: 0.8914\n",
      "Epoch 17/30\n",
      "1719/1719 [==============================] - 8s 5ms/step - loss: 0.2310 - accuracy: 0.9147 - val_loss: 0.3403 - val_accuracy: 0.8752\n",
      "Epoch 18/30\n",
      "1719/1719 [==============================] - 7s 4ms/step - loss: 0.2237 - accuracy: 0.9165 - val_loss: 0.2910 - val_accuracy: 0.9016\n",
      "Epoch 19/30\n",
      "1719/1719 [==============================] - 7s 4ms/step - loss: 0.2176 - accuracy: 0.9192 - val_loss: 0.2975 - val_accuracy: 0.8938\n",
      "Epoch 20/30\n",
      "1719/1719 [==============================] - 7s 4ms/step - loss: 0.2107 - accuracy: 0.9224 - val_loss: 0.3338 - val_accuracy: 0.8782\n",
      "Epoch 21/30\n",
      "1719/1719 [==============================] - 7s 4ms/step - loss: 0.2053 - accuracy: 0.9241 - val_loss: 0.3054 - val_accuracy: 0.8888\n",
      "Epoch 22/30\n",
      "1719/1719 [==============================] - 8s 5ms/step - loss: 0.1988 - accuracy: 0.9257 - val_loss: 0.2909 - val_accuracy: 0.8986\n",
      "Epoch 23/30\n",
      "1719/1719 [==============================] - 9s 5ms/step - loss: 0.1936 - accuracy: 0.9286 - val_loss: 0.2865 - val_accuracy: 0.8998\n",
      "Epoch 24/30\n",
      "1719/1719 [==============================] - 7s 4ms/step - loss: 0.1879 - accuracy: 0.9303 - val_loss: 0.3197 - val_accuracy: 0.8896\n",
      "Epoch 25/30\n",
      "1719/1719 [==============================] - 7s 4ms/step - loss: 0.1825 - accuracy: 0.9318 - val_loss: 0.3010 - val_accuracy: 0.8968\n",
      "Epoch 26/30\n",
      "1719/1719 [==============================] - 8s 5ms/step - loss: 0.1781 - accuracy: 0.9339 - val_loss: 0.3097 - val_accuracy: 0.8946\n",
      "Epoch 27/30\n",
      "1719/1719 [==============================] - 17s 10ms/step - loss: 0.1726 - accuracy: 0.9364 - val_loss: 0.3033 - val_accuracy: 0.8944\n",
      "Epoch 28/30\n",
      "1719/1719 [==============================] - 21s 12ms/step - loss: 0.1669 - accuracy: 0.9390 - val_loss: 0.3138 - val_accuracy: 0.8912\n",
      "Epoch 29/30\n",
      "1719/1719 [==============================] - 11s 6ms/step - loss: 0.1629 - accuracy: 0.9399 - val_loss: 0.3128 - val_accuracy: 0.8910\n",
      "Epoch 30/30\n",
      "1719/1719 [==============================] - 11s 7ms/step - loss: 0.1582 - accuracy: 0.9412 - val_loss: 0.3430 - val_accuracy: 0.8892\n"
     ]
    }
   ],
   "source": [
    "history_2 = model.fit(X_train, y_train, epochs=30,\n",
    "                    validation_data=(X_valid, y_valid))"
   ]
  },
  {
   "cell_type": "code",
   "execution_count": 61,
   "id": "0e14d328",
   "metadata": {},
   "outputs": [
    {
     "name": "stdout",
     "output_type": "stream",
     "text": [
      "Saving figure keras_learning_curves_plot\n"
     ]
    },
    {
     "data": {
      "image/png": "[encoded data removed]",
      "text/plain": [
       "<Figure size 576x360 with 1 Axes>"
      ]
     },
     "metadata": {
      "needs_background": "light"
     },
     "output_type": "display_data"
    }
   ],
   "source": [
    "# Learning curve\n",
    "pd.DataFrame(history_2.history).plot(figsize=(8, 5))\n",
    "plt.grid(True)\n",
    "plt.gca().set_ylim(0, 1)\n",
    "save_fig(\"keras_learning_curves_plot\")\n",
    "plt.show()"
   ]
  },
  {
   "cell_type": "code",
   "execution_count": 62,
   "id": "cb15149d",
   "metadata": {},
   "outputs": [
    {
     "name": "stdout",
     "output_type": "stream",
     "text": [
      "313/313 [==============================] - 1s 3ms/step - loss: 0.3641 - accuracy: 0.8806\n"
     ]
    }
   ],
   "source": [
    "score_2 = model.evaluate(X_test, y_test)"
   ]
  },
  {
   "cell_type": "code",
   "execution_count": 64,
   "id": "c7b5b34e",
   "metadata": {},
   "outputs": [
    {
     "name": "stdout",
     "output_type": "stream",
     "text": [
      "Test loss: 0.3640640676021576\n",
      "Test accuracy: 0.8805999755859375\n"
     ]
    }
   ],
   "source": [
    "print('Test loss:', score_2[0]) \n",
    "print('Test accuracy:', score_2[1])"
   ]
  },
  {
   "cell_type": "markdown",
   "id": "700b111e",
   "metadata": {},
   "source": [
    "Accuracy of this model is lesser than the initial model althought it is a smaller difference but still less, the goal was to boost the accuracy, so now let's try having the same number of neurons i.e., 512 in all the hidden layers"
   ]
  },
  {
   "cell_type": "markdown",
   "id": "65a4a32c",
   "metadata": {},
   "source": [
    "### <u>Model building and evaluating 3</u>"
   ]
  },
  {
   "cell_type": "code",
   "execution_count": 65,
   "id": "559b181b",
   "metadata": {},
   "outputs": [],
   "source": [
    "# Clear the memory\n",
    "keras.backend.clear_session()\n",
    "np.random.seed(42)\n",
    "tf.random.set_seed(42)"
   ]
  },
  {
   "cell_type": "code",
   "execution_count": 66,
   "id": "33a6f53d",
   "metadata": {},
   "outputs": [],
   "source": [
    "# building a neural network\n",
    "model = Sequential([\n",
    "    Flatten(input_shape=[28, 28]),\n",
    "    Dense(512, activation=\"relu\"),\n",
    "    Dense(512, activation=\"relu\"),\n",
    "    Dense(512, activation=\"relu\"),\n",
    "    Dense(512, activation=\"relu\"),\n",
    "    Dense(10, activation=\"softmax\")\n",
    "])"
   ]
  },
  {
   "cell_type": "code",
   "execution_count": 67,
   "id": "a988991f",
   "metadata": {},
   "outputs": [
    {
     "name": "stdout",
     "output_type": "stream",
     "text": [
      "Model: \"sequential\"\n",
      "_________________________________________________________________\n",
      " Layer (type)                Output Shape              Param #   \n",
      "=================================================================\n",
      " flatten (Flatten)           (None, 784)               0         \n",
      "                                                                 \n",
      " dense (Dense)               (None, 512)               401920    \n",
      "                                                                 \n",
      " dense_1 (Dense)             (None, 512)               262656    \n",
      "                                                                 \n",
      " dense_2 (Dense)             (None, 512)               262656    \n",
      "                                                                 \n",
      " dense_3 (Dense)             (None, 512)               262656    \n",
      "                                                                 \n",
      " dense_4 (Dense)             (None, 10)                5130      \n",
      "                                                                 \n",
      "=================================================================\n",
      "Total params: 1,195,018\n",
      "Trainable params: 1,195,018\n",
      "Non-trainable params: 0\n",
      "_________________________________________________________________\n"
     ]
    }
   ],
   "source": [
    "model.summary()"
   ]
  },
  {
   "cell_type": "markdown",
   "id": "cfe31cbb",
   "metadata": {},
   "source": [
    "This time let's try with a learning rate of 0.01"
   ]
  },
  {
   "cell_type": "code",
   "execution_count": 68,
   "id": "23f1034e",
   "metadata": {},
   "outputs": [
    {
     "name": "stderr",
     "output_type": "stream",
     "text": [
      "/Library/Frameworks/Python.framework/Versions/3.9/lib/python3.9/site-packages/keras/optimizer_v2/gradient_descent.py:102: UserWarning: The `lr` argument is deprecated, use `learning_rate` instead.\n",
      "  super(SGD, self).__init__(name, **kwargs)\n"
     ]
    }
   ],
   "source": [
    "optim = keras.optimizers.SGD(lr=0.01)\n",
    "model.compile(loss=\"sparse_categorical_crossentropy\",\n",
    "              optimizer=optim,\n",
    "              metrics=[\"accuracy\"])"
   ]
  },
  {
   "cell_type": "code",
   "execution_count": 69,
   "id": "78a1596a",
   "metadata": {},
   "outputs": [
    {
     "name": "stdout",
     "output_type": "stream",
     "text": [
      "Epoch 1/30\n",
      "1719/1719 [==============================] - 22s 12ms/step - loss: 0.7310 - accuracy: 0.7532 - val_loss: 0.5519 - val_accuracy: 0.8080\n",
      "Epoch 2/30\n",
      "1719/1719 [==============================] - 18s 11ms/step - loss: 0.4649 - accuracy: 0.8347 - val_loss: 0.4032 - val_accuracy: 0.8630\n",
      "Epoch 3/30\n",
      "1719/1719 [==============================] - 23s 13ms/step - loss: 0.4107 - accuracy: 0.8526 - val_loss: 0.5618 - val_accuracy: 0.7906\n",
      "Epoch 4/30\n",
      "1719/1719 [==============================] - 24s 14ms/step - loss: 0.3795 - accuracy: 0.8645 - val_loss: 0.3588 - val_accuracy: 0.8760\n",
      "Epoch 5/30\n",
      "1719/1719 [==============================] - 27s 16ms/step - loss: 0.3581 - accuracy: 0.8720 - val_loss: 0.3438 - val_accuracy: 0.8748\n",
      "Epoch 6/30\n",
      "1719/1719 [==============================] - 25s 15ms/step - loss: 0.3376 - accuracy: 0.8775 - val_loss: 0.3409 - val_accuracy: 0.8778\n",
      "Epoch 7/30\n",
      "1719/1719 [==============================] - 26s 15ms/step - loss: 0.3238 - accuracy: 0.8826 - val_loss: 0.3463 - val_accuracy: 0.8736\n",
      "Epoch 8/30\n",
      "1719/1719 [==============================] - 14s 8ms/step - loss: 0.3110 - accuracy: 0.8855 - val_loss: 0.3559 - val_accuracy: 0.8702\n",
      "Epoch 9/30\n",
      "1719/1719 [==============================] - 17s 10ms/step - loss: 0.2990 - accuracy: 0.8903 - val_loss: 0.3277 - val_accuracy: 0.8780\n",
      "Epoch 10/30\n",
      "1719/1719 [==============================] - 17s 10ms/step - loss: 0.2890 - accuracy: 0.8938 - val_loss: 0.3273 - val_accuracy: 0.8796\n",
      "Epoch 11/30\n",
      "1719/1719 [==============================] - 19s 11ms/step - loss: 0.2800 - accuracy: 0.8963 - val_loss: 0.3106 - val_accuracy: 0.8860\n",
      "Epoch 12/30\n",
      "1719/1719 [==============================] - 15s 9ms/step - loss: 0.2695 - accuracy: 0.9001 - val_loss: 0.3101 - val_accuracy: 0.8822\n",
      "Epoch 13/30\n",
      "1719/1719 [==============================] - 14s 8ms/step - loss: 0.2617 - accuracy: 0.9032 - val_loss: 0.3021 - val_accuracy: 0.8908\n",
      "Epoch 14/30\n",
      "1719/1719 [==============================] - 20s 11ms/step - loss: 0.2535 - accuracy: 0.9057 - val_loss: 0.3120 - val_accuracy: 0.8836\n",
      "Epoch 15/30\n",
      "1719/1719 [==============================] - 24s 14ms/step - loss: 0.2455 - accuracy: 0.9082 - val_loss: 0.3221 - val_accuracy: 0.8842\n",
      "Epoch 16/30\n",
      "1719/1719 [==============================] - 28s 16ms/step - loss: 0.2386 - accuracy: 0.9129 - val_loss: 0.2879 - val_accuracy: 0.8940\n",
      "Epoch 17/30\n",
      "1719/1719 [==============================] - 20s 12ms/step - loss: 0.2316 - accuracy: 0.9146 - val_loss: 0.3392 - val_accuracy: 0.8790\n",
      "Epoch 18/30\n",
      "1719/1719 [==============================] - 19s 11ms/step - loss: 0.2243 - accuracy: 0.9173 - val_loss: 0.2867 - val_accuracy: 0.8966\n",
      "Epoch 19/30\n",
      "1719/1719 [==============================] - 17s 10ms/step - loss: 0.2186 - accuracy: 0.9189 - val_loss: 0.2969 - val_accuracy: 0.8906\n",
      "Epoch 20/30\n",
      "1719/1719 [==============================] - 18s 10ms/step - loss: 0.2116 - accuracy: 0.9220 - val_loss: 0.3048 - val_accuracy: 0.8908\n",
      "Epoch 21/30\n",
      "1719/1719 [==============================] - 22s 13ms/step - loss: 0.2052 - accuracy: 0.9243 - val_loss: 0.3048 - val_accuracy: 0.8900\n",
      "Epoch 22/30\n",
      "1719/1719 [==============================] - 23s 14ms/step - loss: 0.1997 - accuracy: 0.9263 - val_loss: 0.2844 - val_accuracy: 0.9010\n",
      "Epoch 23/30\n",
      "1719/1719 [==============================] - 21s 12ms/step - loss: 0.1938 - accuracy: 0.9286 - val_loss: 0.2796 - val_accuracy: 0.8966\n",
      "Epoch 24/30\n",
      "1719/1719 [==============================] - 17s 10ms/step - loss: 0.1881 - accuracy: 0.9306 - val_loss: 0.3055 - val_accuracy: 0.8956\n",
      "Epoch 25/30\n",
      "1719/1719 [==============================] - 14s 8ms/step - loss: 0.1819 - accuracy: 0.9331 - val_loss: 0.2899 - val_accuracy: 0.8998\n",
      "Epoch 26/30\n",
      "1719/1719 [==============================] - 16s 9ms/step - loss: 0.1783 - accuracy: 0.9347 - val_loss: 0.2927 - val_accuracy: 0.8976\n",
      "Epoch 27/30\n",
      "1719/1719 [==============================] - 15s 8ms/step - loss: 0.1716 - accuracy: 0.9363 - val_loss: 0.2977 - val_accuracy: 0.8972\n",
      "Epoch 28/30\n",
      "1719/1719 [==============================] - 17s 10ms/step - loss: 0.1670 - accuracy: 0.9383 - val_loss: 0.3137 - val_accuracy: 0.8906\n",
      "Epoch 29/30\n",
      "1719/1719 [==============================] - 17s 10ms/step - loss: 0.1619 - accuracy: 0.9410 - val_loss: 0.3029 - val_accuracy: 0.8938\n",
      "Epoch 30/30\n",
      "1719/1719 [==============================] - 15s 9ms/step - loss: 0.1571 - accuracy: 0.9417 - val_loss: 0.3155 - val_accuracy: 0.8924\n"
     ]
    }
   ],
   "source": [
    "history_3 = model.fit(X_train, y_train, epochs=30,\n",
    "                    validation_data=(X_valid, y_valid))"
   ]
  },
  {
   "cell_type": "code",
   "execution_count": 89,
   "id": "89bd4210",
   "metadata": {},
   "outputs": [
    {
     "name": "stdout",
     "output_type": "stream",
     "text": [
      "Saving figure keras_learning_curves_plot\n"
     ]
    },
    {
     "data": {
      "image/png": "[encoded data removed]",
      "text/plain": [
       "<Figure size 576x360 with 1 Axes>"
      ]
     },
     "metadata": {
      "needs_background": "light"
     },
     "output_type": "display_data"
    }
   ],
   "source": [
    "# Learning curve\n",
    "pd.DataFrame(history_3.history).plot(figsize=(8, 5))\n",
    "plt.grid(True)\n",
    "plt.gca().set_ylim(0, 1)\n",
    "save_fig(\"keras_learning_curves_plot\")\n",
    "plt.show()"
   ]
  },
  {
   "cell_type": "code",
   "execution_count": 71,
   "id": "186c1028",
   "metadata": {},
   "outputs": [
    {
     "name": "stdout",
     "output_type": "stream",
     "text": [
      "313/313 [==============================] - 2s 6ms/step - loss: 0.3517 - accuracy: 0.8831\n"
     ]
    }
   ],
   "source": [
    "score_3 = model.evaluate(X_test, y_test)"
   ]
  },
  {
   "cell_type": "code",
   "execution_count": 72,
   "id": "4f2c69e9",
   "metadata": {},
   "outputs": [
    {
     "name": "stdout",
     "output_type": "stream",
     "text": [
      "Test loss: 0.3517085015773773\n",
      "Test accuracy: 0.8830999732017517\n"
     ]
    }
   ],
   "source": [
    "print('Test loss:', score_3[0]) \n",
    "print('Test accuracy:', score_3[1])"
   ]
  },
  {
   "cell_type": "markdown",
   "id": "458d529d",
   "metadata": {},
   "source": [
    "Okay now this is an improvement, let's use a different activation say tanh this time (hopefully we don't face the vanishing gradients problem)"
   ]
  },
  {
   "cell_type": "markdown",
   "id": "ffed16fb",
   "metadata": {},
   "source": [
    "### <u>Model training and evaluation</u>"
   ]
  },
  {
   "cell_type": "code",
   "execution_count": 74,
   "id": "b03a5a5b",
   "metadata": {},
   "outputs": [],
   "source": [
    "# Clear the memory\n",
    "keras.backend.clear_session()\n",
    "np.random.seed(42)\n",
    "tf.random.set_seed(42)"
   ]
  },
  {
   "cell_type": "code",
   "execution_count": 75,
   "id": "3182164d",
   "metadata": {},
   "outputs": [],
   "source": [
    "# building a neural network\n",
    "model = Sequential([\n",
    "    Flatten(input_shape=[28, 28]),\n",
    "    Dense(512, activation=\"tanh\"),\n",
    "    Dense(512, activation=\"tanh\"),\n",
    "    Dense(512, activation=\"tanh\"),\n",
    "    Dense(512, activation=\"tanh\"),\n",
    "    Dense(10, activation=\"softmax\")\n",
    "])"
   ]
  },
  {
   "cell_type": "code",
   "execution_count": 76,
   "id": "5ed343b2",
   "metadata": {},
   "outputs": [
    {
     "name": "stdout",
     "output_type": "stream",
     "text": [
      "Model: \"sequential\"\n",
      "_________________________________________________________________\n",
      " Layer (type)                Output Shape              Param #   \n",
      "=================================================================\n",
      " flatten (Flatten)           (None, 784)               0         \n",
      "                                                                 \n",
      " dense (Dense)               (None, 512)               401920    \n",
      "                                                                 \n",
      " dense_1 (Dense)             (None, 512)               262656    \n",
      "                                                                 \n",
      " dense_2 (Dense)             (None, 512)               262656    \n",
      "                                                                 \n",
      " dense_3 (Dense)             (None, 512)               262656    \n",
      "                                                                 \n",
      " dense_4 (Dense)             (None, 10)                5130      \n",
      "                                                                 \n",
      "=================================================================\n",
      "Total params: 1,195,018\n",
      "Trainable params: 1,195,018\n",
      "Non-trainable params: 0\n",
      "_________________________________________________________________\n"
     ]
    }
   ],
   "source": [
    "model.summary()"
   ]
  },
  {
   "cell_type": "code",
   "execution_count": 77,
   "id": "5faf3a72",
   "metadata": {},
   "outputs": [],
   "source": [
    "lr_schedule = keras.optimizers.schedules.ExponentialDecay(\n",
    "    initial_learning_rate=1e-2,\n",
    "    decay_steps=10000,\n",
    "    decay_rate=0.9)\n",
    "optim = keras.optimizers.SGD(learning_rate=lr_schedule)\n",
    "model.compile(loss=\"sparse_categorical_crossentropy\",\n",
    "              optimizer=optim,\n",
    "              metrics=[\"accuracy\"])\n",
    "#Source - https://keras.io/api/optimizers/"
   ]
  },
  {
   "cell_type": "code",
   "execution_count": 78,
   "id": "5743d36d",
   "metadata": {},
   "outputs": [
    {
     "name": "stdout",
     "output_type": "stream",
     "text": [
      "Epoch 1/30\n",
      "1719/1719 [==============================] - 18s 10ms/step - loss: 0.5871 - accuracy: 0.7961 - val_loss: 0.4646 - val_accuracy: 0.8364\n",
      "Epoch 2/30\n",
      "1719/1719 [==============================] - 14s 8ms/step - loss: 0.4400 - accuracy: 0.8415 - val_loss: 0.4014 - val_accuracy: 0.8618\n",
      "Epoch 3/30\n",
      "1719/1719 [==============================] - 15s 9ms/step - loss: 0.4088 - accuracy: 0.8520 - val_loss: 0.4955 - val_accuracy: 0.8056\n",
      "Epoch 4/30\n",
      "1719/1719 [==============================] - 22s 13ms/step - loss: 0.3888 - accuracy: 0.8604 - val_loss: 0.3759 - val_accuracy: 0.8678\n",
      "Epoch 5/30\n",
      "1719/1719 [==============================] - 18s 11ms/step - loss: 0.3752 - accuracy: 0.8648 - val_loss: 0.3680 - val_accuracy: 0.8680\n",
      "Epoch 6/30\n",
      "1719/1719 [==============================] - 18s 11ms/step - loss: 0.3605 - accuracy: 0.8702 - val_loss: 0.3585 - val_accuracy: 0.8748\n",
      "Epoch 7/30\n",
      "1719/1719 [==============================] - 19s 11ms/step - loss: 0.3508 - accuracy: 0.8737 - val_loss: 0.3618 - val_accuracy: 0.8720\n",
      "Epoch 8/30\n",
      "1719/1719 [==============================] - 15s 9ms/step - loss: 0.3417 - accuracy: 0.8764 - val_loss: 0.3769 - val_accuracy: 0.8598\n",
      "Epoch 9/30\n",
      "1719/1719 [==============================] - 14s 8ms/step - loss: 0.3332 - accuracy: 0.8792 - val_loss: 0.3519 - val_accuracy: 0.8696\n",
      "Epoch 10/30\n",
      "1719/1719 [==============================] - 16s 9ms/step - loss: 0.3258 - accuracy: 0.8817 - val_loss: 0.3448 - val_accuracy: 0.8730\n",
      "Epoch 11/30\n",
      "1719/1719 [==============================] - 21s 12ms/step - loss: 0.3192 - accuracy: 0.8829 - val_loss: 0.3371 - val_accuracy: 0.8772\n",
      "Epoch 12/30\n",
      "1719/1719 [==============================] - 14s 8ms/step - loss: 0.3113 - accuracy: 0.8854 - val_loss: 0.3292 - val_accuracy: 0.8778\n",
      "Epoch 13/30\n",
      "1719/1719 [==============================] - 14s 8ms/step - loss: 0.3054 - accuracy: 0.8878 - val_loss: 0.3259 - val_accuracy: 0.8846\n",
      "Epoch 14/30\n",
      "1719/1719 [==============================] - 14s 8ms/step - loss: 0.3002 - accuracy: 0.8899 - val_loss: 0.3436 - val_accuracy: 0.8726\n",
      "Epoch 15/30\n",
      "1719/1719 [==============================] - 20s 12ms/step - loss: 0.2939 - accuracy: 0.8923 - val_loss: 0.3312 - val_accuracy: 0.8780\n",
      "Epoch 16/30\n",
      "1719/1719 [==============================] - 18s 11ms/step - loss: 0.2892 - accuracy: 0.8943 - val_loss: 0.3107 - val_accuracy: 0.8860\n",
      "Epoch 17/30\n",
      "1719/1719 [==============================] - 16s 9ms/step - loss: 0.2845 - accuracy: 0.8958 - val_loss: 0.3483 - val_accuracy: 0.8698\n",
      "Epoch 18/30\n",
      "1719/1719 [==============================] - 18s 10ms/step - loss: 0.2791 - accuracy: 0.8973 - val_loss: 0.3216 - val_accuracy: 0.8860\n",
      "Epoch 19/30\n",
      "1719/1719 [==============================] - 21s 12ms/step - loss: 0.2751 - accuracy: 0.8995 - val_loss: 0.3220 - val_accuracy: 0.8848\n",
      "Epoch 20/30\n",
      "1719/1719 [==============================] - 19s 11ms/step - loss: 0.2708 - accuracy: 0.9006 - val_loss: 0.3304 - val_accuracy: 0.8790\n",
      "Epoch 21/30\n",
      "1719/1719 [==============================] - 14s 8ms/step - loss: 0.2659 - accuracy: 0.9013 - val_loss: 0.3052 - val_accuracy: 0.8908\n",
      "Epoch 22/30\n",
      "1719/1719 [==============================] - 20s 12ms/step - loss: 0.2624 - accuracy: 0.9037 - val_loss: 0.2980 - val_accuracy: 0.8888\n",
      "Epoch 23/30\n",
      "1719/1719 [==============================] - 16s 9ms/step - loss: 0.2591 - accuracy: 0.9047 - val_loss: 0.3030 - val_accuracy: 0.8914\n",
      "Epoch 24/30\n",
      "1719/1719 [==============================] - 14s 8ms/step - loss: 0.2549 - accuracy: 0.9061 - val_loss: 0.3035 - val_accuracy: 0.8894\n",
      "Epoch 25/30\n",
      "1719/1719 [==============================] - 19s 11ms/step - loss: 0.2509 - accuracy: 0.9071 - val_loss: 0.3020 - val_accuracy: 0.8914\n",
      "Epoch 26/30\n",
      "1719/1719 [==============================] - 16s 9ms/step - loss: 0.2480 - accuracy: 0.9092 - val_loss: 0.3018 - val_accuracy: 0.8902\n",
      "Epoch 27/30\n",
      "1719/1719 [==============================] - 17s 10ms/step - loss: 0.2449 - accuracy: 0.9105 - val_loss: 0.3001 - val_accuracy: 0.8914\n",
      "Epoch 28/30\n",
      "1719/1719 [==============================] - 20s 12ms/step - loss: 0.2417 - accuracy: 0.9105 - val_loss: 0.3026 - val_accuracy: 0.8864\n",
      "Epoch 29/30\n",
      "1719/1719 [==============================] - 20s 11ms/step - loss: 0.2387 - accuracy: 0.9129 - val_loss: 0.3161 - val_accuracy: 0.8842\n",
      "Epoch 30/30\n",
      "1719/1719 [==============================] - 18s 10ms/step - loss: 0.2358 - accuracy: 0.9134 - val_loss: 0.3075 - val_accuracy: 0.8876\n"
     ]
    }
   ],
   "source": [
    "history_4 = model.fit(X_train, y_train, epochs=30,\n",
    "                    validation_data=(X_valid, y_valid))"
   ]
  },
  {
   "cell_type": "code",
   "execution_count": 90,
   "id": "d9e224e0",
   "metadata": {},
   "outputs": [
    {
     "name": "stdout",
     "output_type": "stream",
     "text": [
      "Saving figure keras_learning_curves_plot\n"
     ]
    },
    {
     "data": {
      "image/png": "[encoded data removed]",
      "text/plain": [
       "<Figure size 576x360 with 1 Axes>"
      ]
     },
     "metadata": {
      "needs_background": "light"
     },
     "output_type": "display_data"
    }
   ],
   "source": [
    "# Learning curve\n",
    "pd.DataFrame(history_4.history).plot(figsize=(8, 5))\n",
    "plt.grid(True)\n",
    "plt.gca().set_ylim(0, 1)\n",
    "save_fig(\"keras_learning_curves_plot\")\n",
    "plt.show()"
   ]
  },
  {
   "cell_type": "code",
   "execution_count": 81,
   "id": "024d7b4f",
   "metadata": {},
   "outputs": [
    {
     "name": "stdout",
     "output_type": "stream",
     "text": [
      "313/313 [==============================] - 1s 4ms/step - loss: 0.3414 - accuracy: 0.8793\n"
     ]
    }
   ],
   "source": [
    "score_4 = model.evaluate(X_test, y_test)"
   ]
  },
  {
   "cell_type": "code",
   "execution_count": 82,
   "id": "9b4aa5cd",
   "metadata": {},
   "outputs": [
    {
     "name": "stdout",
     "output_type": "stream",
     "text": [
      "Test loss: 0.34142592549324036\n",
      "Test accuracy: 0.8792999982833862\n"
     ]
    }
   ],
   "source": [
    "print('Test loss:', score_4[0]) \n",
    "print('Test accuracy:', score_4[1])"
   ]
  },
  {
   "cell_type": "markdown",
   "id": "6a0a7902",
   "metadata": {},
   "source": [
    "Okay using tanh was not useful, now going back to relu and this time let's try adam optimizer based on the google search it seems like adam optimizer is the best to train a neural network, so let's test that hypothesis."
   ]
  },
  {
   "cell_type": "markdown",
   "id": "4867474c",
   "metadata": {},
   "source": [
    "### <u>Model Training and evaluation 5</u>"
   ]
  },
  {
   "cell_type": "code",
   "execution_count": 83,
   "id": "86e5162d",
   "metadata": {},
   "outputs": [],
   "source": [
    "# Clear the memory\n",
    "keras.backend.clear_session()\n",
    "np.random.seed(42)\n",
    "tf.random.set_seed(42)"
   ]
  },
  {
   "cell_type": "code",
   "execution_count": 84,
   "id": "064ba8be",
   "metadata": {},
   "outputs": [],
   "source": [
    "# building a neural network with dropout layers\n",
    "model = Sequential([\n",
    "    Flatten(input_shape=[28, 28]),\n",
    "    Dense(512, activation=\"relu\"),\n",
    "    Dropout(0.5),\n",
    "    Dense(512, activation=\"relu\"),\n",
    "    Dropout(0.5),\n",
    "    Dense(512, activation=\"relu\"),\n",
    "    Dropout(0.5),\n",
    "    Dense(512, activation=\"relu\"),\n",
    "    Dropout(0.5),\n",
    "    Dense(10, activation=\"softmax\")\n",
    "])\n",
    "# Source - https://towardsdatascience.com/machine-learning-part-20-dropout-keras-layers-explained-8c9f6dc4c9ab#:~:text=Dropout%20is%20a%20technique%20used,update%20of%20the%20training%20phase."
   ]
  },
  {
   "cell_type": "code",
   "execution_count": 85,
   "id": "ada2c67f",
   "metadata": {},
   "outputs": [
    {
     "name": "stdout",
     "output_type": "stream",
     "text": [
      "Model: \"sequential\"\n",
      "_________________________________________________________________\n",
      " Layer (type)                Output Shape              Param #   \n",
      "=================================================================\n",
      " flatten (Flatten)           (None, 784)               0         \n",
      "                                                                 \n",
      " dense (Dense)               (None, 512)               401920    \n",
      "                                                                 \n",
      " dropout (Dropout)           (None, 512)               0         \n",
      "                                                                 \n",
      " dense_1 (Dense)             (None, 512)               262656    \n",
      "                                                                 \n",
      " dropout_1 (Dropout)         (None, 512)               0         \n",
      "                                                                 \n",
      " dense_2 (Dense)             (None, 512)               262656    \n",
      "                                                                 \n",
      " dropout_2 (Dropout)         (None, 512)               0         \n",
      "                                                                 \n",
      " dense_3 (Dense)             (None, 512)               262656    \n",
      "                                                                 \n",
      " dropout_3 (Dropout)         (None, 512)               0         \n",
      "                                                                 \n",
      " dense_4 (Dense)             (None, 10)                5130      \n",
      "                                                                 \n",
      "=================================================================\n",
      "Total params: 1,195,018\n",
      "Trainable params: 1,195,018\n",
      "Non-trainable params: 0\n",
      "_________________________________________________________________\n"
     ]
    }
   ],
   "source": [
    "model.summary()"
   ]
  },
  {
   "cell_type": "code",
   "execution_count": 97,
   "id": "424bd099",
   "metadata": {},
   "outputs": [],
   "source": [
    "model.compile(loss=\"sparse_categorical_crossentropy\",\n",
    "              optimizer=\"Adam\",\n",
    "              metrics=[\"accuracy\"])"
   ]
  },
  {
   "cell_type": "code",
   "execution_count": 99,
   "id": "26aceda6",
   "metadata": {},
   "outputs": [
    {
     "name": "stdout",
     "output_type": "stream",
     "text": [
      "Epoch 1/30\n",
      "1719/1719 [==============================] - 21s 12ms/step - loss: 1.9395 - accuracy: 0.2439 - val_loss: 1.7922 - val_accuracy: 0.2800\n",
      "Epoch 2/30\n",
      "1719/1719 [==============================] - 22s 13ms/step - loss: 1.9283 - accuracy: 0.2475 - val_loss: 1.8016 - val_accuracy: 0.2846\n",
      "Epoch 3/30\n",
      "1719/1719 [==============================] - 19s 11ms/step - loss: 1.9209 - accuracy: 0.2512 - val_loss: 1.7613 - val_accuracy: 0.2890\n",
      "Epoch 4/30\n",
      "1719/1719 [==============================] - 21s 12ms/step - loss: 1.9086 - accuracy: 0.2549 - val_loss: 1.8729 - val_accuracy: 0.2778\n",
      "Epoch 5/30\n",
      "1719/1719 [==============================] - 24s 14ms/step - loss: 1.9057 - accuracy: 0.2577 - val_loss: 1.7791 - val_accuracy: 0.2912\n",
      "Epoch 6/30\n",
      "1719/1719 [==============================] - 24s 14ms/step - loss: 1.8996 - accuracy: 0.2566 - val_loss: 1.8583 - val_accuracy: 0.2826\n",
      "Epoch 7/30\n",
      "1719/1719 [==============================] - 26s 15ms/step - loss: 1.9032 - accuracy: 0.2572 - val_loss: 1.8622 - val_accuracy: 0.2732\n",
      "Epoch 8/30\n",
      "1719/1719 [==============================] - 20s 12ms/step - loss: 1.8954 - accuracy: 0.2592 - val_loss: 1.8271 - val_accuracy: 0.2920\n",
      "Epoch 9/30\n",
      "1719/1719 [==============================] - 19s 11ms/step - loss: 1.8896 - accuracy: 0.2622 - val_loss: 1.8175 - val_accuracy: 0.2848\n",
      "Epoch 10/30\n",
      "1719/1719 [==============================] - 21s 12ms/step - loss: 1.8957 - accuracy: 0.2589 - val_loss: 1.8776 - val_accuracy: 0.2862\n",
      "Epoch 11/30\n",
      "1719/1719 [==============================] - 18s 11ms/step - loss: 1.8914 - accuracy: 0.2585 - val_loss: 1.7711 - val_accuracy: 0.2998\n",
      "Epoch 12/30\n",
      "1719/1719 [==============================] - 24s 14ms/step - loss: 1.8887 - accuracy: 0.2632 - val_loss: 1.8632 - val_accuracy: 0.2890\n",
      "Epoch 13/30\n",
      "1719/1719 [==============================] - 24s 14ms/step - loss: 1.8914 - accuracy: 0.2633 - val_loss: 1.9045 - val_accuracy: 0.2934\n",
      "Epoch 14/30\n",
      "1719/1719 [==============================] - 21s 12ms/step - loss: 1.8906 - accuracy: 0.2606 - val_loss: 1.8895 - val_accuracy: 0.2886\n",
      "Epoch 15/30\n",
      "1719/1719 [==============================] - 23s 13ms/step - loss: 1.8872 - accuracy: 0.2648 - val_loss: 1.8596 - val_accuracy: 0.2788\n",
      "Epoch 16/30\n",
      "1719/1719 [==============================] - 20s 11ms/step - loss: 1.8838 - accuracy: 0.2655 - val_loss: 1.9603 - val_accuracy: 0.2878\n",
      "Epoch 17/30\n",
      "1719/1719 [==============================] - 22s 13ms/step - loss: 1.8796 - accuracy: 0.2654 - val_loss: 1.7950 - val_accuracy: 0.2952\n",
      "Epoch 18/30\n",
      "1719/1719 [==============================] - 26s 15ms/step - loss: 1.8894 - accuracy: 0.2617 - val_loss: 1.9761 - val_accuracy: 0.2838\n",
      "Epoch 19/30\n",
      "1719/1719 [==============================] - 24s 14ms/step - loss: 1.8915 - accuracy: 0.2673 - val_loss: 1.9171 - val_accuracy: 0.2864\n",
      "Epoch 20/30\n",
      "1719/1719 [==============================] - 26s 15ms/step - loss: 1.8828 - accuracy: 0.2651 - val_loss: 1.9735 - val_accuracy: 0.2800\n",
      "Epoch 21/30\n",
      "1719/1719 [==============================] - 23s 13ms/step - loss: 1.8783 - accuracy: 0.2677 - val_loss: 1.9524 - val_accuracy: 0.2970\n",
      "Epoch 22/30\n",
      "1719/1719 [==============================] - 20s 12ms/step - loss: 1.8875 - accuracy: 0.2651 - val_loss: 1.8800 - val_accuracy: 0.2858\n",
      "Epoch 23/30\n",
      "1719/1719 [==============================] - 25s 15ms/step - loss: 1.8773 - accuracy: 0.2679 - val_loss: 1.9553 - val_accuracy: 0.2706\n",
      "Epoch 24/30\n",
      "1719/1719 [==============================] - 20s 12ms/step - loss: 1.8833 - accuracy: 0.2646 - val_loss: 1.9824 - val_accuracy: 0.2960\n",
      "Epoch 25/30\n",
      "1719/1719 [==============================] - 23s 13ms/step - loss: 1.8777 - accuracy: 0.2692 - val_loss: 1.8663 - val_accuracy: 0.2988\n",
      "Epoch 26/30\n",
      "1719/1719 [==============================] - 18s 11ms/step - loss: 1.8774 - accuracy: 0.2715 - val_loss: 1.8001 - val_accuracy: 0.3020\n",
      "Epoch 27/30\n",
      "1719/1719 [==============================] - 21s 12ms/step - loss: 1.8776 - accuracy: 0.2708 - val_loss: 1.8589 - val_accuracy: 0.2960\n",
      "Epoch 28/30\n",
      "1719/1719 [==============================] - 30s 17ms/step - loss: 1.8803 - accuracy: 0.2690 - val_loss: 1.8491 - val_accuracy: 0.2876\n",
      "Epoch 29/30\n",
      "1719/1719 [==============================] - 25s 14ms/step - loss: 1.8859 - accuracy: 0.2651 - val_loss: 1.8490 - val_accuracy: 0.2832\n",
      "Epoch 30/30\n",
      "1719/1719 [==============================] - 32s 19ms/step - loss: 1.8718 - accuracy: 0.2730 - val_loss: 1.8347 - val_accuracy: 0.2936\n"
     ]
    }
   ],
   "source": [
    "history_5 = model.fit(X_train, y_train, epochs=30,\n",
    "                    validation_data=(X_valid, y_valid))"
   ]
  },
  {
   "cell_type": "code",
   "execution_count": 91,
   "id": "e0c6d1fd",
   "metadata": {},
   "outputs": [
    {
     "name": "stdout",
     "output_type": "stream",
     "text": [
      "Saving figure keras_learning_curves_plot\n"
     ]
    },
    {
     "data": {
      "image/png": "[encoded data removed]",
      "text/plain": [
       "<Figure size 576x360 with 1 Axes>"
      ]
     },
     "metadata": {
      "needs_background": "light"
     },
     "output_type": "display_data"
    }
   ],
   "source": [
    "# Learning curve\n",
    "pd.DataFrame(history_5.history).plot(figsize=(8, 5))\n",
    "plt.grid(True)\n",
    "plt.gca().set_ylim(0, 1)\n",
    "save_fig(\"keras_learning_curves_plot\")\n",
    "plt.show()"
   ]
  },
  {
   "cell_type": "code",
   "execution_count": 92,
   "id": "00d99646",
   "metadata": {},
   "outputs": [
    {
     "name": "stdout",
     "output_type": "stream",
     "text": [
      "313/313 [==============================] - 1s 3ms/step - loss: 2.1330 - accuracy: 0.1649\n"
     ]
    }
   ],
   "source": [
    "score_4 = model.evaluate(X_test, y_test)"
   ]
  },
  {
   "cell_type": "code",
   "execution_count": 93,
   "id": "40d849a6",
   "metadata": {},
   "outputs": [
    {
     "name": "stdout",
     "output_type": "stream",
     "text": [
      "Test loss: 2.1329574584960938\n",
      "Test accuracy: 0.164900004863739\n"
     ]
    }
   ],
   "source": [
    "print('Test loss:', score_4[0]) \n",
    "print('Test accuracy:', score_4[1])"
   ]
  },
  {
   "cell_type": "markdown",
   "id": "6bee5bad",
   "metadata": {},
   "source": [
    "Well the google search turned out to be wrong and the model performed worse here, perhaps adam works better on the regression problem, need to read more about this. Next let's do grid search and see how the output is"
   ]
  },
  {
   "cell_type": "markdown",
   "id": "24594daa",
   "metadata": {},
   "source": [
    "### <u>Grid search on the best output model</u>"
   ]
  },
  {
   "cell_type": "code",
   "execution_count": 102,
   "id": "70a207d3",
   "metadata": {},
   "outputs": [],
   "source": [
    "# Clear the memory\n",
    "keras.backend.clear_session()\n",
    "np.random.seed(42)\n",
    "tf.random.set_seed(42)"
   ]
  },
  {
   "cell_type": "markdown",
   "id": "eb28e517",
   "metadata": {},
   "source": [
    "Source - https://www.kaggle.com/jserna/hyperparameters-optimization-on-fashion-mnist"
   ]
  },
  {
   "cell_type": "code",
   "execution_count": 103,
   "id": "b7aed1ca",
   "metadata": {},
   "outputs": [],
   "source": [
    "#def build_model(n_hidden=4, nu_neuron=512, learning_rate=3e-3, input_shape=[28, 28])\n",
    "def build_model(optimizer, learning_rate, activation, dropout_rate,\n",
    "                initializer,num_unit):\n",
    "    model = Sequential()\n",
    "    model.add(Flatten(input_shape=(28,28)))\n",
    "    \n",
    "    model.add(Dense(num_unit, kernel_initializer=initializer,\n",
    "                    activation=activation))\n",
    "    model.add(Dropout(dropout_rate)) \n",
    "    \n",
    "    model.add(Dense(num_unit, kernel_initializer=initializer,\n",
    "                    activation=activation))\n",
    "    model.add(Dropout(dropout_rate)) \n",
    "    \n",
    "    model.add(Dense(num_unit, kernel_initializer=initializer,\n",
    "                    activation=activation))\n",
    "    model.add(Dropout(dropout_rate))\n",
    "    \n",
    "    model.add(Dense(num_unit, kernel_initializer=initializer,\n",
    "                    activation=activation))\n",
    "    model.add(Dropout(dropout_rate))\n",
    "    \n",
    "    model.add(Dense(10, activation='softmax'))\n",
    "    model.compile(loss='sparse_categorical_crossentropy',\n",
    "                  optimizer=optimizer(lr=learning_rate),\n",
    "                  metrics=['accuracy'])\n",
    "    return model"
   ]
  },
  {
   "cell_type": "code",
   "execution_count": 110,
   "id": "3ffa9922",
   "metadata": {},
   "outputs": [],
   "source": [
    "# [:1] is for testing\n",
    "\n",
    "batch_size = [30, 50, 100][:1]\n",
    "\n",
    "epochs = [1, 20, 50][:1]\n",
    "\n",
    "initializer = ['lecun_uniform', 'normal', 'he_normal', 'he_uniform'][:1]\n",
    "\n",
    "learning_rate = [0.1, 0.001, 0.02][:1]\n",
    "\n",
    "dropout_rate = [0.3, 0.2, 0.8][:1]\n",
    "\n",
    "num_unit = [512, 300, 100][:1]\n",
    "\n",
    "activation = ['relu', 'tanh', 'sigmoid', 'hard_sigmoid', 'linear'][:1]\n",
    "\n",
    "optimizer = [keras.optimizers.SGD, keras.optimizers.RMSprop, keras.optimizers.Adagrad, \n",
    "             keras.optimizers.Adadelta, keras.optimizers.Adam, keras.optimizers.Adamax, \n",
    "             keras.optimizers.Nadam][:1]"
   ]
  },
  {
   "cell_type": "code",
   "execution_count": 111,
   "id": "5b9ece7c",
   "metadata": {},
   "outputs": [
    {
     "name": "stderr",
     "output_type": "stream",
     "text": [
      "/var/folders/kr/gtcybxvj34v71bp1q0gc41ww0000gn/T/ipykernel_55894/721556897.py:13: DeprecationWarning: KerasClassifier is deprecated, use Sci-Keras (https://github.com/adriangb/scikeras) instead.\n",
      "  model = KerasClassifier(build_fn=build_model, verbose=0)\n"
     ]
    }
   ],
   "source": [
    "# Creat the wrapper and pass params to GridSearchCV \n",
    "# parameters is a dict with all values\n",
    "\n",
    "parameters = dict(batch_size = batch_size,\n",
    "                  epochs = epochs,\n",
    "                  dropout_rate = dropout_rate,\n",
    "                  num_unit = num_unit,\n",
    "                  initializer = initializer,\n",
    "                  learning_rate = learning_rate,\n",
    "                  activation = activation,\n",
    "                  optimizer = optimizer)\n",
    "\n",
    "model = KerasClassifier(build_fn=build_model, verbose=0)\n",
    "\n",
    "models = GridSearchCV(estimator = model, param_grid=parameters, n_jobs=1)"
   ]
  },
  {
   "cell_type": "code",
   "execution_count": 114,
   "id": "eefd5728",
   "metadata": {},
   "outputs": [
    {
     "name": "stderr",
     "output_type": "stream",
     "text": [
      "/Library/Frameworks/Python.framework/Versions/3.9/lib/python3.9/site-packages/keras/optimizer_v2/gradient_descent.py:102: UserWarning: The `lr` argument is deprecated, use `learning_rate` instead.\n",
      "  super(SGD, self).__init__(name, **kwargs)\n",
      "/Library/Frameworks/Python.framework/Versions/3.9/lib/python3.9/site-packages/keras/optimizer_v2/gradient_descent.py:102: UserWarning: The `lr` argument is deprecated, use `learning_rate` instead.\n",
      "  super(SGD, self).__init__(name, **kwargs)\n",
      "/Library/Frameworks/Python.framework/Versions/3.9/lib/python3.9/site-packages/keras/optimizer_v2/gradient_descent.py:102: UserWarning: The `lr` argument is deprecated, use `learning_rate` instead.\n",
      "  super(SGD, self).__init__(name, **kwargs)\n",
      "/Library/Frameworks/Python.framework/Versions/3.9/lib/python3.9/site-packages/keras/optimizer_v2/gradient_descent.py:102: UserWarning: The `lr` argument is deprecated, use `learning_rate` instead.\n",
      "  super(SGD, self).__init__(name, **kwargs)\n",
      "/Library/Frameworks/Python.framework/Versions/3.9/lib/python3.9/site-packages/keras/optimizer_v2/gradient_descent.py:102: UserWarning: The `lr` argument is deprecated, use `learning_rate` instead.\n",
      "  super(SGD, self).__init__(name, **kwargs)\n"
     ]
    },
    {
     "name": "stdout",
     "output_type": "stream",
     "text": [
      "Best model :\n",
      "{   'activation': 'relu',\n",
      "    'batch_size': 30,\n",
      "    'dropout_rate': 0.3,\n",
      "    'epochs': 1,\n",
      "    'initializer': 'lecun_uniform',\n",
      "    'learning_rate': 0.1,\n",
      "    'num_unit': 512,\n",
      "    'optimizer': <class 'keras.optimizer_v2.gradient_descent.SGD'>}\n"
     ]
    }
   ],
   "source": [
    "best_model = models.fit(X_train, y_train)\n",
    "print('Best model :')\n",
    "pp.pprint(best_model.best_params_)"
   ]
  },
  {
   "cell_type": "code",
   "execution_count": 119,
   "id": "846bca94",
   "metadata": {},
   "outputs": [],
   "source": [
    "grid_Search_model = best_model.best_estimator_"
   ]
  },
  {
   "cell_type": "code",
   "execution_count": 120,
   "id": "97d9718c",
   "metadata": {},
   "outputs": [],
   "source": [
    "history_6 = grid_Search_model.fit(X_train, y_train, epochs=30,\n",
    "                    validation_data=(X_valid, y_valid))"
   ]
  },
  {
   "cell_type": "code",
   "execution_count": 121,
   "id": "4e43c128",
   "metadata": {},
   "outputs": [
    {
     "name": "stdout",
     "output_type": "stream",
     "text": [
      "Saving figure keras_learning_curves_plot\n"
     ]
    },
    {
     "data": {
      "image/png": "[encoded data removed]",
      "text/plain": [
       "<Figure size 576x360 with 1 Axes>"
      ]
     },
     "metadata": {
      "needs_background": "light"
     },
     "output_type": "display_data"
    }
   ],
   "source": [
    "# Learning curve\n",
    "pd.DataFrame(history_5.history).plot(figsize=(8, 5))\n",
    "plt.grid(True)\n",
    "plt.gca().set_ylim(0, 1)\n",
    "save_fig(\"keras_learning_curves_plot\")\n",
    "plt.show()"
   ]
  },
  {
   "cell_type": "markdown",
   "id": "2371ee3f",
   "metadata": {},
   "source": [
    "Something seems to be wrong with the grid search, I must have messed up somewhere, I need to do more research on this. Now let's give one last try with different layers."
   ]
  },
  {
   "cell_type": "code",
   "execution_count": null,
   "id": "e6b87de0",
   "metadata": {},
   "outputs": [],
   "source": []
  },
  {
   "cell_type": "code",
   "execution_count": 123,
   "id": "67125e3e",
   "metadata": {},
   "outputs": [],
   "source": [
    "# Clear the memory\n",
    "keras.backend.clear_session()\n",
    "np.random.seed(42)\n",
    "tf.random.set_seed(42)"
   ]
  },
  {
   "cell_type": "code",
   "execution_count": 124,
   "id": "82fbad4f",
   "metadata": {},
   "outputs": [
    {
     "name": "stdout",
     "output_type": "stream",
     "text": [
      "Epoch 1/30\n",
      "1719/1719 [==============================] - 8s 4ms/step - loss: 0.5515 - accuracy: 0.7976 - val_loss: 0.5519 - val_accuracy: 0.7954\n",
      "Epoch 2/30\n",
      "1719/1719 [==============================] - 6s 3ms/step - loss: 0.3921 - accuracy: 0.8549 - val_loss: 0.3408 - val_accuracy: 0.8772\n",
      "Epoch 3/30\n",
      "1719/1719 [==============================] - 5s 3ms/step - loss: 0.3505 - accuracy: 0.8681 - val_loss: 0.5247 - val_accuracy: 0.8050\n",
      "Epoch 4/30\n",
      "1719/1719 [==============================] - 8s 5ms/step - loss: 0.3256 - accuracy: 0.8771 - val_loss: 0.3394 - val_accuracy: 0.8722\n",
      "Epoch 5/30\n",
      "1719/1719 [==============================] - 10s 6ms/step - loss: 0.3086 - accuracy: 0.8846 - val_loss: 0.3303 - val_accuracy: 0.8782\n",
      "Epoch 6/30\n",
      "1719/1719 [==============================] - 6s 3ms/step - loss: 0.2896 - accuracy: 0.8919 - val_loss: 0.3146 - val_accuracy: 0.8848\n",
      "Epoch 7/30\n",
      "1719/1719 [==============================] - 5s 3ms/step - loss: 0.2767 - accuracy: 0.8954 - val_loss: 0.3294 - val_accuracy: 0.8826\n",
      "Epoch 8/30\n",
      "1719/1719 [==============================] - 5s 3ms/step - loss: 0.2645 - accuracy: 0.8998 - val_loss: 0.3299 - val_accuracy: 0.8788\n",
      "Epoch 9/30\n",
      "1719/1719 [==============================] - 5s 3ms/step - loss: 0.2547 - accuracy: 0.9036 - val_loss: 0.3089 - val_accuracy: 0.8898\n",
      "Epoch 10/30\n",
      "1719/1719 [==============================] - 5s 3ms/step - loss: 0.2472 - accuracy: 0.9068 - val_loss: 0.3161 - val_accuracy: 0.8860\n",
      "Epoch 11/30\n",
      "1719/1719 [==============================] - 6s 3ms/step - loss: 0.2359 - accuracy: 0.9107 - val_loss: 0.3085 - val_accuracy: 0.8936\n",
      "Epoch 12/30\n",
      "1719/1719 [==============================] - 5s 3ms/step - loss: 0.2300 - accuracy: 0.9121 - val_loss: 0.3372 - val_accuracy: 0.8794\n",
      "Epoch 13/30\n",
      "1719/1719 [==============================] - 5s 3ms/step - loss: 0.2229 - accuracy: 0.9147 - val_loss: 0.3153 - val_accuracy: 0.8884\n",
      "Epoch 14/30\n",
      "1719/1719 [==============================] - 5s 3ms/step - loss: 0.2170 - accuracy: 0.9172 - val_loss: 0.3048 - val_accuracy: 0.8912\n",
      "Epoch 15/30\n",
      "1719/1719 [==============================] - 6s 3ms/step - loss: 0.2089 - accuracy: 0.9201 - val_loss: 0.3325 - val_accuracy: 0.8830\n",
      "Epoch 16/30\n",
      "1719/1719 [==============================] - 5s 3ms/step - loss: 0.2035 - accuracy: 0.9220 - val_loss: 0.3135 - val_accuracy: 0.8906\n",
      "Epoch 17/30\n",
      "1719/1719 [==============================] - 6s 3ms/step - loss: 0.1987 - accuracy: 0.9246 - val_loss: 0.3422 - val_accuracy: 0.8842\n",
      "Epoch 18/30\n",
      "1719/1719 [==============================] - 5s 3ms/step - loss: 0.1934 - accuracy: 0.9264 - val_loss: 0.3303 - val_accuracy: 0.8850\n",
      "Epoch 19/30\n",
      "1719/1719 [==============================] - 5s 3ms/step - loss: 0.1898 - accuracy: 0.9272 - val_loss: 0.3096 - val_accuracy: 0.8946\n",
      "Epoch 20/30\n",
      "1719/1719 [==============================] - 5s 3ms/step - loss: 0.1826 - accuracy: 0.9291 - val_loss: 0.3732 - val_accuracy: 0.8782\n",
      "Epoch 21/30\n",
      "1719/1719 [==============================] - 6s 3ms/step - loss: 0.1772 - accuracy: 0.9323 - val_loss: 0.3278 - val_accuracy: 0.8938\n",
      "Epoch 22/30\n",
      "1719/1719 [==============================] - 6s 4ms/step - loss: 0.1736 - accuracy: 0.9328 - val_loss: 0.3401 - val_accuracy: 0.8888\n",
      "Epoch 23/30\n",
      "1719/1719 [==============================] - 7s 4ms/step - loss: 0.1685 - accuracy: 0.9348 - val_loss: 0.3256 - val_accuracy: 0.8936\n",
      "Epoch 24/30\n",
      "1719/1719 [==============================] - 6s 3ms/step - loss: 0.1647 - accuracy: 0.9373 - val_loss: 0.3686 - val_accuracy: 0.8892\n",
      "Epoch 25/30\n",
      "1719/1719 [==============================] - 9s 5ms/step - loss: 0.1609 - accuracy: 0.9380 - val_loss: 0.3604 - val_accuracy: 0.8966\n",
      "Epoch 26/30\n",
      "1719/1719 [==============================] - 7s 4ms/step - loss: 0.1598 - accuracy: 0.9383 - val_loss: 0.3163 - val_accuracy: 0.9014\n",
      "Epoch 27/30\n",
      "1719/1719 [==============================] - 7s 4ms/step - loss: 0.1576 - accuracy: 0.9386 - val_loss: 0.3394 - val_accuracy: 0.8924\n",
      "Epoch 28/30\n",
      "1719/1719 [==============================] - 8s 4ms/step - loss: 0.1505 - accuracy: 0.9427 - val_loss: 0.3478 - val_accuracy: 0.8916\n",
      "Epoch 29/30\n",
      "1719/1719 [==============================] - 9s 5ms/step - loss: 0.1485 - accuracy: 0.9428 - val_loss: 0.3559 - val_accuracy: 0.8948\n",
      "Epoch 30/30\n",
      "1719/1719 [==============================] - 9s 5ms/step - loss: 0.1427 - accuracy: 0.9449 - val_loss: 0.3718 - val_accuracy: 0.8896\n"
     ]
    }
   ],
   "source": [
    "model = keras.models.Sequential([\n",
    "    keras.layers.Flatten(input_shape=[28, 28]),\n",
    "    keras.layers.Dense(300, activation=\"relu\"),\n",
    "    keras.layers.Dense(100, activation=\"relu\"),\n",
    "    keras.layers.Dense(100, activation=\"relu\"),\n",
    "    keras.layers.Dense(10, activation=\"softmax\")\n",
    "])\n",
    "model.compile(loss=\"sparse_categorical_crossentropy\",\n",
    "              optimizer=keras.optimizers.SGD(learning_rate=0.1),\n",
    "              metrics=[\"accuracy\"])\n",
    "history_6 = model.fit(X_train, y_train, epochs=30,\n",
    "                    validation_data=(X_valid, y_valid))\n"
   ]
  },
  {
   "cell_type": "code",
   "execution_count": 143,
   "id": "9326124c",
   "metadata": {},
   "outputs": [
    {
     "name": "stdout",
     "output_type": "stream",
     "text": [
      "Model: \"sequential_1\"\n",
      "_________________________________________________________________\n",
      " Layer (type)                Output Shape              Param #   \n",
      "=================================================================\n",
      " flatten_1 (Flatten)         (None, 784)               0         \n",
      "                                                                 \n",
      " dense_4 (Dense)             (None, 300)               235500    \n",
      "                                                                 \n",
      " dense_5 (Dense)             (None, 100)               30100     \n",
      "                                                                 \n",
      " dense_6 (Dense)             (None, 100)               10100     \n",
      "                                                                 \n",
      " dense_7 (Dense)             (None, 10)                1010      \n",
      "                                                                 \n",
      "=================================================================\n",
      "Total params: 276,710\n",
      "Trainable params: 276,710\n",
      "Non-trainable params: 0\n",
      "_________________________________________________________________\n"
     ]
    }
   ],
   "source": [
    "model.summary()"
   ]
  },
  {
   "cell_type": "code",
   "execution_count": 125,
   "id": "64e93ea9",
   "metadata": {},
   "outputs": [
    {
     "name": "stdout",
     "output_type": "stream",
     "text": [
      "Saving figure keras_learning_curves_plot\n"
     ]
    },
    {
     "data": {
      "image/png": "[encoded data removed]",
      "text/plain": [
       "<Figure size 576x360 with 1 Axes>"
      ]
     },
     "metadata": {
      "needs_background": "light"
     },
     "output_type": "display_data"
    }
   ],
   "source": [
    "# Learning curve\n",
    "pd.DataFrame(history_6.history).plot(figsize=(8, 5))\n",
    "plt.grid(True)\n",
    "plt.gca().set_ylim(0, 1)\n",
    "save_fig(\"keras_learning_curves_plot\")\n",
    "plt.show()"
   ]
  },
  {
   "cell_type": "code",
   "execution_count": 126,
   "id": "04fed639",
   "metadata": {},
   "outputs": [
    {
     "name": "stdout",
     "output_type": "stream",
     "text": [
      "313/313 [==============================] - 1s 3ms/step - loss: 0.4091 - accuracy: 0.8843\n"
     ]
    }
   ],
   "source": [
    "score_6 = model.evaluate(X_test, y_test)"
   ]
  },
  {
   "cell_type": "code",
   "execution_count": 127,
   "id": "83017021",
   "metadata": {},
   "outputs": [
    {
     "name": "stdout",
     "output_type": "stream",
     "text": [
      "Test loss: 0.4091496467590332\n",
      "Test accuracy: 0.8842999935150146\n"
     ]
    }
   ],
   "source": [
    "print('Test loss:', score_6[0]) \n",
    "print('Test accuracy:', score_6[1])"
   ]
  },
  {
   "cell_type": "markdown",
   "id": "cc1c0bd8",
   "metadata": {},
   "source": [
    "### So far the best accuracy we acheived was 88.42% after trying mulitple steps for hyperparameter tuning. "
   ]
  },
  {
   "cell_type": "markdown",
   "id": "bd898b74",
   "metadata": {},
   "source": [
    "So far, we tried tweaking the layers, neurons, activation functions, optimizer, learning rate, batch size and grid search."
   ]
  },
  {
   "cell_type": "code",
   "execution_count": null,
   "id": "713cbd9e",
   "metadata": {},
   "outputs": [],
   "source": []
  },
  {
   "cell_type": "code",
   "execution_count": null,
   "id": "15ba7ed7",
   "metadata": {},
   "outputs": [],
   "source": []
  }
 ],
 "metadata": {
  "kernelspec": {
   "display_name": "Python 3 (ipykernel)",
   "language": "python",
   "name": "python3"
  },
  "language_info": {
   "codemirror_mode": {
    "name": "ipython",
    "version": 3
   },
   "file_extension": ".py",
   "mimetype": "text/x-python",
   "name": "python",
   "nbconvert_exporter": "python",
   "pygments_lexer": "ipython3",
   "version": "3.9.7"
  }
 },
 "nbformat": 4,
 "nbformat_minor": 5
}
